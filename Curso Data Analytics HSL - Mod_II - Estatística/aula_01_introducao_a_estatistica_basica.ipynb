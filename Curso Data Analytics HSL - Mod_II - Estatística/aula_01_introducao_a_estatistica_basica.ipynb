{
 "cells": [
  {
   "cell_type": "markdown",
   "metadata": {},
   "source": [
    "**Curso de Data Analytics Hospital Sírio-Libanês**\n",
    "\n",
    "**Módulo II**: Aula 1 - Introdução à Estatística Básica\n",
    "\n",
    "__Autores/Instrutores__:\n",
    "\n",
    "* __Osvaldo Pereira__ - https://www.linkedin.com/in/osvaldo-pereira-7502152a/\n",
    "* __Rodrigo San Martin__ - https://www.linkedin.com/in/rodrigosan-martin/\n",
    "\n",
    "**Referências**\n",
    "\n",
    "* https://www.edureka.co/blog/math-and-statistics-for-data-science/\n",
    "* https://github.com/r0f1/datascience\n",
    "* http://benalexkeen.com/basic-statistics-in-python/\n",
    "* https://www.dataquest.io/blog/basic-statistics-with-python-descriptive-statistics/\n",
    "* https://realpython.com/python-statistics/\n",
    "* Representação de dados: https://scipy-lectures.org/packages/statistics/index.html#data-representation-and-interaction\n",
    "* Aplicações de estatística descritiva: https://www.datacamp.com/community/tutorials/demystifying-crucial-statistics-python\n",
    "* https://www.datacamp.com/community/tutorials/demystifying-crucial-statistics-python"
   ]
  },
  {
   "cell_type": "markdown",
   "metadata": {},
   "source": [
    "# O Módulo de Estatística Básica"
   ]
  },
  {
   "cell_type": "markdown",
   "metadata": {},
   "source": [
    "No Módulo I do Curso de Data Analytics, passamos por uma **introdução à manipulação de dados** com *Python* e *Pandas* utilizando o *Jupyter notebook* e o *Google Colab*. Chegando ao **Módulo de Estatística**, vamos ampliar nossa caixa de ferramentas para realizamos investigação e solução de problemas quantitativos e qualitativos através de análise exploratória de dados utilizando especialmente **estatística descritiva**, mas também introduzindo geração de hipóteses e estatística inferencial."
   ]
  },
  {
   "cell_type": "markdown",
   "metadata": {},
   "source": [
    "# Dataset I - Instrucional\n",
    "\n",
    "Nesta aula de estatística iremos utilizar alguns datasets como apoio didático para demonstrar alguns tipos de análises. O primeiro dataset que vamos apresentar é o **\"dataset instrucional\"** que foi construído por nós, os instrutores Osvaldo e Rodrigo, sendo um **dataset artificial**, com *dados sintéticos* com o objetivo de **ilustrar os tipos de informações** que uma **tabela de dados** pode conter."
   ]
  },
  {
   "cell_type": "code",
   "execution_count": 1,
   "metadata": {
    "ExecuteTime": {
     "end_time": "2020-06-29T19:37:05.926235Z",
     "start_time": "2020-06-29T19:37:04.007276Z"
    }
   },
   "outputs": [],
   "source": [
    "# Como vamos utilizar um método do pandas para ler arquivos csv (read_csv),\n",
    "# logo precisamos fazer sua importação prévia\n",
    "import pandas as pd\n",
    "\n",
    "# Importando a arquivo .csv como um dataframe do pandas\n",
    "df1 = pd.read_csv('dataset_instrucional.csv',encoding='ISO-8859-1',delimiter=';',low_memory = False)\n",
    "# Documentação completa: https://pandas.pydata.org/pandas-docs/stable/reference/api/pandas.read_csv.html\n",
    "\n",
    "# A documentação também pode ser acessada ao adicionar um \"?\" após a chamada\n",
    "pd.read_csv?"
   ]
  },
  {
   "cell_type": "markdown",
   "metadata": {},
   "source": [
    "Sempre que importamos um arquivo com o pandas (ou com qualquer outra biblioteca), é uma **boa prática avaliar a consistência**, realizando uma análise rápida de qualidade. Também fazemos uma **observação inicial das variáveis** que compõe o dataset, já **pensando no problema que precisamos resolver**."
   ]
  },
  {
   "cell_type": "code",
   "execution_count": 2,
   "metadata": {
    "ExecuteTime": {
     "end_time": "2020-06-29T19:37:05.942092Z",
     "start_time": "2020-06-29T19:37:05.928088Z"
    }
   },
   "outputs": [
    {
     "data": {
      "text/plain": [
       "(100, 11)"
      ]
     },
     "execution_count": 2,
     "metadata": {},
     "output_type": "execute_result"
    }
   ],
   "source": [
    "# Avaliamos o \"shape\", que indica o número de linhas e colunas\n",
    "df1.shape"
   ]
  },
  {
   "cell_type": "code",
   "execution_count": 3,
   "metadata": {
    "ExecuteTime": {
     "end_time": "2020-06-29T19:37:06.101576Z",
     "start_time": "2020-06-29T19:37:05.945089Z"
    }
   },
   "outputs": [
    {
     "data": {
      "text/plain": [
       "ID                  int64\n",
       "nominal_1          object\n",
       "nominal_2          object\n",
       "var_continua_1    float64\n",
       "var_continua_2    float64\n",
       "var_discreta_1      int64\n",
       "var_discreta_2      int64\n",
       "flag_1              int64\n",
       "flag_2              int64\n",
       "peso_1            float64\n",
       "peso_2            float64\n",
       "dtype: object"
      ]
     },
     "execution_count": 3,
     "metadata": {},
     "output_type": "execute_result"
    }
   ],
   "source": [
    "# Em seguida podemos observar o tipo atribuído pelo pandas a cada uma das variáveis.\n",
    "df1.dtypes"
   ]
  },
  {
   "cell_type": "code",
   "execution_count": 4,
   "metadata": {
    "ExecuteTime": {
     "end_time": "2020-06-29T19:37:06.211198Z",
     "start_time": "2020-06-29T19:37:06.105568Z"
    }
   },
   "outputs": [
    {
     "name": "stdout",
     "output_type": "stream",
     "text": [
      "<class 'pandas.core.frame.DataFrame'>\n",
      "RangeIndex: 100 entries, 0 to 99\n",
      "Data columns (total 11 columns):\n",
      " #   Column          Non-Null Count  Dtype  \n",
      "---  ------          --------------  -----  \n",
      " 0   ID              100 non-null    int64  \n",
      " 1   nominal_1       100 non-null    object \n",
      " 2   nominal_2       100 non-null    object \n",
      " 3   var_continua_1  100 non-null    float64\n",
      " 4   var_continua_2  100 non-null    float64\n",
      " 5   var_discreta_1  100 non-null    int64  \n",
      " 6   var_discreta_2  100 non-null    int64  \n",
      " 7   flag_1          100 non-null    int64  \n",
      " 8   flag_2          100 non-null    int64  \n",
      " 9   peso_1          100 non-null    float64\n",
      " 10  peso_2          100 non-null    float64\n",
      "dtypes: float64(4), int64(5), object(2)\n",
      "memory usage: 8.7+ KB\n"
     ]
    }
   ],
   "source": [
    "# Podemos utilizar o método .info() para uma descrição técnica mais completa, \n",
    "# contendo inclusive a memória utilizada por este dataframe.\n",
    "df1.info()"
   ]
  },
  {
   "cell_type": "code",
   "execution_count": 5,
   "metadata": {
    "ExecuteTime": {
     "end_time": "2020-06-29T19:37:06.351365Z",
     "start_time": "2020-06-29T19:37:06.215196Z"
    }
   },
   "outputs": [
    {
     "data": {
      "text/html": [
       "<div>\n",
       "<style scoped>\n",
       "    .dataframe tbody tr th:only-of-type {\n",
       "        vertical-align: middle;\n",
       "    }\n",
       "\n",
       "    .dataframe tbody tr th {\n",
       "        vertical-align: top;\n",
       "    }\n",
       "\n",
       "    .dataframe thead th {\n",
       "        text-align: right;\n",
       "    }\n",
       "</style>\n",
       "<table border=\"1\" class=\"dataframe\">\n",
       "  <thead>\n",
       "    <tr style=\"text-align: right;\">\n",
       "      <th></th>\n",
       "      <th>ID</th>\n",
       "      <th>nominal_1</th>\n",
       "      <th>nominal_2</th>\n",
       "      <th>var_continua_1</th>\n",
       "      <th>var_continua_2</th>\n",
       "      <th>var_discreta_1</th>\n",
       "      <th>var_discreta_2</th>\n",
       "      <th>flag_1</th>\n",
       "      <th>flag_2</th>\n",
       "      <th>peso_1</th>\n",
       "      <th>peso_2</th>\n",
       "    </tr>\n",
       "  </thead>\n",
       "  <tbody>\n",
       "    <tr>\n",
       "      <th>0</th>\n",
       "      <td>1</td>\n",
       "      <td>C</td>\n",
       "      <td>X</td>\n",
       "      <td>52.1</td>\n",
       "      <td>18.2</td>\n",
       "      <td>4</td>\n",
       "      <td>47</td>\n",
       "      <td>0</td>\n",
       "      <td>5</td>\n",
       "      <td>0.010302</td>\n",
       "      <td>0.000368</td>\n",
       "    </tr>\n",
       "    <tr>\n",
       "      <th>1</th>\n",
       "      <td>2</td>\n",
       "      <td>C</td>\n",
       "      <td>Y</td>\n",
       "      <td>41.5</td>\n",
       "      <td>886.7</td>\n",
       "      <td>9</td>\n",
       "      <td>50</td>\n",
       "      <td>1</td>\n",
       "      <td>2</td>\n",
       "      <td>0.008206</td>\n",
       "      <td>0.017923</td>\n",
       "    </tr>\n",
       "    <tr>\n",
       "      <th>2</th>\n",
       "      <td>3</td>\n",
       "      <td>D</td>\n",
       "      <td>Y</td>\n",
       "      <td>55.2</td>\n",
       "      <td>563.7</td>\n",
       "      <td>8</td>\n",
       "      <td>96</td>\n",
       "      <td>1</td>\n",
       "      <td>5</td>\n",
       "      <td>0.010915</td>\n",
       "      <td>0.011394</td>\n",
       "    </tr>\n",
       "    <tr>\n",
       "      <th>3</th>\n",
       "      <td>4</td>\n",
       "      <td>B</td>\n",
       "      <td>Y</td>\n",
       "      <td>85.4</td>\n",
       "      <td>884.2</td>\n",
       "      <td>1</td>\n",
       "      <td>41</td>\n",
       "      <td>0</td>\n",
       "      <td>3</td>\n",
       "      <td>0.016887</td>\n",
       "      <td>0.017873</td>\n",
       "    </tr>\n",
       "    <tr>\n",
       "      <th>4</th>\n",
       "      <td>5</td>\n",
       "      <td>C</td>\n",
       "      <td>Y</td>\n",
       "      <td>77.6</td>\n",
       "      <td>859.0</td>\n",
       "      <td>4</td>\n",
       "      <td>95</td>\n",
       "      <td>1</td>\n",
       "      <td>2</td>\n",
       "      <td>0.015344</td>\n",
       "      <td>0.017363</td>\n",
       "    </tr>\n",
       "  </tbody>\n",
       "</table>\n",
       "</div>"
      ],
      "text/plain": [
       "   ID nominal_1 nominal_2  var_continua_1  var_continua_2  var_discreta_1  \\\n",
       "0   1         C         X            52.1            18.2               4   \n",
       "1   2         C         Y            41.5           886.7               9   \n",
       "2   3         D         Y            55.2           563.7               8   \n",
       "3   4         B         Y            85.4           884.2               1   \n",
       "4   5         C         Y            77.6           859.0               4   \n",
       "\n",
       "   var_discreta_2  flag_1  flag_2    peso_1    peso_2  \n",
       "0              47       0       5  0.010302  0.000368  \n",
       "1              50       1       2  0.008206  0.017923  \n",
       "2              96       1       5  0.010915  0.011394  \n",
       "3              41       0       3  0.016887  0.017873  \n",
       "4              95       1       2  0.015344  0.017363  "
      ]
     },
     "execution_count": 5,
     "metadata": {},
     "output_type": "execute_result"
    }
   ],
   "source": [
    "# Observamos a \"cara\" dos dados do dataset, mostrando as primeiras linhas.\n",
    "df1.head()"
   ]
  },
  {
   "cell_type": "code",
   "execution_count": 6,
   "metadata": {
    "ExecuteTime": {
     "end_time": "2020-06-29T19:37:06.558364Z",
     "start_time": "2020-06-29T19:37:06.354363Z"
    }
   },
   "outputs": [
    {
     "data": {
      "text/html": [
       "<div>\n",
       "<style scoped>\n",
       "    .dataframe tbody tr th:only-of-type {\n",
       "        vertical-align: middle;\n",
       "    }\n",
       "\n",
       "    .dataframe tbody tr th {\n",
       "        vertical-align: top;\n",
       "    }\n",
       "\n",
       "    .dataframe thead th {\n",
       "        text-align: right;\n",
       "    }\n",
       "</style>\n",
       "<table border=\"1\" class=\"dataframe\">\n",
       "  <thead>\n",
       "    <tr style=\"text-align: right;\">\n",
       "      <th></th>\n",
       "      <th>ID</th>\n",
       "      <th>var_continua_1</th>\n",
       "      <th>var_continua_2</th>\n",
       "      <th>var_discreta_1</th>\n",
       "      <th>var_discreta_2</th>\n",
       "      <th>flag_1</th>\n",
       "      <th>flag_2</th>\n",
       "      <th>peso_1</th>\n",
       "      <th>peso_2</th>\n",
       "    </tr>\n",
       "  </thead>\n",
       "  <tbody>\n",
       "    <tr>\n",
       "      <th>count</th>\n",
       "      <td>100.000000</td>\n",
       "      <td>100.000000</td>\n",
       "      <td>100.000000</td>\n",
       "      <td>100.000000</td>\n",
       "      <td>100.000000</td>\n",
       "      <td>100.000000</td>\n",
       "      <td>100.000000</td>\n",
       "      <td>100.000000</td>\n",
       "      <td>100.000000</td>\n",
       "    </tr>\n",
       "    <tr>\n",
       "      <th>mean</th>\n",
       "      <td>50.500000</td>\n",
       "      <td>50.572000</td>\n",
       "      <td>494.719000</td>\n",
       "      <td>5.080000</td>\n",
       "      <td>70.610000</td>\n",
       "      <td>0.480000</td>\n",
       "      <td>3.020000</td>\n",
       "      <td>0.010000</td>\n",
       "      <td>0.010000</td>\n",
       "    </tr>\n",
       "    <tr>\n",
       "      <th>std</th>\n",
       "      <td>29.011492</td>\n",
       "      <td>29.177846</td>\n",
       "      <td>296.574858</td>\n",
       "      <td>2.883881</td>\n",
       "      <td>17.887355</td>\n",
       "      <td>0.502117</td>\n",
       "      <td>1.490576</td>\n",
       "      <td>0.005770</td>\n",
       "      <td>0.005995</td>\n",
       "    </tr>\n",
       "    <tr>\n",
       "      <th>min</th>\n",
       "      <td>1.000000</td>\n",
       "      <td>2.400000</td>\n",
       "      <td>4.600000</td>\n",
       "      <td>1.000000</td>\n",
       "      <td>40.000000</td>\n",
       "      <td>0.000000</td>\n",
       "      <td>1.000000</td>\n",
       "      <td>0.000475</td>\n",
       "      <td>0.000093</td>\n",
       "    </tr>\n",
       "    <tr>\n",
       "      <th>25%</th>\n",
       "      <td>25.750000</td>\n",
       "      <td>25.100000</td>\n",
       "      <td>232.475000</td>\n",
       "      <td>2.000000</td>\n",
       "      <td>53.750000</td>\n",
       "      <td>0.000000</td>\n",
       "      <td>2.000000</td>\n",
       "      <td>0.004963</td>\n",
       "      <td>0.004699</td>\n",
       "    </tr>\n",
       "    <tr>\n",
       "      <th>50%</th>\n",
       "      <td>50.500000</td>\n",
       "      <td>54.650000</td>\n",
       "      <td>503.750000</td>\n",
       "      <td>5.000000</td>\n",
       "      <td>73.000000</td>\n",
       "      <td>0.000000</td>\n",
       "      <td>3.000000</td>\n",
       "      <td>0.010806</td>\n",
       "      <td>0.010183</td>\n",
       "    </tr>\n",
       "    <tr>\n",
       "      <th>75%</th>\n",
       "      <td>75.250000</td>\n",
       "      <td>75.550000</td>\n",
       "      <td>727.000000</td>\n",
       "      <td>8.000000</td>\n",
       "      <td>88.000000</td>\n",
       "      <td>1.000000</td>\n",
       "      <td>4.000000</td>\n",
       "      <td>0.014939</td>\n",
       "      <td>0.014695</td>\n",
       "    </tr>\n",
       "    <tr>\n",
       "      <th>max</th>\n",
       "      <td>100.000000</td>\n",
       "      <td>97.400000</td>\n",
       "      <td>981.800000</td>\n",
       "      <td>10.000000</td>\n",
       "      <td>100.000000</td>\n",
       "      <td>1.000000</td>\n",
       "      <td>5.000000</td>\n",
       "      <td>0.019260</td>\n",
       "      <td>0.019846</td>\n",
       "    </tr>\n",
       "  </tbody>\n",
       "</table>\n",
       "</div>"
      ],
      "text/plain": [
       "               ID  var_continua_1  var_continua_2  var_discreta_1  \\\n",
       "count  100.000000      100.000000      100.000000      100.000000   \n",
       "mean    50.500000       50.572000      494.719000        5.080000   \n",
       "std     29.011492       29.177846      296.574858        2.883881   \n",
       "min      1.000000        2.400000        4.600000        1.000000   \n",
       "25%     25.750000       25.100000      232.475000        2.000000   \n",
       "50%     50.500000       54.650000      503.750000        5.000000   \n",
       "75%     75.250000       75.550000      727.000000        8.000000   \n",
       "max    100.000000       97.400000      981.800000       10.000000   \n",
       "\n",
       "       var_discreta_2      flag_1      flag_2      peso_1      peso_2  \n",
       "count      100.000000  100.000000  100.000000  100.000000  100.000000  \n",
       "mean        70.610000    0.480000    3.020000    0.010000    0.010000  \n",
       "std         17.887355    0.502117    1.490576    0.005770    0.005995  \n",
       "min         40.000000    0.000000    1.000000    0.000475    0.000093  \n",
       "25%         53.750000    0.000000    2.000000    0.004963    0.004699  \n",
       "50%         73.000000    0.000000    3.000000    0.010806    0.010183  \n",
       "75%         88.000000    1.000000    4.000000    0.014939    0.014695  \n",
       "max        100.000000    1.000000    5.000000    0.019260    0.019846  "
      ]
     },
     "execution_count": 6,
     "metadata": {},
     "output_type": "execute_result"
    }
   ],
   "source": [
    "# Também podemos facilmente avaliar a estatística descritiva de algumas variáveis\n",
    "df1.describe()"
   ]
  },
  {
   "cell_type": "code",
   "execution_count": 7,
   "metadata": {
    "ExecuteTime": {
     "end_time": "2020-06-29T19:37:11.819930Z",
     "start_time": "2020-06-29T19:37:06.560366Z"
    }
   },
   "outputs": [
    {
     "data": {
      "image/png": "[encoded data removed]",
      "text/plain": [
       "<Figure size 1152x1152 with 16 Axes>"
      ]
     },
     "metadata": {
      "needs_background": "light"
     },
     "output_type": "display_data"
    }
   ],
   "source": [
    "# O pandas também nos possibilita plotar variáveis numéricas e avaliar possíveis associações entre elas.\n",
    "from pandas.plotting import scatter_matrix\n",
    "\n",
    "df1_aux = df1[['var_continua_1', 'var_continua_2', 'var_discreta_1', 'var_discreta_2']]\n",
    "\n",
    "scatter_matrix(df1_aux, alpha = 1, figsize = (16, 16));"
   ]
  },
  {
   "cell_type": "code",
   "execution_count": 8,
   "metadata": {
    "ExecuteTime": {
     "end_time": "2020-06-29T19:37:11.835926Z",
     "start_time": "2020-06-29T19:37:11.824927Z"
    }
   },
   "outputs": [],
   "source": [
    "# Por quê plotamos apenas as 4 variáveis no gráfico acima?\n",
    "#scatter_matrix(df1, alpha = 1, figsize = (16, 16));"
   ]
  },
  {
   "cell_type": "markdown",
   "metadata": {},
   "source": [
    "# Dataset II - Medicina da Família\n",
    "\n",
    "Este segundo dataset é uma base sintética que foi criada em um projeto real de Data Science no qual um hospital oferece o serviço de **medicina da família** para o **cuidado primário** de seus clientes. Cada cliente possui uma quantidade específica de colaboradores e em cada unidade são alocados **médicos da família** para cuidar desses colaboradores. Cada médico da família possui uma **carteira com colaboradores** que tem seu **risco ponderado por um score**, dessa forma é possível avaliar a evolução dos indicadores de saúde de cada colaborador e das carteiras dos médicos como um todo."
   ]
  },
  {
   "cell_type": "code",
   "execution_count": 9,
   "metadata": {
    "ExecuteTime": {
     "end_time": "2020-06-29T19:37:13.442632Z",
     "start_time": "2020-06-29T19:37:11.838928Z"
    }
   },
   "outputs": [],
   "source": [
    "df2 = pd.read_csv('carteira_medicina_familia_sintetica.csv',encoding='ISO-8859-1',delimiter=';',low_memory = False)"
   ]
  },
  {
   "cell_type": "code",
   "execution_count": 10,
   "metadata": {
    "ExecuteTime": {
     "end_time": "2020-06-29T19:37:13.457634Z",
     "start_time": "2020-06-29T19:37:13.445634Z"
    }
   },
   "outputs": [
    {
     "data": {
      "text/plain": [
       "(190000, 46)"
      ]
     },
     "execution_count": 10,
     "metadata": {},
     "output_type": "execute_result"
    }
   ],
   "source": [
    "df2.shape"
   ]
  },
  {
   "cell_type": "code",
   "execution_count": 11,
   "metadata": {
    "ExecuteTime": {
     "end_time": "2020-06-29T19:37:13.648802Z",
     "start_time": "2020-06-29T19:37:13.461634Z"
    }
   },
   "outputs": [
    {
     "data": {
      "text/plain": [
       "id_patient              int64\n",
       "age_years             float64\n",
       "sex                     int64\n",
       "number_of_children      int64\n",
       "flag_married            int64\n",
       "bmi_kg_m2             float64\n",
       "height_cm             float64\n",
       "weight_kg             float64\n",
       "hdl_mg_dl             float64\n",
       "ldl_mg_dl             float64\n",
       "dtype: object"
      ]
     },
     "execution_count": 11,
     "metadata": {},
     "output_type": "execute_result"
    }
   ],
   "source": [
    "df2.dtypes[:10]"
   ]
  },
  {
   "cell_type": "code",
   "execution_count": 12,
   "metadata": {
    "ExecuteTime": {
     "end_time": "2020-06-29T19:37:13.901712Z",
     "start_time": "2020-06-29T19:37:13.650715Z"
    }
   },
   "outputs": [
    {
     "name": "stdout",
     "output_type": "stream",
     "text": [
      "<class 'pandas.core.frame.DataFrame'>\n",
      "RangeIndex: 190000 entries, 0 to 189999\n",
      "Data columns (total 46 columns):\n",
      " #   Column                              Non-Null Count   Dtype  \n",
      "---  ------                              --------------   -----  \n",
      " 0   id_patient                          190000 non-null  int64  \n",
      " 1   age_years                           190000 non-null  float64\n",
      " 2   sex                                 190000 non-null  int64  \n",
      " 3   number_of_children                  190000 non-null  int64  \n",
      " 4   flag_married                        190000 non-null  int64  \n",
      " 5   bmi_kg_m2                           190000 non-null  float64\n",
      " 6   height_cm                           190000 non-null  float64\n",
      " 7   weight_kg                           190000 non-null  float64\n",
      " 8   hdl_mg_dl                           190000 non-null  float64\n",
      " 9   ldl_mg_dl                           190000 non-null  float64\n",
      " 10  non_hdl_mg_dl                       190000 non-null  float64\n",
      " 11  total_cholesterol_mg_dl             190000 non-null  float64\n",
      " 12  trygliceride_mg_dl                  190000 non-null  float64\n",
      " 13  ratio_total_cholesterol_hdl         190000 non-null  float64\n",
      " 14  fast_blood_sugar_mg_dl              190000 non-null  float64\n",
      " 15  systolic_bp_mm_hg                   190000 non-null  float64\n",
      " 16  diastolic_bp_mm_hg                  190000 non-null  float64\n",
      " 17  flag_smokes                         190000 non-null  int64  \n",
      " 18  flag_drinks                         190000 non-null  int64  \n",
      " 19  flag_family_mental_ilness           190000 non-null  int64  \n",
      " 20  flag_family_diabetes                190000 non-null  int64  \n",
      " 21  flag_family_cardiovascular_disease  190000 non-null  int64  \n",
      " 22  flag_anxiety_episodes               190000 non-null  int64  \n",
      " 23  sum_flag_med_profile                190000 non-null  int64  \n",
      " 24  avg_flag_med_profile                190000 non-null  float64\n",
      " 25  target_flag_med_profile             190000 non-null  int64  \n",
      " 26  cluster                             190000 non-null  object \n",
      " 27  carhill_score                       190000 non-null  float64\n",
      " 28  index_bmi                           190000 non-null  int64  \n",
      " 29  index_diabetes                      190000 non-null  int64  \n",
      " 30  index_total_cholesterol             190000 non-null  int64  \n",
      " 31  index_hdl_cholesterol               190000 non-null  int64  \n",
      " 32  index_non_hdl_cholesterol           190000 non-null  int64  \n",
      " 33  index_ldl_cholesterol               190000 non-null  int64  \n",
      " 34  index_tryglicerides                 190000 non-null  int64  \n",
      " 35  index_ratio_total_cholest_hdl       190000 non-null  int64  \n",
      " 36  index_systolic_blood_pressure       190000 non-null  int64  \n",
      " 37  index_diastolic_blood_pressure      190000 non-null  int64  \n",
      " 38  index_blood_pressure                190000 non-null  int64  \n",
      " 39  sum_index_disease                   190000 non-null  int64  \n",
      " 40  avg_index_disease                   190000 non-null  float64\n",
      " 41  target_index_disease                190000 non-null  int64  \n",
      " 42  clients                             190000 non-null  object \n",
      " 43  unidade                             190000 non-null  object \n",
      " 44  mfc                                 190000 non-null  object \n",
      " 45  new_score                           190000 non-null  float64\n",
      "dtypes: float64(17), int64(25), object(4)\n",
      "memory usage: 66.7+ MB\n"
     ]
    }
   ],
   "source": [
    "df2.info()"
   ]
  },
  {
   "cell_type": "code",
   "execution_count": 13,
   "metadata": {
    "ExecuteTime": {
     "end_time": "2020-06-29T19:37:14.075333Z",
     "start_time": "2020-06-29T19:37:13.903711Z"
    }
   },
   "outputs": [
    {
     "data": {
      "text/html": [
       "<div>\n",
       "<style scoped>\n",
       "    .dataframe tbody tr th:only-of-type {\n",
       "        vertical-align: middle;\n",
       "    }\n",
       "\n",
       "    .dataframe tbody tr th {\n",
       "        vertical-align: top;\n",
       "    }\n",
       "\n",
       "    .dataframe thead th {\n",
       "        text-align: right;\n",
       "    }\n",
       "</style>\n",
       "<table border=\"1\" class=\"dataframe\">\n",
       "  <thead>\n",
       "    <tr style=\"text-align: right;\">\n",
       "      <th></th>\n",
       "      <th>id_patient</th>\n",
       "      <th>age_years</th>\n",
       "      <th>sex</th>\n",
       "      <th>number_of_children</th>\n",
       "      <th>flag_married</th>\n",
       "      <th>bmi_kg_m2</th>\n",
       "      <th>height_cm</th>\n",
       "      <th>weight_kg</th>\n",
       "      <th>hdl_mg_dl</th>\n",
       "      <th>ldl_mg_dl</th>\n",
       "      <th>...</th>\n",
       "      <th>index_systolic_blood_pressure</th>\n",
       "      <th>index_diastolic_blood_pressure</th>\n",
       "      <th>index_blood_pressure</th>\n",
       "      <th>sum_index_disease</th>\n",
       "      <th>avg_index_disease</th>\n",
       "      <th>target_index_disease</th>\n",
       "      <th>clients</th>\n",
       "      <th>unidade</th>\n",
       "      <th>mfc</th>\n",
       "      <th>new_score</th>\n",
       "    </tr>\n",
       "  </thead>\n",
       "  <tbody>\n",
       "    <tr>\n",
       "      <th>189995</th>\n",
       "      <td>189996</td>\n",
       "      <td>37.477772</td>\n",
       "      <td>2</td>\n",
       "      <td>1</td>\n",
       "      <td>0</td>\n",
       "      <td>26.719491</td>\n",
       "      <td>176.665201</td>\n",
       "      <td>83.393115</td>\n",
       "      <td>36.669664</td>\n",
       "      <td>201.096868</td>\n",
       "      <td>...</td>\n",
       "      <td>1</td>\n",
       "      <td>2</td>\n",
       "      <td>3</td>\n",
       "      <td>34</td>\n",
       "      <td>3.090909</td>\n",
       "      <td>1</td>\n",
       "      <td>client05</td>\n",
       "      <td>un17</td>\n",
       "      <td>mfc56</td>\n",
       "      <td>0.625730</td>\n",
       "    </tr>\n",
       "    <tr>\n",
       "      <th>189996</th>\n",
       "      <td>189997</td>\n",
       "      <td>29.728572</td>\n",
       "      <td>2</td>\n",
       "      <td>0</td>\n",
       "      <td>1</td>\n",
       "      <td>27.589891</td>\n",
       "      <td>168.046891</td>\n",
       "      <td>77.913183</td>\n",
       "      <td>37.398074</td>\n",
       "      <td>201.755727</td>\n",
       "      <td>...</td>\n",
       "      <td>3</td>\n",
       "      <td>3</td>\n",
       "      <td>3</td>\n",
       "      <td>36</td>\n",
       "      <td>3.272727</td>\n",
       "      <td>1</td>\n",
       "      <td>client04</td>\n",
       "      <td>un13</td>\n",
       "      <td>mfc47</td>\n",
       "      <td>0.990622</td>\n",
       "    </tr>\n",
       "    <tr>\n",
       "      <th>189997</th>\n",
       "      <td>189998</td>\n",
       "      <td>35.623458</td>\n",
       "      <td>2</td>\n",
       "      <td>1</td>\n",
       "      <td>1</td>\n",
       "      <td>28.977089</td>\n",
       "      <td>175.010296</td>\n",
       "      <td>88.752778</td>\n",
       "      <td>39.300882</td>\n",
       "      <td>202.546749</td>\n",
       "      <td>...</td>\n",
       "      <td>2</td>\n",
       "      <td>2</td>\n",
       "      <td>3</td>\n",
       "      <td>34</td>\n",
       "      <td>3.090909</td>\n",
       "      <td>1</td>\n",
       "      <td>client02</td>\n",
       "      <td>un04</td>\n",
       "      <td>mfc05</td>\n",
       "      <td>0.950332</td>\n",
       "    </tr>\n",
       "    <tr>\n",
       "      <th>189998</th>\n",
       "      <td>189999</td>\n",
       "      <td>33.695617</td>\n",
       "      <td>2</td>\n",
       "      <td>0</td>\n",
       "      <td>1</td>\n",
       "      <td>33.714442</td>\n",
       "      <td>174.531355</td>\n",
       "      <td>102.698215</td>\n",
       "      <td>44.019914</td>\n",
       "      <td>196.772968</td>\n",
       "      <td>...</td>\n",
       "      <td>2</td>\n",
       "      <td>3</td>\n",
       "      <td>3</td>\n",
       "      <td>35</td>\n",
       "      <td>3.181818</td>\n",
       "      <td>1</td>\n",
       "      <td>client04</td>\n",
       "      <td>un09</td>\n",
       "      <td>mfc27</td>\n",
       "      <td>0.993789</td>\n",
       "    </tr>\n",
       "    <tr>\n",
       "      <th>189999</th>\n",
       "      <td>190000</td>\n",
       "      <td>36.940748</td>\n",
       "      <td>2</td>\n",
       "      <td>0</td>\n",
       "      <td>1</td>\n",
       "      <td>29.822344</td>\n",
       "      <td>172.905910</td>\n",
       "      <td>89.158232</td>\n",
       "      <td>47.916865</td>\n",
       "      <td>197.497975</td>\n",
       "      <td>...</td>\n",
       "      <td>2</td>\n",
       "      <td>1</td>\n",
       "      <td>2</td>\n",
       "      <td>31</td>\n",
       "      <td>2.818182</td>\n",
       "      <td>0</td>\n",
       "      <td>client05</td>\n",
       "      <td>un15</td>\n",
       "      <td>mfc51</td>\n",
       "      <td>0.524243</td>\n",
       "    </tr>\n",
       "  </tbody>\n",
       "</table>\n",
       "<p>5 rows × 46 columns</p>\n",
       "</div>"
      ],
      "text/plain": [
       "        id_patient  age_years  sex  number_of_children  flag_married  \\\n",
       "189995      189996  37.477772    2                   1             0   \n",
       "189996      189997  29.728572    2                   0             1   \n",
       "189997      189998  35.623458    2                   1             1   \n",
       "189998      189999  33.695617    2                   0             1   \n",
       "189999      190000  36.940748    2                   0             1   \n",
       "\n",
       "        bmi_kg_m2   height_cm   weight_kg  hdl_mg_dl   ldl_mg_dl  ...  \\\n",
       "189995  26.719491  176.665201   83.393115  36.669664  201.096868  ...   \n",
       "189996  27.589891  168.046891   77.913183  37.398074  201.755727  ...   \n",
       "189997  28.977089  175.010296   88.752778  39.300882  202.546749  ...   \n",
       "189998  33.714442  174.531355  102.698215  44.019914  196.772968  ...   \n",
       "189999  29.822344  172.905910   89.158232  47.916865  197.497975  ...   \n",
       "\n",
       "        index_systolic_blood_pressure  index_diastolic_blood_pressure  \\\n",
       "189995                              1                               2   \n",
       "189996                              3                               3   \n",
       "189997                              2                               2   \n",
       "189998                              2                               3   \n",
       "189999                              2                               1   \n",
       "\n",
       "        index_blood_pressure  sum_index_disease  avg_index_disease  \\\n",
       "189995                     3                 34           3.090909   \n",
       "189996                     3                 36           3.272727   \n",
       "189997                     3                 34           3.090909   \n",
       "189998                     3                 35           3.181818   \n",
       "189999                     2                 31           2.818182   \n",
       "\n",
       "        target_index_disease   clients  unidade    mfc  new_score  \n",
       "189995                     1  client05     un17  mfc56   0.625730  \n",
       "189996                     1  client04     un13  mfc47   0.990622  \n",
       "189997                     1  client02     un04  mfc05   0.950332  \n",
       "189998                     1  client04     un09  mfc27   0.993789  \n",
       "189999                     0  client05     un15  mfc51   0.524243  \n",
       "\n",
       "[5 rows x 46 columns]"
      ]
     },
     "execution_count": 13,
     "metadata": {},
     "output_type": "execute_result"
    }
   ],
   "source": [
    "df2.tail()"
   ]
  },
  {
   "cell_type": "code",
   "execution_count": 14,
   "metadata": {
    "ExecuteTime": {
     "end_time": "2020-06-29T19:37:14.742332Z",
     "start_time": "2020-06-29T19:37:14.078334Z"
    }
   },
   "outputs": [
    {
     "data": {
      "text/html": [
       "<div>\n",
       "<style scoped>\n",
       "    .dataframe tbody tr th:only-of-type {\n",
       "        vertical-align: middle;\n",
       "    }\n",
       "\n",
       "    .dataframe tbody tr th {\n",
       "        vertical-align: top;\n",
       "    }\n",
       "\n",
       "    .dataframe thead th {\n",
       "        text-align: right;\n",
       "    }\n",
       "</style>\n",
       "<table border=\"1\" class=\"dataframe\">\n",
       "  <thead>\n",
       "    <tr style=\"text-align: right;\">\n",
       "      <th></th>\n",
       "      <th>id_patient</th>\n",
       "      <th>age_years</th>\n",
       "      <th>sex</th>\n",
       "      <th>number_of_children</th>\n",
       "      <th>flag_married</th>\n",
       "      <th>bmi_kg_m2</th>\n",
       "      <th>height_cm</th>\n",
       "      <th>weight_kg</th>\n",
       "      <th>hdl_mg_dl</th>\n",
       "      <th>ldl_mg_dl</th>\n",
       "      <th>...</th>\n",
       "      <th>index_ldl_cholesterol</th>\n",
       "      <th>index_tryglicerides</th>\n",
       "      <th>index_ratio_total_cholest_hdl</th>\n",
       "      <th>index_systolic_blood_pressure</th>\n",
       "      <th>index_diastolic_blood_pressure</th>\n",
       "      <th>index_blood_pressure</th>\n",
       "      <th>sum_index_disease</th>\n",
       "      <th>avg_index_disease</th>\n",
       "      <th>target_index_disease</th>\n",
       "      <th>new_score</th>\n",
       "    </tr>\n",
       "  </thead>\n",
       "  <tbody>\n",
       "    <tr>\n",
       "      <th>count</th>\n",
       "      <td>190000.00000</td>\n",
       "      <td>190000.000000</td>\n",
       "      <td>190000.000000</td>\n",
       "      <td>190000.000000</td>\n",
       "      <td>190000.000000</td>\n",
       "      <td>190000.000000</td>\n",
       "      <td>190000.000000</td>\n",
       "      <td>190000.000000</td>\n",
       "      <td>190000.000000</td>\n",
       "      <td>190000.000000</td>\n",
       "      <td>...</td>\n",
       "      <td>190000.000000</td>\n",
       "      <td>190000.000000</td>\n",
       "      <td>190000.000000</td>\n",
       "      <td>190000.000000</td>\n",
       "      <td>190000.000000</td>\n",
       "      <td>190000.000000</td>\n",
       "      <td>190000.000000</td>\n",
       "      <td>190000.000000</td>\n",
       "      <td>190000.000000</td>\n",
       "      <td>1.900000e+05</td>\n",
       "    </tr>\n",
       "    <tr>\n",
       "      <th>mean</th>\n",
       "      <td>95000.50000</td>\n",
       "      <td>34.941918</td>\n",
       "      <td>1.500000</td>\n",
       "      <td>0.334853</td>\n",
       "      <td>0.488926</td>\n",
       "      <td>25.603217</td>\n",
       "      <td>166.302742</td>\n",
       "      <td>70.943894</td>\n",
       "      <td>61.844896</td>\n",
       "      <td>118.403513</td>\n",
       "      <td>...</td>\n",
       "      <td>1.631179</td>\n",
       "      <td>1.421053</td>\n",
       "      <td>1.631553</td>\n",
       "      <td>1.165684</td>\n",
       "      <td>1.801347</td>\n",
       "      <td>2.205405</td>\n",
       "      <td>20.362179</td>\n",
       "      <td>1.851107</td>\n",
       "      <td>0.184079</td>\n",
       "      <td>1.786354e-01</td>\n",
       "    </tr>\n",
       "    <tr>\n",
       "      <th>std</th>\n",
       "      <td>54848.41991</td>\n",
       "      <td>9.363898</td>\n",
       "      <td>0.500001</td>\n",
       "      <td>0.699076</td>\n",
       "      <td>0.499879</td>\n",
       "      <td>4.126614</td>\n",
       "      <td>5.507522</td>\n",
       "      <td>12.698595</td>\n",
       "      <td>13.756190</td>\n",
       "      <td>44.166214</td>\n",
       "      <td>...</td>\n",
       "      <td>1.222439</td>\n",
       "      <td>0.815367</td>\n",
       "      <td>1.223010</td>\n",
       "      <td>0.407563</td>\n",
       "      <td>0.822079</td>\n",
       "      <td>0.976631</td>\n",
       "      <td>7.276107</td>\n",
       "      <td>0.661464</td>\n",
       "      <td>0.387550</td>\n",
       "      <td>3.640132e-01</td>\n",
       "    </tr>\n",
       "    <tr>\n",
       "      <th>min</th>\n",
       "      <td>1.00000</td>\n",
       "      <td>12.125575</td>\n",
       "      <td>1.000000</td>\n",
       "      <td>0.000000</td>\n",
       "      <td>0.000000</td>\n",
       "      <td>8.870725</td>\n",
       "      <td>142.157209</td>\n",
       "      <td>22.991307</td>\n",
       "      <td>21.384712</td>\n",
       "      <td>59.888795</td>\n",
       "      <td>...</td>\n",
       "      <td>1.000000</td>\n",
       "      <td>1.000000</td>\n",
       "      <td>1.000000</td>\n",
       "      <td>1.000000</td>\n",
       "      <td>1.000000</td>\n",
       "      <td>1.000000</td>\n",
       "      <td>13.000000</td>\n",
       "      <td>1.181818</td>\n",
       "      <td>0.000000</td>\n",
       "      <td>7.060000e-15</td>\n",
       "    </tr>\n",
       "    <tr>\n",
       "      <th>25%</th>\n",
       "      <td>47500.75000</td>\n",
       "      <td>27.063148</td>\n",
       "      <td>1.000000</td>\n",
       "      <td>0.000000</td>\n",
       "      <td>0.000000</td>\n",
       "      <td>22.752224</td>\n",
       "      <td>162.148937</td>\n",
       "      <td>62.010717</td>\n",
       "      <td>59.990497</td>\n",
       "      <td>89.294132</td>\n",
       "      <td>...</td>\n",
       "      <td>1.000000</td>\n",
       "      <td>1.000000</td>\n",
       "      <td>1.000000</td>\n",
       "      <td>1.000000</td>\n",
       "      <td>1.000000</td>\n",
       "      <td>1.000000</td>\n",
       "      <td>15.000000</td>\n",
       "      <td>1.363636</td>\n",
       "      <td>0.000000</td>\n",
       "      <td>1.300000e-08</td>\n",
       "    </tr>\n",
       "    <tr>\n",
       "      <th>50%</th>\n",
       "      <td>95000.50000</td>\n",
       "      <td>33.957695</td>\n",
       "      <td>1.500000</td>\n",
       "      <td>0.000000</td>\n",
       "      <td>0.000000</td>\n",
       "      <td>25.433286</td>\n",
       "      <td>166.393740</td>\n",
       "      <td>70.253905</td>\n",
       "      <td>65.432790</td>\n",
       "      <td>98.183295</td>\n",
       "      <td>...</td>\n",
       "      <td>1.000000</td>\n",
       "      <td>1.000000</td>\n",
       "      <td>1.000000</td>\n",
       "      <td>1.000000</td>\n",
       "      <td>2.000000</td>\n",
       "      <td>3.000000</td>\n",
       "      <td>18.000000</td>\n",
       "      <td>1.636364</td>\n",
       "      <td>0.000000</td>\n",
       "      <td>3.900000e-07</td>\n",
       "    </tr>\n",
       "    <tr>\n",
       "      <th>75%</th>\n",
       "      <td>142500.25000</td>\n",
       "      <td>43.220932</td>\n",
       "      <td>2.000000</td>\n",
       "      <td>0.000000</td>\n",
       "      <td>1.000000</td>\n",
       "      <td>28.296175</td>\n",
       "      <td>170.504672</td>\n",
       "      <td>79.138069</td>\n",
       "      <td>71.072947</td>\n",
       "      <td>118.591025</td>\n",
       "      <td>...</td>\n",
       "      <td>1.000000</td>\n",
       "      <td>1.000000</td>\n",
       "      <td>1.000000</td>\n",
       "      <td>1.000000</td>\n",
       "      <td>2.000000</td>\n",
       "      <td>3.000000</td>\n",
       "      <td>19.000000</td>\n",
       "      <td>1.727273</td>\n",
       "      <td>0.000000</td>\n",
       "      <td>7.872500e-05</td>\n",
       "    </tr>\n",
       "    <tr>\n",
       "      <th>max</th>\n",
       "      <td>190000.00000</td>\n",
       "      <td>60.887159</td>\n",
       "      <td>2.000000</td>\n",
       "      <td>3.000000</td>\n",
       "      <td>1.000000</td>\n",
       "      <td>44.514849</td>\n",
       "      <td>187.250708</td>\n",
       "      <td>130.090262</td>\n",
       "      <td>89.385068</td>\n",
       "      <td>214.919552</td>\n",
       "      <td>...</td>\n",
       "      <td>4.000000</td>\n",
       "      <td>3.000000</td>\n",
       "      <td>4.000000</td>\n",
       "      <td>3.000000</td>\n",
       "      <td>4.000000</td>\n",
       "      <td>3.000000</td>\n",
       "      <td>39.000000</td>\n",
       "      <td>3.545455</td>\n",
       "      <td>1.000000</td>\n",
       "      <td>9.999995e-01</td>\n",
       "    </tr>\n",
       "  </tbody>\n",
       "</table>\n",
       "<p>8 rows × 42 columns</p>\n",
       "</div>"
      ],
      "text/plain": [
       "         id_patient      age_years            sex  number_of_children  \\\n",
       "count  190000.00000  190000.000000  190000.000000       190000.000000   \n",
       "mean    95000.50000      34.941918       1.500000            0.334853   \n",
       "std     54848.41991       9.363898       0.500001            0.699076   \n",
       "min         1.00000      12.125575       1.000000            0.000000   \n",
       "25%     47500.75000      27.063148       1.000000            0.000000   \n",
       "50%     95000.50000      33.957695       1.500000            0.000000   \n",
       "75%    142500.25000      43.220932       2.000000            0.000000   \n",
       "max    190000.00000      60.887159       2.000000            3.000000   \n",
       "\n",
       "        flag_married      bmi_kg_m2      height_cm      weight_kg  \\\n",
       "count  190000.000000  190000.000000  190000.000000  190000.000000   \n",
       "mean        0.488926      25.603217     166.302742      70.943894   \n",
       "std         0.499879       4.126614       5.507522      12.698595   \n",
       "min         0.000000       8.870725     142.157209      22.991307   \n",
       "25%         0.000000      22.752224     162.148937      62.010717   \n",
       "50%         0.000000      25.433286     166.393740      70.253905   \n",
       "75%         1.000000      28.296175     170.504672      79.138069   \n",
       "max         1.000000      44.514849     187.250708     130.090262   \n",
       "\n",
       "           hdl_mg_dl      ldl_mg_dl  ...  index_ldl_cholesterol  \\\n",
       "count  190000.000000  190000.000000  ...          190000.000000   \n",
       "mean       61.844896     118.403513  ...               1.631179   \n",
       "std        13.756190      44.166214  ...               1.222439   \n",
       "min        21.384712      59.888795  ...               1.000000   \n",
       "25%        59.990497      89.294132  ...               1.000000   \n",
       "50%        65.432790      98.183295  ...               1.000000   \n",
       "75%        71.072947     118.591025  ...               1.000000   \n",
       "max        89.385068     214.919552  ...               4.000000   \n",
       "\n",
       "       index_tryglicerides  index_ratio_total_cholest_hdl  \\\n",
       "count        190000.000000                  190000.000000   \n",
       "mean              1.421053                       1.631553   \n",
       "std               0.815367                       1.223010   \n",
       "min               1.000000                       1.000000   \n",
       "25%               1.000000                       1.000000   \n",
       "50%               1.000000                       1.000000   \n",
       "75%               1.000000                       1.000000   \n",
       "max               3.000000                       4.000000   \n",
       "\n",
       "       index_systolic_blood_pressure  index_diastolic_blood_pressure  \\\n",
       "count                  190000.000000                   190000.000000   \n",
       "mean                        1.165684                        1.801347   \n",
       "std                         0.407563                        0.822079   \n",
       "min                         1.000000                        1.000000   \n",
       "25%                         1.000000                        1.000000   \n",
       "50%                         1.000000                        2.000000   \n",
       "75%                         1.000000                        2.000000   \n",
       "max                         3.000000                        4.000000   \n",
       "\n",
       "       index_blood_pressure  sum_index_disease  avg_index_disease  \\\n",
       "count         190000.000000      190000.000000      190000.000000   \n",
       "mean               2.205405          20.362179           1.851107   \n",
       "std                0.976631           7.276107           0.661464   \n",
       "min                1.000000          13.000000           1.181818   \n",
       "25%                1.000000          15.000000           1.363636   \n",
       "50%                3.000000          18.000000           1.636364   \n",
       "75%                3.000000          19.000000           1.727273   \n",
       "max                3.000000          39.000000           3.545455   \n",
       "\n",
       "       target_index_disease     new_score  \n",
       "count         190000.000000  1.900000e+05  \n",
       "mean               0.184079  1.786354e-01  \n",
       "std                0.387550  3.640132e-01  \n",
       "min                0.000000  7.060000e-15  \n",
       "25%                0.000000  1.300000e-08  \n",
       "50%                0.000000  3.900000e-07  \n",
       "75%                0.000000  7.872500e-05  \n",
       "max                1.000000  9.999995e-01  \n",
       "\n",
       "[8 rows x 42 columns]"
      ]
     },
     "execution_count": 14,
     "metadata": {},
     "output_type": "execute_result"
    }
   ],
   "source": [
    "df2.describe()"
   ]
  },
  {
   "cell_type": "markdown",
   "metadata": {},
   "source": [
    "# Variáveis quantitativas e qualitativas"
   ]
  },
  {
   "cell_type": "markdown",
   "metadata": {},
   "source": [
    "## Variáveis quantitativas (contínua e discreta).\n",
    "\n",
    "**Variáveis Quantitativas:** são informações em uma tabela que podem ser medidas experimentalmente/empiricamente e possuem valores numéricos. Essas variáveis podem ser divididas em dois grupos, as variáveis quantitativas discretas e as contínuas. Abaixo seguem as definições de cada uma.\n",
    "\n",
    "***Variáveis discretas:*** são variáveis inteiras e positivas que em geral são resultados de alguma contagem, como por exemplo a quantidade de filhos da pessoa, ou quantidade de indivíduos em um experimento, etc. Também podem ser utilizadas de forma quantitativa, por exemplo dando graus sobre uma obervação, por exemplo notas onde 1 = ruim, 2 = bom, 3 = muito bom, 4 = excelente.\n",
    "\n",
    "***Variáveis contínuas:*** são variáveis no conjunto dos números reais dentro de uma escala contínua. Por exemplo peso de um objeto em quilogramas, tamanho de um objeto em centímetros, tempo de duração de um experimento em segundos, etc.\n",
    "\n",
    "### Exemplos:\n",
    "\n",
    "Abaixo criamos um histograma com a variável var_continua_1 para o dataframe instrucional (df1)."
   ]
  },
  {
   "cell_type": "code",
   "execution_count": 15,
   "metadata": {
    "ExecuteTime": {
     "end_time": "2020-06-29T19:37:14.943331Z",
     "start_time": "2020-06-29T19:37:14.744335Z"
    }
   },
   "outputs": [
    {
     "data": {
      "image/png": "[encoded data removed]",
      "text/plain": [
       "<Figure size 432x288 with 1 Axes>"
      ]
     },
     "metadata": {
      "needs_background": "light"
     },
     "output_type": "display_data"
    }
   ],
   "source": [
    "import matplotlib.pyplot as plt\n",
    "\n",
    "x = df1['var_continua_1']\n",
    "plt.hist(x, bins = 20)\n",
    "plt.show()"
   ]
  },
  {
   "cell_type": "code",
   "execution_count": 16,
   "metadata": {
    "ExecuteTime": {
     "end_time": "2020-06-29T19:37:26.126190Z",
     "start_time": "2020-06-29T19:37:14.946332Z"
    }
   },
   "outputs": [
    {
     "data": {
      "text/plain": [
       "<matplotlib.axes._subplots.AxesSubplot at 0x20cf26c79c8>"
      ]
     },
     "execution_count": 16,
     "metadata": {},
     "output_type": "execute_result"
    },
    {
     "data": {
      "image/png": "[encoded data removed]",
      "text/plain": [
       "<Figure size 1152x288 with 2 Axes>"
      ]
     },
     "metadata": {
      "needs_background": "light"
     },
     "output_type": "display_data"
    }
   ],
   "source": [
    "import seaborn as sns\n",
    "\n",
    "fig, axes = plt.subplots(1, 2, figsize=(16, 4))\n",
    "\n",
    "sns.distplot(df1['var_continua_1'] , color = 'skyblue', label = 'var_continua_1', ax = axes[0])\n",
    "sns.distplot(df1['var_continua_2'] , color = 'red', label = 'var_continua_2', ax = axes[1])"
   ]
  },
  {
   "cell_type": "markdown",
   "metadata": {},
   "source": [
    "## Variáveis qualitativas (nominal e ordinal).\n",
    "\n",
    "**Variáveis Qualitativas (ou categóricas):** são as características que não possuem valores quantitativos, mas, ao contrário, são definidas por várias categorias, ou seja, representam uma classificação dos indivíduos. Podem ser nominais ou ordinais.\n",
    "\n",
    "***Variáveis nominais:*** são variáveis apresentadas em **grupos** e **categorias**, **sem nenhum tipo de ordenação**. Exemplos: sexo biológico da pessoa, religião, cor da pele, etc.\n",
    "\n",
    "***Variáveis ordinais:*** são variáveis apresentadas em **grupos** e **categorias** nos quais **existe uma ordenação**. Exemplos: escolaridade (1o, 2o, 3o graus), estágio da doença (inicial, intermediário, terminal), mês de observação (janeiro, fevereiro,..., dezembro)."
   ]
  },
  {
   "cell_type": "markdown",
   "metadata": {},
   "source": [
    "### Exemplos\n",
    "\n",
    "Abaixo vamos mostrar o uso da função groupby para demonstrar a variável nominal (nominal_1) para o dataframe instrucional (df1), mostrando quais são seus agrupamentos, e aproveitamos para mostrar a média para cada um dos agrupamentos os valores médios calculados para a variável var_continua_1."
   ]
  },
  {
   "cell_type": "code",
   "execution_count": 17,
   "metadata": {
    "ExecuteTime": {
     "end_time": "2020-06-29T19:37:26.188774Z",
     "start_time": "2020-06-29T19:37:26.128196Z"
    }
   },
   "outputs": [
    {
     "data": {
      "text/html": [
       "<div>\n",
       "<style scoped>\n",
       "    .dataframe tbody tr th:only-of-type {\n",
       "        vertical-align: middle;\n",
       "    }\n",
       "\n",
       "    .dataframe tbody tr th {\n",
       "        vertical-align: top;\n",
       "    }\n",
       "\n",
       "    .dataframe thead th {\n",
       "        text-align: right;\n",
       "    }\n",
       "</style>\n",
       "<table border=\"1\" class=\"dataframe\">\n",
       "  <thead>\n",
       "    <tr style=\"text-align: right;\">\n",
       "      <th></th>\n",
       "      <th>nominal_1</th>\n",
       "      <th>var_continua_1</th>\n",
       "    </tr>\n",
       "    <tr>\n",
       "      <th>nominal_1</th>\n",
       "      <th></th>\n",
       "      <th></th>\n",
       "    </tr>\n",
       "  </thead>\n",
       "  <tbody>\n",
       "    <tr>\n",
       "      <th>A</th>\n",
       "      <td>25</td>\n",
       "      <td>47.116000</td>\n",
       "    </tr>\n",
       "    <tr>\n",
       "      <th>B</th>\n",
       "      <td>13</td>\n",
       "      <td>53.253846</td>\n",
       "    </tr>\n",
       "    <tr>\n",
       "      <th>C</th>\n",
       "      <td>23</td>\n",
       "      <td>56.430435</td>\n",
       "    </tr>\n",
       "    <tr>\n",
       "      <th>D</th>\n",
       "      <td>19</td>\n",
       "      <td>47.773684</td>\n",
       "    </tr>\n",
       "    <tr>\n",
       "      <th>E</th>\n",
       "      <td>20</td>\n",
       "      <td>49.070000</td>\n",
       "    </tr>\n",
       "  </tbody>\n",
       "</table>\n",
       "</div>"
      ],
      "text/plain": [
       "           nominal_1  var_continua_1\n",
       "nominal_1                           \n",
       "A                 25       47.116000\n",
       "B                 13       53.253846\n",
       "C                 23       56.430435\n",
       "D                 19       47.773684\n",
       "E                 20       49.070000"
      ]
     },
     "execution_count": 17,
     "metadata": {},
     "output_type": "execute_result"
    }
   ],
   "source": [
    "df1.groupby(['nominal_1']).agg({'nominal_1':'count','var_continua_1':'mean'})"
   ]
  },
  {
   "cell_type": "markdown",
   "metadata": {},
   "source": [
    "# Medidas de posição: média, moda, mediana, percentis, quartis.\n",
    "\n",
    "As medidas de posição são valores que representam a tendência de concentração dos dados observados em experimentos. As mais importantes são as medidas de tendência central. As três medidas de tendência central mais utilizadas são: média, moda e mediana. Outras medidas de posição são os quartis, os percentis e outliers."
   ]
  },
  {
   "cell_type": "markdown",
   "metadata": {},
   "source": [
    "## Média\n",
    "\n",
    "A média é uma das medidas de posição mais conhecidas e utilizadas. Existem diversos tipos de médias e a mais utilizada é a média aritmética amostral. Outros tipos de médias também utilizadas são média geométrica, média ponderada e média harmônica. Vamos começar os exemplos de médias com a média aritmética amostral. Supondo um conjunto de medidas\n",
    "\n",
    "\\begin{equation}\n",
    "x = x_1, x_2, x_3, \\cdots, x_n,\n",
    "\\end{equation}\n",
    "\n",
    "Sendo $n$ a quantidade de medidas $x_i$, então a média amostral $\\bar{x}$ é dada pela seguinte equação.\n",
    "\n",
    "\\begin{equation}\n",
    "\\bar{x} = \\frac{1}{n}(x_1 + x_2 + x_3 + \\cdots + x_n) = \\frac{1}{n}\\sum_{i=1}^{n} x_i,\n",
    "\\end{equation}\n",
    "\n",
    "### Exemplo 1\n",
    "\n",
    "Vamos dar um exemplo de como calcular médias. Seja um conjunto de medidas:\n",
    "\n",
    " x = [8, 1.8, 4.5, 4.5, 25]"
   ]
  },
  {
   "cell_type": "code",
   "execution_count": 18,
   "metadata": {
    "ExecuteTime": {
     "end_time": "2020-06-29T19:37:26.313674Z",
     "start_time": "2020-06-29T19:37:26.190676Z"
    }
   },
   "outputs": [
    {
     "data": {
      "text/plain": [
       "8.76"
      ]
     },
     "execution_count": 18,
     "metadata": {},
     "output_type": "execute_result"
    }
   ],
   "source": [
    "x = [8, 1.8, 4.5, 4.5, 25]\n",
    "\n",
    "x_medio = sum(x)/len(x)\n",
    "\n",
    "x_medio"
   ]
  },
  {
   "cell_type": "markdown",
   "metadata": {},
   "source": [
    "### Exemplo 2\n",
    "\n",
    "Vamos calcular os valores médios das colunas de um dataframe do pandas."
   ]
  },
  {
   "cell_type": "code",
   "execution_count": 19,
   "metadata": {
    "ExecuteTime": {
     "end_time": "2020-06-29T19:37:26.455675Z",
     "start_time": "2020-06-29T19:37:26.315674Z"
    }
   },
   "outputs": [
    {
     "data": {
      "text/html": [
       "<div>\n",
       "<style scoped>\n",
       "    .dataframe tbody tr th:only-of-type {\n",
       "        vertical-align: middle;\n",
       "    }\n",
       "\n",
       "    .dataframe tbody tr th {\n",
       "        vertical-align: top;\n",
       "    }\n",
       "\n",
       "    .dataframe thead th {\n",
       "        text-align: right;\n",
       "    }\n",
       "</style>\n",
       "<table border=\"1\" class=\"dataframe\">\n",
       "  <thead>\n",
       "    <tr style=\"text-align: right;\">\n",
       "      <th></th>\n",
       "      <th>var_continua_1</th>\n",
       "      <th>var_continua_2</th>\n",
       "      <th>var_discreta_1</th>\n",
       "      <th>var_discreta_2</th>\n",
       "    </tr>\n",
       "  </thead>\n",
       "  <tbody>\n",
       "    <tr>\n",
       "      <th>0</th>\n",
       "      <td>52.1</td>\n",
       "      <td>18.2</td>\n",
       "      <td>4</td>\n",
       "      <td>47</td>\n",
       "    </tr>\n",
       "    <tr>\n",
       "      <th>1</th>\n",
       "      <td>41.5</td>\n",
       "      <td>886.7</td>\n",
       "      <td>9</td>\n",
       "      <td>50</td>\n",
       "    </tr>\n",
       "  </tbody>\n",
       "</table>\n",
       "</div>"
      ],
      "text/plain": [
       "   var_continua_1  var_continua_2  var_discreta_1  var_discreta_2\n",
       "0            52.1            18.2               4              47\n",
       "1            41.5           886.7               9              50"
      ]
     },
     "execution_count": 19,
     "metadata": {},
     "output_type": "execute_result"
    }
   ],
   "source": [
    "df_aux = df1[['var_continua_1', 'var_continua_2', 'var_discreta_1', 'var_discreta_2']]\n",
    "df_aux.head(2)"
   ]
  },
  {
   "cell_type": "code",
   "execution_count": 20,
   "metadata": {
    "ExecuteTime": {
     "end_time": "2020-06-29T19:37:26.581787Z",
     "start_time": "2020-06-29T19:37:26.459675Z"
    }
   },
   "outputs": [
    {
     "data": {
      "text/plain": [
       "var_continua_1     50.572\n",
       "var_continua_2    494.719\n",
       "var_discreta_1      5.080\n",
       "var_discreta_2     70.610\n",
       "dtype: float64"
      ]
     },
     "execution_count": 20,
     "metadata": {},
     "output_type": "execute_result"
    }
   ],
   "source": [
    "df1_aux.mean()"
   ]
  },
  {
   "cell_type": "markdown",
   "metadata": {},
   "source": [
    "### Exemplo 3\n",
    "\n",
    "Outra maneira de calcular a média de uma coluna em específico do dataframe."
   ]
  },
  {
   "cell_type": "code",
   "execution_count": 21,
   "metadata": {
    "ExecuteTime": {
     "end_time": "2020-06-29T19:37:26.659387Z",
     "start_time": "2020-06-29T19:37:26.585676Z"
    }
   },
   "outputs": [
    {
     "name": "stdout",
     "output_type": "stream",
     "text": [
      "Média da coluna var_continua_1:  50.571999999999996\n",
      "Média da coluna var_continua_2:  494.7190000000001\n",
      "Média da coluna var_discreta_1:  5.08\n",
      "Média da coluna var_discreta_2:  70.61\n"
     ]
    }
   ],
   "source": [
    "print('Média da coluna var_continua_1: ', df1['var_continua_1'].mean(axis=0))\n",
    "\n",
    "print('Média da coluna var_continua_2: ', df1['var_continua_2'].mean(axis=0))\n",
    "\n",
    "print('Média da coluna var_discreta_1: ', df1['var_discreta_1'].mean(axis=0))\n",
    "\n",
    "print('Média da coluna var_discreta_2: ', df1['var_discreta_2'].mean(axis=0))"
   ]
  },
  {
   "cell_type": "code",
   "execution_count": 22,
   "metadata": {
    "ExecuteTime": {
     "end_time": "2020-06-29T19:37:26.769751Z",
     "start_time": "2020-06-29T19:37:26.662381Z"
    }
   },
   "outputs": [
    {
     "name": "stdout",
     "output_type": "stream",
     "text": [
      "Média da coluna var_continua_1: \n"
     ]
    },
    {
     "data": {
      "text/plain": [
       "50.57199999999999"
      ]
     },
     "execution_count": 22,
     "metadata": {},
     "output_type": "execute_result"
    }
   ],
   "source": [
    "# Ou então ... \n",
    "print('Média da coluna var_continua_1: ')\n",
    "df1_aux.mean()['var_continua_1']"
   ]
  },
  {
   "cell_type": "markdown",
   "metadata": {},
   "source": [
    "### Exemplo 4\n",
    "\n",
    "Devemos sempre considerar o possível impacto de valores nulos em nossos cálculos.<br>\n",
    "\n",
    "Neste exemplo vamos trabalhar com dados missing em um dataframe"
   ]
  },
  {
   "cell_type": "code",
   "execution_count": 23,
   "metadata": {
    "ExecuteTime": {
     "end_time": "2020-06-29T19:37:26.896271Z",
     "start_time": "2020-06-29T19:37:26.776750Z"
    }
   },
   "outputs": [
    {
     "data": {
      "text/html": [
       "<div>\n",
       "<style scoped>\n",
       "    .dataframe tbody tr th:only-of-type {\n",
       "        vertical-align: middle;\n",
       "    }\n",
       "\n",
       "    .dataframe tbody tr th {\n",
       "        vertical-align: top;\n",
       "    }\n",
       "\n",
       "    .dataframe thead th {\n",
       "        text-align: right;\n",
       "    }\n",
       "</style>\n",
       "<table border=\"1\" class=\"dataframe\">\n",
       "  <thead>\n",
       "    <tr style=\"text-align: right;\">\n",
       "      <th></th>\n",
       "      <th>A</th>\n",
       "      <th>B</th>\n",
       "      <th>C</th>\n",
       "      <th>D</th>\n",
       "    </tr>\n",
       "  </thead>\n",
       "  <tbody>\n",
       "    <tr>\n",
       "      <th>0</th>\n",
       "      <td>12.0</td>\n",
       "      <td>4.0</td>\n",
       "      <td>25</td>\n",
       "      <td>14.0</td>\n",
       "    </tr>\n",
       "    <tr>\n",
       "      <th>1</th>\n",
       "      <td>34.0</td>\n",
       "      <td>2.0</td>\n",
       "      <td>16</td>\n",
       "      <td>23.0</td>\n",
       "    </tr>\n",
       "    <tr>\n",
       "      <th>2</th>\n",
       "      <td>25.0</td>\n",
       "      <td>54.0</td>\n",
       "      <td>11</td>\n",
       "      <td>NaN</td>\n",
       "    </tr>\n",
       "    <tr>\n",
       "      <th>3</th>\n",
       "      <td>NaN</td>\n",
       "      <td>3.0</td>\n",
       "      <td>13</td>\n",
       "      <td>12.0</td>\n",
       "    </tr>\n",
       "    <tr>\n",
       "      <th>4</th>\n",
       "      <td>11.0</td>\n",
       "      <td>NaN</td>\n",
       "      <td>28</td>\n",
       "      <td>16.0</td>\n",
       "    </tr>\n",
       "  </tbody>\n",
       "</table>\n",
       "</div>"
      ],
      "text/plain": [
       "      A     B   C     D\n",
       "0  12.0   4.0  25  14.0\n",
       "1  34.0   2.0  16  23.0\n",
       "2  25.0  54.0  11   NaN\n",
       "3   NaN   3.0  13  12.0\n",
       "4  11.0   NaN  28  16.0"
      ]
     },
     "execution_count": 23,
     "metadata": {},
     "output_type": "execute_result"
    }
   ],
   "source": [
    "df = pd.DataFrame({\"A\":[12, 34, 25, None, 11], \n",
    "                   \"B\":[4, 2, 54, 3, None], \n",
    "                   \"C\":[25, 16, 11, 13, 28],\n",
    "                   \"D\":[14, 23, None, 12, 16]})\n",
    "df.head()"
   ]
  },
  {
   "cell_type": "code",
   "execution_count": 24,
   "metadata": {
    "ExecuteTime": {
     "end_time": "2020-06-29T19:37:27.038237Z",
     "start_time": "2020-06-29T19:37:26.902265Z"
    }
   },
   "outputs": [
    {
     "data": {
      "text/plain": [
       "0    13.750000\n",
       "1    18.750000\n",
       "2    30.000000\n",
       "3     9.333333\n",
       "4    18.333333\n",
       "dtype: float64"
      ]
     },
     "execution_count": 24,
     "metadata": {},
     "output_type": "execute_result"
    }
   ],
   "source": [
    "# Por padrão o pandas realiza as operações por colunas.\n",
    "# BUG: Calcula a média de uma coluna\n",
    "df.mean(axis = 1) # ou ... df.mean(axis = 'columns')"
   ]
  },
  {
   "cell_type": "code",
   "execution_count": 25,
   "metadata": {
    "ExecuteTime": {
     "end_time": "2020-06-29T19:37:27.196163Z",
     "start_time": "2020-06-29T19:37:27.042239Z"
    }
   },
   "outputs": [
    {
     "data": {
      "text/plain": [
       "A    20.50\n",
       "B    15.75\n",
       "C    18.60\n",
       "D    16.25\n",
       "dtype: float64"
      ]
     },
     "execution_count": 25,
     "metadata": {},
     "output_type": "execute_result"
    }
   ],
   "source": [
    "# Calculando a média de uma linha\n",
    "df.mean(axis = 0) # ou ... df.mean(axis = 'index')"
   ]
  },
  {
   "cell_type": "code",
   "execution_count": 26,
   "metadata": {
    "ExecuteTime": {
     "end_time": "2020-06-29T19:37:27.305616Z",
     "start_time": "2020-06-29T19:37:27.199194Z"
    }
   },
   "outputs": [
    {
     "data": {
      "text/plain": [
       "A    20.50\n",
       "B    15.75\n",
       "C    18.60\n",
       "D    16.25\n",
       "dtype: float64"
      ]
     },
     "execution_count": 26,
     "metadata": {},
     "output_type": "execute_result"
    }
   ],
   "source": [
    "# Precisamos sempre considerar o possível impacto do não preenchimento de alguns valores em nossos cálculos.\n",
    "df.mean(skipna = True)"
   ]
  },
  {
   "cell_type": "markdown",
   "metadata": {},
   "source": [
    "### Exemplo 5\n",
    "\n",
    "Neste exemplo vamos trabalhar com dados missing em um dataframe, porém substituindo os dados missing do dataframe pelos nan do numpy."
   ]
  },
  {
   "cell_type": "code",
   "execution_count": 27,
   "metadata": {
    "ExecuteTime": {
     "end_time": "2020-06-29T19:37:27.512614Z",
     "start_time": "2020-06-29T19:37:27.308615Z"
    }
   },
   "outputs": [
    {
     "data": {
      "text/html": [
       "<div>\n",
       "<style scoped>\n",
       "    .dataframe tbody tr th:only-of-type {\n",
       "        vertical-align: middle;\n",
       "    }\n",
       "\n",
       "    .dataframe tbody tr th {\n",
       "        vertical-align: top;\n",
       "    }\n",
       "\n",
       "    .dataframe thead th {\n",
       "        text-align: right;\n",
       "    }\n",
       "</style>\n",
       "<table border=\"1\" class=\"dataframe\">\n",
       "  <thead>\n",
       "    <tr style=\"text-align: right;\">\n",
       "      <th></th>\n",
       "      <th>A</th>\n",
       "      <th>B</th>\n",
       "      <th>C</th>\n",
       "      <th>D</th>\n",
       "    </tr>\n",
       "  </thead>\n",
       "  <tbody>\n",
       "    <tr>\n",
       "      <th>0</th>\n",
       "      <td>12.0</td>\n",
       "      <td>4.0</td>\n",
       "      <td>25</td>\n",
       "      <td>14.0</td>\n",
       "    </tr>\n",
       "    <tr>\n",
       "      <th>1</th>\n",
       "      <td>34.0</td>\n",
       "      <td>2.0</td>\n",
       "      <td>16</td>\n",
       "      <td>23.0</td>\n",
       "    </tr>\n",
       "    <tr>\n",
       "      <th>2</th>\n",
       "      <td>25.0</td>\n",
       "      <td>54.0</td>\n",
       "      <td>11</td>\n",
       "      <td>NaN</td>\n",
       "    </tr>\n",
       "    <tr>\n",
       "      <th>3</th>\n",
       "      <td>NaN</td>\n",
       "      <td>3.0</td>\n",
       "      <td>13</td>\n",
       "      <td>12.0</td>\n",
       "    </tr>\n",
       "    <tr>\n",
       "      <th>4</th>\n",
       "      <td>11.0</td>\n",
       "      <td>NaN</td>\n",
       "      <td>28</td>\n",
       "      <td>16.0</td>\n",
       "    </tr>\n",
       "  </tbody>\n",
       "</table>\n",
       "</div>"
      ],
      "text/plain": [
       "      A     B   C     D\n",
       "0  12.0   4.0  25  14.0\n",
       "1  34.0   2.0  16  23.0\n",
       "2  25.0  54.0  11   NaN\n",
       "3   NaN   3.0  13  12.0\n",
       "4  11.0   NaN  28  16.0"
      ]
     },
     "execution_count": 27,
     "metadata": {},
     "output_type": "execute_result"
    }
   ],
   "source": [
    "df = pd.DataFrame({\"A\":[12, 34, 25, None, 11], \n",
    "                   \"B\":[4, 2, 54, 3, None], \n",
    "                   \"C\":[25, 16, 11, 13, 28],\n",
    "                   \"D\":[14, 23, None, 12, 16]}) \n",
    "\n",
    "# skip the Na values while finding the mean \n",
    "df.mean(axis = 1, skipna = True) \n",
    "\n",
    "import numpy as np\n",
    "\n",
    "df.fillna(value = np.nan, inplace=True)\n",
    "\n",
    "df"
   ]
  },
  {
   "cell_type": "markdown",
   "metadata": {},
   "source": [
    "Calculando a média das colunas do dataframe df sem dar o comando de pular dados missing. Python já interpreta os dados nan do numpy como valores que não podem ser considerados em cálculos."
   ]
  },
  {
   "cell_type": "code",
   "execution_count": 28,
   "metadata": {
    "ExecuteTime": {
     "end_time": "2020-06-29T19:37:27.638646Z",
     "start_time": "2020-06-29T19:37:27.514615Z"
    }
   },
   "outputs": [
    {
     "data": {
      "text/plain": [
       "A    20.50\n",
       "B    15.75\n",
       "C    18.60\n",
       "D    16.25\n",
       "dtype: float64"
      ]
     },
     "execution_count": 28,
     "metadata": {},
     "output_type": "execute_result"
    }
   ],
   "source": [
    "df.mean(axis = 0) "
   ]
  },
  {
   "cell_type": "markdown",
   "metadata": {},
   "source": [
    "### Exemplo 6\n",
    "\n",
    "Também podemos calcular as médias das linhas nos dataframes."
   ]
  },
  {
   "cell_type": "code",
   "execution_count": 29,
   "metadata": {
    "ExecuteTime": {
     "end_time": "2020-06-29T19:37:27.813645Z",
     "start_time": "2020-06-29T19:37:27.640615Z"
    }
   },
   "outputs": [
    {
     "data": {
      "text/plain": [
       "0    13.750000\n",
       "1    18.750000\n",
       "2    30.000000\n",
       "3     9.333333\n",
       "4    18.333333\n",
       "dtype: float64"
      ]
     },
     "execution_count": 29,
     "metadata": {},
     "output_type": "execute_result"
    }
   ],
   "source": [
    "df.mean(axis = 1) "
   ]
  },
  {
   "cell_type": "markdown",
   "metadata": {},
   "source": [
    "## Média ponderada\n",
    "\n",
    "Supondo um conjunto de medidas $x$\n",
    "\n",
    "\\begin{equation}\n",
    "x = x_1, x_2, x_3, \\cdots, x_n,\n",
    "\\end{equation}\n",
    "\n",
    "Sendo $n$ a quantidade de medidas $x_i$, e seja um conjunto de pesos $w$ \n",
    "\n",
    "\\begin{equation}\n",
    "w = w_1, w_2, w_3, \\cdots, w_n,\n",
    "\\end{equation}\n",
    "\n",
    "então a média ponderada amostral $\\bar{x}$ é dada pela seguinte equação.\n",
    "\n",
    "\\begin{equation}\n",
    "\\bar{x} = \\frac{w_1 x_1 + w_2 x_2 + w_3 x_3 + \\cdots + w_n x_n}{w_1 + w_2 + w_3 + ... + w_n} \n",
    "= \\frac{\\sum_{i=1}^{n} w_i x_i}{\\sum_{i=1}^{n} w_i},\n",
    "\\end{equation}\n",
    "\n",
    "### Exemplo 1"
   ]
  },
  {
   "cell_type": "code",
   "execution_count": 30,
   "metadata": {
    "ExecuteTime": {
     "end_time": "2020-06-29T19:37:27.909642Z",
     "start_time": "2020-06-29T19:37:27.815614Z"
    }
   },
   "outputs": [
    {
     "name": "stdout",
     "output_type": "stream",
     "text": [
      "x =  [8, 1.8, 2.5, 4, 28]\n",
      "w =  [1, 2, 3, 2.5, 1.5]\n",
      "soma(x) =  44.3\n",
      "soma(w) =  10.0\n",
      "soma(w x) =  71.1\n",
      "média ponderada =  7.109999999999999\n"
     ]
    }
   ],
   "source": [
    "x = [8, 1.8, 2.5, 4, 28]\n",
    "\n",
    "w = [1, 2, 3, 2.5, 1.5]\n",
    "\n",
    "soma_x = sum(x)\n",
    "\n",
    "soma_w = sum(w)\n",
    "\n",
    "soma_x_w = sum(w[i] * x[i] for i in range(len(x)))\n",
    "\n",
    "media_pond_x = soma_x_w / soma_w\n",
    "\n",
    "print('x = ', x)\n",
    "print('w = ', w)\n",
    "print('soma(x) = ', soma_x)\n",
    "print('soma(w) = ', soma_w)\n",
    "print('soma(w x) = ', soma_x_w)\n",
    "print('média ponderada = ', media_pond_x)"
   ]
  },
  {
   "cell_type": "markdown",
   "metadata": {},
   "source": [
    "### Exemplo 2\n",
    "\n",
    "Neste exemplo vamos utilizar o **dataframe instrucional**. Vamos criar uma nova coluna cujos valores são as **médias ponderadas** entre a **var_continua_1** (que fará o papel dos ***valores $x$***) e a coluna **peso_1** (que fará o papel dos ***pesos $w$***). "
   ]
  },
  {
   "cell_type": "code",
   "execution_count": 31,
   "metadata": {
    "ExecuteTime": {
     "end_time": "2020-06-29T19:37:28.085616Z",
     "start_time": "2020-06-29T19:37:27.912614Z"
    }
   },
   "outputs": [
    {
     "data": {
      "text/html": [
       "<div>\n",
       "<style scoped>\n",
       "    .dataframe tbody tr th:only-of-type {\n",
       "        vertical-align: middle;\n",
       "    }\n",
       "\n",
       "    .dataframe tbody tr th {\n",
       "        vertical-align: top;\n",
       "    }\n",
       "\n",
       "    .dataframe thead th {\n",
       "        text-align: right;\n",
       "    }\n",
       "</style>\n",
       "<table border=\"1\" class=\"dataframe\">\n",
       "  <thead>\n",
       "    <tr style=\"text-align: right;\">\n",
       "      <th></th>\n",
       "      <th>var_continua_1</th>\n",
       "      <th>peso_1</th>\n",
       "    </tr>\n",
       "  </thead>\n",
       "  <tbody>\n",
       "    <tr>\n",
       "      <th>0</th>\n",
       "      <td>52.1</td>\n",
       "      <td>0.010302</td>\n",
       "    </tr>\n",
       "    <tr>\n",
       "      <th>1</th>\n",
       "      <td>41.5</td>\n",
       "      <td>0.008206</td>\n",
       "    </tr>\n",
       "    <tr>\n",
       "      <th>2</th>\n",
       "      <td>55.2</td>\n",
       "      <td>0.010915</td>\n",
       "    </tr>\n",
       "    <tr>\n",
       "      <th>3</th>\n",
       "      <td>85.4</td>\n",
       "      <td>0.016887</td>\n",
       "    </tr>\n",
       "    <tr>\n",
       "      <th>4</th>\n",
       "      <td>77.6</td>\n",
       "      <td>0.015344</td>\n",
       "    </tr>\n",
       "  </tbody>\n",
       "</table>\n",
       "</div>"
      ],
      "text/plain": [
       "   var_continua_1    peso_1\n",
       "0            52.1  0.010302\n",
       "1            41.5  0.008206\n",
       "2            55.2  0.010915\n",
       "3            85.4  0.016887\n",
       "4            77.6  0.015344"
      ]
     },
     "execution_count": 31,
     "metadata": {},
     "output_type": "execute_result"
    }
   ],
   "source": [
    "# Vamos revisitar essas colunas do dataframe instrucional (df1).\n",
    "df1[['var_continua_1', 'peso_1']].head()"
   ]
  },
  {
   "cell_type": "code",
   "execution_count": 32,
   "metadata": {
    "ExecuteTime": {
     "end_time": "2020-06-29T19:37:28.479032Z",
     "start_time": "2020-06-29T19:37:28.088614Z"
    }
   },
   "outputs": [
    {
     "data": {
      "text/html": [
       "<div>\n",
       "<style scoped>\n",
       "    .dataframe tbody tr th:only-of-type {\n",
       "        vertical-align: middle;\n",
       "    }\n",
       "\n",
       "    .dataframe tbody tr th {\n",
       "        vertical-align: top;\n",
       "    }\n",
       "\n",
       "    .dataframe thead th {\n",
       "        text-align: right;\n",
       "    }\n",
       "</style>\n",
       "<table border=\"1\" class=\"dataframe\">\n",
       "  <thead>\n",
       "    <tr style=\"text-align: right;\">\n",
       "      <th></th>\n",
       "      <th>var_continua_1</th>\n",
       "      <th>peso_1</th>\n",
       "      <th>pond_var_continua_1_peso_1</th>\n",
       "    </tr>\n",
       "  </thead>\n",
       "  <tbody>\n",
       "    <tr>\n",
       "      <th>0</th>\n",
       "      <td>52.1</td>\n",
       "      <td>0.010302</td>\n",
       "      <td>0.536742</td>\n",
       "    </tr>\n",
       "    <tr>\n",
       "      <th>1</th>\n",
       "      <td>41.5</td>\n",
       "      <td>0.008206</td>\n",
       "      <td>0.340554</td>\n",
       "    </tr>\n",
       "    <tr>\n",
       "      <th>2</th>\n",
       "      <td>55.2</td>\n",
       "      <td>0.010915</td>\n",
       "      <td>0.602515</td>\n",
       "    </tr>\n",
       "    <tr>\n",
       "      <th>3</th>\n",
       "      <td>85.4</td>\n",
       "      <td>0.016887</td>\n",
       "      <td>1.442134</td>\n",
       "    </tr>\n",
       "    <tr>\n",
       "      <th>4</th>\n",
       "      <td>77.6</td>\n",
       "      <td>0.015344</td>\n",
       "      <td>1.190730</td>\n",
       "    </tr>\n",
       "  </tbody>\n",
       "</table>\n",
       "</div>"
      ],
      "text/plain": [
       "   var_continua_1    peso_1  pond_var_continua_1_peso_1\n",
       "0            52.1  0.010302                    0.536742\n",
       "1            41.5  0.008206                    0.340554\n",
       "2            55.2  0.010915                    0.602515\n",
       "3            85.4  0.016887                    1.442134\n",
       "4            77.6  0.015344                    1.190730"
      ]
     },
     "execution_count": 32,
     "metadata": {},
     "output_type": "execute_result"
    }
   ],
   "source": [
    "# Agora vamos calcular a média ponderada\n",
    "df1['pond_var_continua_1_peso_1'] = df1['var_continua_1'] * df1['peso_1'] / df1['peso_1'].sum()\n",
    "\n",
    "df1[['var_continua_1', 'peso_1','pond_var_continua_1_peso_1']].head()"
   ]
  },
  {
   "cell_type": "markdown",
   "metadata": {},
   "source": [
    "### Exemplo 3\n",
    "\n",
    "Neste exemplo vamos mostrar o que é a aritmética de ponto flutuante. Para isto, primeiramente note que a coluna do dataframe df1 nada mais é do que os valores da coluna var_continua_1 divididos pela soma total desta coluna. Você pode verificar que a coluna peso_1 tem sua soma aproximadamente igual a 1. Isto aconteceu, pois fizemos os cálculos para esta coluna utilizando o Excel, e toda operação aritmética carrega um erro de arredondamento dependendo do software utilizado, e estes erros são propagados e acumulados."
   ]
  },
  {
   "cell_type": "code",
   "execution_count": 33,
   "metadata": {
    "ExecuteTime": {
     "end_time": "2020-06-29T19:37:28.574033Z",
     "start_time": "2020-06-29T19:37:28.485036Z"
    }
   },
   "outputs": [
    {
     "data": {
      "text/plain": [
       "0.9999999970000001"
      ]
     },
     "execution_count": 33,
     "metadata": {},
     "output_type": "execute_result"
    }
   ],
   "source": [
    "df1['peso_1'].sum()"
   ]
  },
  {
   "cell_type": "markdown",
   "metadata": {},
   "source": [
    "Agora vamos demonstrar que se tivéssemos calculado a coluna peso_1 no próprio Python, obteríamos um valor exatamente igual a 1.0. Para isto observe o código abaixo, vamos criar uma nova coluna no dataframe instrucional df1 chamada de peso_1_check."
   ]
  },
  {
   "cell_type": "code",
   "execution_count": 34,
   "metadata": {
    "ExecuteTime": {
     "end_time": "2020-06-29T19:37:28.780065Z",
     "start_time": "2020-06-29T19:37:28.576034Z"
    }
   },
   "outputs": [
    {
     "data": {
      "text/plain": [
       "1.0"
      ]
     },
     "execution_count": 34,
     "metadata": {},
     "output_type": "execute_result"
    }
   ],
   "source": [
    "df1['peso_1_check'] = df1['var_continua_1'] / df1['var_continua_1'].sum()\n",
    "\n",
    "df1['peso_1_check'].sum()"
   ]
  },
  {
   "cell_type": "markdown",
   "metadata": {},
   "source": [
    "### Exemplo 4: Aritmética do ponto flutuante\n",
    "\n",
    "Agora vamos calcular a subtração entre a coluna peso_1_check e a coluna peso_1. Repare que os valores calculados nesta operação serão muito pequenos, da ordem de $10^{-10}$."
   ]
  },
  {
   "cell_type": "code",
   "execution_count": 35,
   "metadata": {
    "ExecuteTime": {
     "end_time": "2020-06-29T19:37:28.890879Z",
     "start_time": "2020-06-29T19:37:28.782036Z"
    }
   },
   "outputs": [
    {
     "data": {
      "text/plain": [
       "0     4.786048e-10\n",
       "1    -3.527644e-11\n",
       "2    -9.752432e-11\n",
       "3    -1.617496e-10\n",
       "4     3.846397e-10\n",
       "          ...     \n",
       "95   -4.290121e-10\n",
       "96   -9.871075e-11\n",
       "97    3.247647e-10\n",
       "98    1.764613e-10\n",
       "99   -2.184608e-10\n",
       "Length: 100, dtype: float64"
      ]
     },
     "execution_count": 35,
     "metadata": {},
     "output_type": "execute_result"
    }
   ],
   "source": [
    "df1['peso_1_check']  - df1['peso_1']"
   ]
  },
  {
   "cell_type": "markdown",
   "metadata": {},
   "source": [
    "## Moda\n",
    "\n",
    "A moda é o elemento mais frequente em um conjunto de dados $x = (x_1,x_2,x_3...,x_n)$. No caso de não haver um elemento que se destaque como o mais frequente, o conjunto de dados $x$ é chamado de multimodal. Por exemplo, considere o conjunto de dados $x = (2,3,4,2,5,9,0,2)$, o número 2 aparece três vezes no conjunto de dados $x$. Um exemplo de conjunto multimodal seria o seguinte $x = (2,3,4,2,5,9,0,2,3,1,3)$ os números 2 e 3 aparecem cada um três vezes no conjunto de dados.\n",
    "\n",
    "### Exemplo 1"
   ]
  },
  {
   "cell_type": "code",
   "execution_count": 36,
   "metadata": {
    "ExecuteTime": {
     "end_time": "2020-06-29T19:37:29.016159Z",
     "start_time": "2020-06-29T19:37:28.892737Z"
    }
   },
   "outputs": [
    {
     "name": "stdout",
     "output_type": "stream",
     "text": [
      "0     4\n",
      "1     9\n",
      "2     8\n",
      "3     1\n",
      "4     4\n",
      "     ..\n",
      "95    6\n",
      "96    9\n",
      "97    6\n",
      "98    2\n",
      "99    4\n",
      "Name: var_discreta_1, Length: 100, dtype: int64\n"
     ]
    },
    {
     "data": {
      "text/plain": [
       "1"
      ]
     },
     "execution_count": 36,
     "metadata": {},
     "output_type": "execute_result"
    }
   ],
   "source": [
    "import statistics as stat\n",
    "\n",
    "x = df1['var_discreta_1']\n",
    "\n",
    "print(x)\n",
    "\n",
    "stat.mode(x)"
   ]
  },
  {
   "cell_type": "markdown",
   "metadata": {},
   "source": [
    "### Exemplo 2\n",
    "\n",
    "O exemplo abaixo calcula a moda de um conjunto de dados $x$, porém apresenta um grave problema. Você consegue perceber qual seria este grave problema? Veja a resposta abaixo, mas procure refletir sobre o código deste problema antes de olhar o gabarito.\n",
    "\n",
    "R: O código abaixo calcula a moda apenas para conjuntos de dados que não sejam multimodais."
   ]
  },
  {
   "cell_type": "code",
   "execution_count": 37,
   "metadata": {
    "ExecuteTime": {
     "end_time": "2020-06-29T19:37:29.110615Z",
     "start_time": "2020-06-29T19:37:29.019024Z"
    }
   },
   "outputs": [
    {
     "data": {
      "text/plain": [
       "2"
      ]
     },
     "execution_count": 37,
     "metadata": {},
     "output_type": "execute_result"
    }
   ],
   "source": [
    "x = [2,3,4,2,5,9,0,2]\n",
    "\n",
    "moda_x = max((x.count(item), item) for item in set(x))[1]\n",
    "\n",
    "moda_x"
   ]
  },
  {
   "cell_type": "markdown",
   "metadata": {},
   "source": [
    "### Exemplo 3\n",
    "\n",
    "Como mostramos no exemplo anterior, o código calcula a moda para conjuntos de dados que não sejam multimodais, vamos observar o seguinte conjunto $x = (2,3,4,2,5,9,0,2,3,1,3)$. Como mencionamos anteriormente, este conjunto de dados é multimodal e seus elementos mais frequentes são (2,3)."
   ]
  },
  {
   "cell_type": "code",
   "execution_count": 38,
   "metadata": {
    "ExecuteTime": {
     "end_time": "2020-06-29T19:37:29.269347Z",
     "start_time": "2020-06-29T19:37:29.113480Z"
    }
   },
   "outputs": [
    {
     "data": {
      "text/plain": [
       "3"
      ]
     },
     "execution_count": 38,
     "metadata": {},
     "output_type": "execute_result"
    }
   ],
   "source": [
    "x = [2,3,4,2,5,9,0,2,3,1,3]\n",
    "\n",
    "moda_x = max((x.count(item), item) for item in set(x))[1]\n",
    "\n",
    "moda_x"
   ]
  },
  {
   "cell_type": "markdown",
   "metadata": {},
   "source": [
    "### Exemplo 4\n",
    "\n",
    "Quando executamos a função mode() para o conjunto de dados $x = (2,3,4,2,5,9,0,2,3,1,3)$ um erro é acusado. Isto acontece, pois o conjunto de dados é multimodal e o output da função deveria ser um conjunto de dados $(2,3)$, o que acontece é que a função mode() não consegue lidar com estruturas de dados que não sejam um escalar (número). A versão 3.8 do Python possui a função multimode() que resolve este problema."
   ]
  },
  {
   "cell_type": "code",
   "execution_count": 40,
   "metadata": {
    "ExecuteTime": {
     "end_time": "2020-06-29T19:38:44.293710Z",
     "start_time": "2020-06-29T19:38:44.275708Z"
    }
   },
   "outputs": [
    {
     "ename": "StatisticsError",
     "evalue": "no unique mode; found 2 equally common values",
     "output_type": "error",
     "traceback": [
      "\u001b[1;31m---------------------------------------------------------------------------\u001b[0m",
      "\u001b[1;31mStatisticsError\u001b[0m                           Traceback (most recent call last)",
      "\u001b[1;32m<ipython-input-40-90019fe9dd27>\u001b[0m in \u001b[0;36m<module>\u001b[1;34m\u001b[0m\n\u001b[0;32m      1\u001b[0m \u001b[0mx\u001b[0m \u001b[1;33m=\u001b[0m \u001b[1;33m[\u001b[0m\u001b[1;36m2\u001b[0m\u001b[1;33m,\u001b[0m\u001b[1;36m3\u001b[0m\u001b[1;33m,\u001b[0m\u001b[1;36m4\u001b[0m\u001b[1;33m,\u001b[0m\u001b[1;36m2\u001b[0m\u001b[1;33m,\u001b[0m\u001b[1;36m5\u001b[0m\u001b[1;33m,\u001b[0m\u001b[1;36m9\u001b[0m\u001b[1;33m,\u001b[0m\u001b[1;36m0\u001b[0m\u001b[1;33m,\u001b[0m\u001b[1;36m2\u001b[0m\u001b[1;33m,\u001b[0m\u001b[1;36m3\u001b[0m\u001b[1;33m,\u001b[0m\u001b[1;36m1\u001b[0m\u001b[1;33m,\u001b[0m\u001b[1;36m3\u001b[0m\u001b[1;33m]\u001b[0m\u001b[1;33m\u001b[0m\u001b[1;33m\u001b[0m\u001b[0m\n\u001b[0;32m      2\u001b[0m \u001b[1;31m# Erro esperado:\u001b[0m\u001b[1;33m\u001b[0m\u001b[1;33m\u001b[0m\u001b[1;33m\u001b[0m\u001b[0m\n\u001b[1;32m----> 3\u001b[1;33m \u001b[0mstat\u001b[0m\u001b[1;33m.\u001b[0m\u001b[0mmode\u001b[0m\u001b[1;33m(\u001b[0m\u001b[0mx\u001b[0m\u001b[1;33m)\u001b[0m\u001b[1;33m\u001b[0m\u001b[1;33m\u001b[0m\u001b[0m\n\u001b[0m",
      "\u001b[1;32m~\\AppData\\Local\\Continuum\\anaconda3\\envs\\DG_Sirio\\lib\\statistics.py\u001b[0m in \u001b[0;36mmode\u001b[1;34m(data)\u001b[0m\n\u001b[0;32m    504\u001b[0m     \u001b[1;32melif\u001b[0m \u001b[0mtable\u001b[0m\u001b[1;33m:\u001b[0m\u001b[1;33m\u001b[0m\u001b[1;33m\u001b[0m\u001b[0m\n\u001b[0;32m    505\u001b[0m         raise StatisticsError(\n\u001b[1;32m--> 506\u001b[1;33m                 \u001b[1;34m'no unique mode; found %d equally common values'\u001b[0m \u001b[1;33m%\u001b[0m \u001b[0mlen\u001b[0m\u001b[1;33m(\u001b[0m\u001b[0mtable\u001b[0m\u001b[1;33m)\u001b[0m\u001b[1;33m\u001b[0m\u001b[1;33m\u001b[0m\u001b[0m\n\u001b[0m\u001b[0;32m    507\u001b[0m                 )\n\u001b[0;32m    508\u001b[0m     \u001b[1;32melse\u001b[0m\u001b[1;33m:\u001b[0m\u001b[1;33m\u001b[0m\u001b[1;33m\u001b[0m\u001b[0m\n",
      "\u001b[1;31mStatisticsError\u001b[0m: no unique mode; found 2 equally common values"
     ]
    }
   ],
   "source": [
    "x = [2,3,4,2,5,9,0,2,3,1,3]\n",
    "# Erro esperado:\n",
    "stat.mode(x)"
   ]
  },
  {
   "cell_type": "code",
   "execution_count": 41,
   "metadata": {
    "ExecuteTime": {
     "end_time": "2020-06-29T19:38:57.022270Z",
     "start_time": "2020-06-29T19:38:57.007274Z"
    }
   },
   "outputs": [],
   "source": [
    "x = [2,3,4,2,5,9,0,2,3,1,3]\n",
    "# Somente e python v3.8\n",
    "#stat.multimode(x)"
   ]
  },
  {
   "cell_type": "code",
   "execution_count": 42,
   "metadata": {
    "ExecuteTime": {
     "end_time": "2020-06-29T19:38:58.639829Z",
     "start_time": "2020-06-29T19:38:58.596799Z"
    }
   },
   "outputs": [
    {
     "data": {
      "text/plain": [
       "0    2\n",
       "1    3\n",
       "dtype: int64"
      ]
     },
     "execution_count": 42,
     "metadata": {},
     "output_type": "execute_result"
    }
   ],
   "source": [
    "x = [2,3,4,2,5,9,0,2,3,1,3]\n",
    "\n",
    "x = pd.Series(x)\n",
    "\n",
    "x.mode()"
   ]
  },
  {
   "cell_type": "code",
   "execution_count": 43,
   "metadata": {
    "ExecuteTime": {
     "end_time": "2020-06-29T19:39:04.065235Z",
     "start_time": "2020-06-29T19:39:04.048239Z"
    }
   },
   "outputs": [
    {
     "data": {
      "text/plain": [
       "0    25.1\n",
       "1    52.1\n",
       "2    55.8\n",
       "3    71.5\n",
       "4    86.8\n",
       "dtype: float64"
      ]
     },
     "execution_count": 43,
     "metadata": {},
     "output_type": "execute_result"
    }
   ],
   "source": [
    "df1['var_continua_1'].mode()"
   ]
  },
  {
   "cell_type": "markdown",
   "metadata": {
    "heading_collapsed": true
   },
   "source": [
    "## Mediana\n",
    "\n",
    "A mediana é definida como o valor central de um conjunto de valores ordenados $x$ de forma crescente,\n",
    "\n",
    "\\begin{equation}\n",
    "x = \\{x_1 < x_2 < x_3 < ...<  x_{n-1} < x_n\\},\n",
    "\\end{equation}\n",
    "\n",
    "ou de forma decrescente\n",
    "\n",
    "\\begin{equation}\n",
    "x = \\{x_1 > x_2 > x_3 > ... >  x_{n-1} > x_n\\},\n",
    "\\end{equation}\n",
    "\n",
    "\n",
    "que separa este conjunto em dois. Note que o conjunto de dados $x$ pode ter um número ímpar de termos ou um número par, ou seja $n$ pode ser ímpar ou par. O valor da mediana é o valor central $x_k$ onde $k$ é a posição do termo no conjunto, para o caso de $n$ ser ímpar o termo é calculado da seguinte maneira\n",
    "\n",
    "\\begin{equation}\n",
    "k = \\frac{1 + n}{2},\n",
    "\\end{equation}\n",
    "\n",
    "por exemplo vamos supor o conjunto de dados $x = (1,2,5,9,11)$ como existem cinco termos a mediana é o terceiro termo $(5+1)/2 = 3$, ou seja $med(x) = 5$. Para o caso de $n$ ser par a posição é calculada como a média aritmética entre os dois termos do meio que ocupam as posições $n/2$ e $(n+2)/2$, ou seja\n",
    "\n",
    "\\begin{equation}\n",
    "x_k = \\text{med}(x) = \\frac{x_{(n/2)} + x_{(n+2)/2}}{2}.\n",
    "\\end{equation}\n",
    "\n",
    "Vamos ilustrar com um exemplo, supondo o seguinte conjunto de dados $x = (1,2,5,9,11,21)$ que possui um número par de termos, neste caso $n=6$, então calculamos a mediana deste conjunto como a média aritmética dos termos $6/2 = 3$ e $(6 + 2)/2 = 4$, ou seja\n",
    "\n",
    "\\begin{equation}\n",
    "\\text{med}(x) = \\frac{x_3 + x_4}{2} = \\frac{5 + 9}{2} = 7.\n",
    "\\end{equation}\n",
    "\n",
    "Vale observar que para calcular a mediana é necessário que o conjunto de dados esteja devidamente ordenado, ou em ordem crescente ou em ordem decrescente e na maioria dos casos isto não ocorre, pois em um dataframe há diversas colunas sem nenhum tipo de causalidade, ou seja não é possível ordenar todas as colunas de uma vez, portanto é necessário realizar algumas operações estruturais para calcular a mediana de uma coluna de um dataframe.\n",
    "\n",
    "### Exemplo 1:\n",
    "\n",
    "Vamos calcular a mediana do conjunto de dados $x = (1,5,2,9,8,21,11,45,23,31,13,22,55,66,71,93,99,81)$."
   ]
  },
  {
   "cell_type": "code",
   "execution_count": 44,
   "metadata": {
    "ExecuteTime": {
     "end_time": "2020-06-29T19:39:04.732238Z",
     "start_time": "2020-06-29T19:39:04.710238Z"
    },
    "hidden": true
   },
   "outputs": [
    {
     "name": "stdout",
     "output_type": "stream",
     "text": [
      "x ordenado = [1, 2, 5, 8, 9, 11, 13, 21, 22, 23, 31, 45, 55, 66, 71, 81, 93, 99]\n",
      "n = 18\n",
      "mediana(x) = 22.5\n"
     ]
    }
   ],
   "source": [
    "# definindo o conjunto x\n",
    "x = [1,5,2,9,8,21,11,45,23,31,13,22,55,66,71,93,99,81]\n",
    "\n",
    "# ordenando o conjunto x usando a função sorted()\n",
    "x_ordenado = sorted(x)\n",
    "\n",
    "# imprime x ordenado\n",
    "print('x ordenado =', x_ordenado)\n",
    "\n",
    "# calcula o número n de termos de x\n",
    "n = len(x)\n",
    "\n",
    "# imprime o valor de n\n",
    "print('n =',n)\n",
    "\n",
    "# cálculo da mediana de x\n",
    "if n % 2:\n",
    "    mediana_x = x_ordenado[round(0.5 * (n-1))]\n",
    "else:\n",
    "    indice = round(0.5 * n)\n",
    "    mediana_x = 0.5 * (x_ordenado[indice - 1] + x_ordenado[indice])\n",
    "print('mediana(x) =',mediana_x)"
   ]
  },
  {
   "cell_type": "markdown",
   "metadata": {
    "hidden": true
   },
   "source": [
    "### Exemplo 2\n",
    "\n",
    "Agora vamos organizar os cálculos realizados no exemplo anterior e criar um método em Python para calcular a mediana de um conjunto qualquer de dados."
   ]
  },
  {
   "cell_type": "code",
   "execution_count": 45,
   "metadata": {
    "ExecuteTime": {
     "end_time": "2020-06-29T19:39:05.163240Z",
     "start_time": "2020-06-29T19:39:05.150239Z"
    },
    "hidden": true
   },
   "outputs": [],
   "source": [
    "def mediana(x):\n",
    "    n = len(x)\n",
    "    x_ordenado = sorted(x)\n",
    "    if n % 2:\n",
    "        mediana_x = x_ordenado[round(0.5 * (n+1))]\n",
    "    else:\n",
    "        indice = round(0.5 * n)  \n",
    "        mediana_x = 0.5 * (x_ordenado[indice - 1] + x_ordenado[indice])\n",
    "    print(x_ordenado[indice])\n",
    "    print('x_ordenado =',x_ordenado)\n",
    "    print('n =',n)\n",
    "    print('mediana(x) =',mediana_x)"
   ]
  },
  {
   "cell_type": "code",
   "execution_count": 46,
   "metadata": {
    "ExecuteTime": {
     "end_time": "2020-06-29T19:39:05.687240Z",
     "start_time": "2020-06-29T19:39:05.657237Z"
    },
    "hidden": true
   },
   "outputs": [
    {
     "name": "stdout",
     "output_type": "stream",
     "text": [
      "23\n",
      "x_ordenado = [1, 2, 5, 8, 9, 11, 13, 21, 22, 23, 31, 45, 55, 66, 71, 81, 93, 99]\n",
      "n = 18\n",
      "mediana(x) = 22.5\n"
     ]
    }
   ],
   "source": [
    "x = [1,5,2,9,8,21,11,45,23,31,13,22,55,66,71,93,99,81]\n",
    "\n",
    "mediana(x)"
   ]
  },
  {
   "cell_type": "markdown",
   "metadata": {
    "hidden": true
   },
   "source": [
    "### Exemplo 3"
   ]
  },
  {
   "cell_type": "code",
   "execution_count": 47,
   "metadata": {
    "ExecuteTime": {
     "end_time": "2020-06-29T19:39:06.148240Z",
     "start_time": "2020-06-29T19:39:06.118237Z"
    },
    "hidden": true
   },
   "outputs": [
    {
     "data": {
      "text/plain": [
       "22.5"
      ]
     },
     "execution_count": 47,
     "metadata": {},
     "output_type": "execute_result"
    }
   ],
   "source": [
    "import statistics as stat\n",
    "\n",
    "x = [1,5,2,9,8,21,11,45,23,31,13,22,55,66,71,93,99,81]\n",
    "\n",
    "stat.median(x)"
   ]
  },
  {
   "cell_type": "markdown",
   "metadata": {
    "hidden": true
   },
   "source": [
    "### Exemplo 4\n",
    "\n",
    "Neste exemplo vamos calcular a mediana das colunas do dataframe instrucional df1."
   ]
  },
  {
   "cell_type": "code",
   "execution_count": 48,
   "metadata": {
    "ExecuteTime": {
     "end_time": "2020-06-29T19:39:06.575241Z",
     "start_time": "2020-06-29T19:39:06.561240Z"
    },
    "hidden": true
   },
   "outputs": [
    {
     "name": "stdout",
     "output_type": "stream",
     "text": [
      "x_ordenado = [2.4, 2.7, 4.6, 4.9, 5.1, 5.4, 5.5, 6.2, 6.4, 7.0, 7.7, 8.8, 12.4, 13.2, 13.5, 14.9, 15.9, 16.2, 17.4, 17.5, 18.8, 20.6, 23.9, 24.1, 25.1, 25.1, 25.4, 26.5, 27.2, 30.6, 31.7, 32.8, 33.8, 34.6, 36.1, 36.2, 36.4, 36.7, 39.8, 41.5, 42.2, 42.3, 43.5, 44.7, 44.9, 50.1, 52.1, 52.1, 52.9, 54.1, 55.2, 55.3, 55.4, 55.8, 55.8, 56.6, 56.9, 57.1, 57.8, 58.2, 58.5, 62.3, 65.1, 66.9, 67.8, 69.7, 69.8, 70.9, 71.5, 71.5, 72.6, 73.3, 74.3, 74.4, 75.5, 75.7, 76.2, 77.4, 77.6, 78.9, 79.2, 79.3, 81.0, 81.9, 85.4, 86.8, 86.8, 88.6, 89.6, 89.8, 90.3, 90.4, 91.3, 93.3, 94.7, 94.9, 95.2, 96.7, 97.1, 97.4]\n",
      "mediana(x) = 54.650000000000006\n"
     ]
    }
   ],
   "source": [
    "x = df1['var_continua_1']\n",
    "\n",
    "print('x_ordenado =',sorted(x))\n",
    "\n",
    "print('mediana(x) =',stat.median(x))"
   ]
  },
  {
   "cell_type": "code",
   "execution_count": 49,
   "metadata": {
    "ExecuteTime": {
     "end_time": "2020-06-29T19:39:06.984236Z",
     "start_time": "2020-06-29T19:39:06.955239Z"
    },
    "hidden": true
   },
   "outputs": [
    {
     "data": {
      "text/html": [
       "<div>\n",
       "<style scoped>\n",
       "    .dataframe tbody tr th:only-of-type {\n",
       "        vertical-align: middle;\n",
       "    }\n",
       "\n",
       "    .dataframe tbody tr th {\n",
       "        vertical-align: top;\n",
       "    }\n",
       "\n",
       "    .dataframe thead th {\n",
       "        text-align: right;\n",
       "    }\n",
       "</style>\n",
       "<table border=\"1\" class=\"dataframe\">\n",
       "  <thead>\n",
       "    <tr style=\"text-align: right;\">\n",
       "      <th></th>\n",
       "      <th>ID</th>\n",
       "      <th>nominal_1</th>\n",
       "      <th>nominal_2</th>\n",
       "      <th>var_continua_1</th>\n",
       "      <th>var_continua_2</th>\n",
       "      <th>var_discreta_1</th>\n",
       "      <th>var_discreta_2</th>\n",
       "      <th>flag_1</th>\n",
       "      <th>flag_2</th>\n",
       "      <th>peso_1</th>\n",
       "      <th>peso_2</th>\n",
       "      <th>pond_var_continua_1_peso_1</th>\n",
       "      <th>peso_1_check</th>\n",
       "    </tr>\n",
       "  </thead>\n",
       "  <tbody>\n",
       "    <tr>\n",
       "      <th>0</th>\n",
       "      <td>1</td>\n",
       "      <td>C</td>\n",
       "      <td>X</td>\n",
       "      <td>52.1</td>\n",
       "      <td>18.2</td>\n",
       "      <td>4</td>\n",
       "      <td>47</td>\n",
       "      <td>0</td>\n",
       "      <td>5</td>\n",
       "      <td>0.010302</td>\n",
       "      <td>0.000368</td>\n",
       "      <td>0.536742</td>\n",
       "      <td>0.010302</td>\n",
       "    </tr>\n",
       "    <tr>\n",
       "      <th>1</th>\n",
       "      <td>2</td>\n",
       "      <td>C</td>\n",
       "      <td>Y</td>\n",
       "      <td>41.5</td>\n",
       "      <td>886.7</td>\n",
       "      <td>9</td>\n",
       "      <td>50</td>\n",
       "      <td>1</td>\n",
       "      <td>2</td>\n",
       "      <td>0.008206</td>\n",
       "      <td>0.017923</td>\n",
       "      <td>0.340554</td>\n",
       "      <td>0.008206</td>\n",
       "    </tr>\n",
       "    <tr>\n",
       "      <th>2</th>\n",
       "      <td>3</td>\n",
       "      <td>D</td>\n",
       "      <td>Y</td>\n",
       "      <td>55.2</td>\n",
       "      <td>563.7</td>\n",
       "      <td>8</td>\n",
       "      <td>96</td>\n",
       "      <td>1</td>\n",
       "      <td>5</td>\n",
       "      <td>0.010915</td>\n",
       "      <td>0.011394</td>\n",
       "      <td>0.602515</td>\n",
       "      <td>0.010915</td>\n",
       "    </tr>\n",
       "    <tr>\n",
       "      <th>3</th>\n",
       "      <td>4</td>\n",
       "      <td>B</td>\n",
       "      <td>Y</td>\n",
       "      <td>85.4</td>\n",
       "      <td>884.2</td>\n",
       "      <td>1</td>\n",
       "      <td>41</td>\n",
       "      <td>0</td>\n",
       "      <td>3</td>\n",
       "      <td>0.016887</td>\n",
       "      <td>0.017873</td>\n",
       "      <td>1.442134</td>\n",
       "      <td>0.016887</td>\n",
       "    </tr>\n",
       "    <tr>\n",
       "      <th>4</th>\n",
       "      <td>5</td>\n",
       "      <td>C</td>\n",
       "      <td>Y</td>\n",
       "      <td>77.6</td>\n",
       "      <td>859.0</td>\n",
       "      <td>4</td>\n",
       "      <td>95</td>\n",
       "      <td>1</td>\n",
       "      <td>2</td>\n",
       "      <td>0.015344</td>\n",
       "      <td>0.017363</td>\n",
       "      <td>1.190730</td>\n",
       "      <td>0.015344</td>\n",
       "    </tr>\n",
       "  </tbody>\n",
       "</table>\n",
       "</div>"
      ],
      "text/plain": [
       "   ID nominal_1 nominal_2  var_continua_1  var_continua_2  var_discreta_1  \\\n",
       "0   1         C         X            52.1            18.2               4   \n",
       "1   2         C         Y            41.5           886.7               9   \n",
       "2   3         D         Y            55.2           563.7               8   \n",
       "3   4         B         Y            85.4           884.2               1   \n",
       "4   5         C         Y            77.6           859.0               4   \n",
       "\n",
       "   var_discreta_2  flag_1  flag_2    peso_1    peso_2  \\\n",
       "0              47       0       5  0.010302  0.000368   \n",
       "1              50       1       2  0.008206  0.017923   \n",
       "2              96       1       5  0.010915  0.011394   \n",
       "3              41       0       3  0.016887  0.017873   \n",
       "4              95       1       2  0.015344  0.017363   \n",
       "\n",
       "   pond_var_continua_1_peso_1  peso_1_check  \n",
       "0                    0.536742      0.010302  \n",
       "1                    0.340554      0.008206  \n",
       "2                    0.602515      0.010915  \n",
       "3                    1.442134      0.016887  \n",
       "4                    1.190730      0.015344  "
      ]
     },
     "execution_count": 49,
     "metadata": {},
     "output_type": "execute_result"
    }
   ],
   "source": [
    "df1.head()"
   ]
  },
  {
   "cell_type": "code",
   "execution_count": 50,
   "metadata": {
    "ExecuteTime": {
     "end_time": "2020-06-29T19:39:07.157241Z",
     "start_time": "2020-06-29T19:39:07.114240Z"
    },
    "hidden": true
   },
   "outputs": [
    {
     "data": {
      "text/html": [
       "<div>\n",
       "<style scoped>\n",
       "    .dataframe tbody tr th:only-of-type {\n",
       "        vertical-align: middle;\n",
       "    }\n",
       "\n",
       "    .dataframe tbody tr th {\n",
       "        vertical-align: top;\n",
       "    }\n",
       "\n",
       "    .dataframe thead th {\n",
       "        text-align: right;\n",
       "    }\n",
       "</style>\n",
       "<table border=\"1\" class=\"dataframe\">\n",
       "  <thead>\n",
       "    <tr style=\"text-align: right;\">\n",
       "      <th></th>\n",
       "      <th>var_continua_1</th>\n",
       "      <th>var_continua_2</th>\n",
       "    </tr>\n",
       "    <tr>\n",
       "      <th>nominal_1</th>\n",
       "      <th></th>\n",
       "      <th></th>\n",
       "    </tr>\n",
       "  </thead>\n",
       "  <tbody>\n",
       "    <tr>\n",
       "      <th>A</th>\n",
       "      <td>42.2</td>\n",
       "      <td>501.096000</td>\n",
       "    </tr>\n",
       "    <tr>\n",
       "      <th>B</th>\n",
       "      <td>44.7</td>\n",
       "      <td>501.823077</td>\n",
       "    </tr>\n",
       "    <tr>\n",
       "      <th>C</th>\n",
       "      <td>57.8</td>\n",
       "      <td>464.313043</td>\n",
       "    </tr>\n",
       "    <tr>\n",
       "      <th>D</th>\n",
       "      <td>55.2</td>\n",
       "      <td>425.357895</td>\n",
       "    </tr>\n",
       "    <tr>\n",
       "      <th>E</th>\n",
       "      <td>57.0</td>\n",
       "      <td>582.990000</td>\n",
       "    </tr>\n",
       "  </tbody>\n",
       "</table>\n",
       "</div>"
      ],
      "text/plain": [
       "           var_continua_1  var_continua_2\n",
       "nominal_1                                \n",
       "A                    42.2      501.096000\n",
       "B                    44.7      501.823077\n",
       "C                    57.8      464.313043\n",
       "D                    55.2      425.357895\n",
       "E                    57.0      582.990000"
      ]
     },
     "execution_count": 50,
     "metadata": {},
     "output_type": "execute_result"
    }
   ],
   "source": [
    "df1.groupby(['nominal_1']).agg({'var_continua_1':'median','var_continua_2':'mean'})"
   ]
  },
  {
   "cell_type": "markdown",
   "metadata": {
    "heading_collapsed": true
   },
   "source": [
    "## Desafio Proposto\n",
    "\n",
    "Quando trabalhamos com análises de dados, boa parte do nosso trabalho é estruturar uma tabela com dados, desde criar os inputs, ingestões das bases, mineração, tratamento e enriquecimento. O cientista de dados e os analistas (BI, analytics, negócios, etc) atuam mais na parte de enriquecimento. Aqui vamos propor um desafio sobre como enriquecer uma base. No dataframe instrucional temos duas variáveis contínuas e duas nominais, mas também é possível criar novas variáveis a partir de variáveis originais das tabelas de dados. Sabendo disto, crie faixas para agrupar a variável \"var_continua_1\" em grupos bem definidos e use a função groupby do pandas para contar a frequência de cada grupo criado.\n",
    "\n",
    "**Dicas:** Primeiro entenda qual a régua da variável, encontrando seus valores mínimos, média, mediana, máximo."
   ]
  },
  {
   "cell_type": "code",
   "execution_count": null,
   "metadata": {},
   "outputs": [],
   "source": []
  },
  {
   "cell_type": "markdown",
   "metadata": {},
   "source": [
    "## Desafio Proposto II.\n",
    "Temos futuros motoristas aguardando um exame de direção no centro de condutores. Um grande jornal noticiou demonstrou que mesmo como uma taxa de reprovação de 30% os motoristas recém aprovados cometiam um número enorme de infrações de trânsito. O governo então decidiu endurecer as regras para aprovação na prova. A partir de agora serão aprovadas somente as pessoas com habilidade acima de média entre os que partiparem da avaliação. Na prova final, o avaliador atribuia notas de 0 a 10 para os alunos.\n",
    "\n",
    "No entanto, durante a prova um aluno desistiu e recebeu a nota 0. O resultado final foi que todos que terminaram a prova foram aprovados. Discuta e investigue como isso pode ter ocorrido."
   ]
  },
  {
   "cell_type": "code",
   "execution_count": 51,
   "metadata": {
    "ExecuteTime": {
     "end_time": "2020-06-29T19:39:07.824241Z",
     "start_time": "2020-06-29T19:39:07.812251Z"
    }
   },
   "outputs": [
    {
     "data": {
      "text/plain": [
       "8.59"
      ]
     },
     "execution_count": 51,
     "metadata": {},
     "output_type": "execute_result"
    }
   ],
   "source": [
    "import numpy as np\n",
    "np.mean([0,8.7,8.7,9.0,9.5,10,10,10,10,10])"
   ]
  },
  {
   "cell_type": "code",
   "execution_count": 52,
   "metadata": {
    "ExecuteTime": {
     "end_time": "2020-06-29T19:39:07.996417Z",
     "start_time": "2020-06-29T19:39:07.828240Z"
    }
   },
   "outputs": [
    {
     "data": {
      "text/plain": [
       "9.8"
      ]
     },
     "execution_count": 52,
     "metadata": {},
     "output_type": "execute_result"
    }
   ],
   "source": [
    "np.median([0,8.7,8.7,9,9.6,10,10,10,10,10])"
   ]
  },
  {
   "cell_type": "code",
   "execution_count": 53,
   "metadata": {
    "ExecuteTime": {
     "end_time": "2020-06-29T19:39:08.392387Z",
     "start_time": "2020-06-29T19:39:08.379387Z"
    }
   },
   "outputs": [
    {
     "data": {
      "text/plain": [
       "8.6"
      ]
     },
     "execution_count": 53,
     "metadata": {},
     "output_type": "execute_result"
    }
   ],
   "source": [
    "(0+8.7+8.7+9+9.6+10+10+10+10+10)/10"
   ]
  },
  {
   "cell_type": "markdown",
   "metadata": {},
   "source": [
    "# Kaggle - **COVID-19 - Clinical Data to assess diagnosis**\n",
    "**Sírio-Libanês data for AI and Analytics by Data Intelligence Team**"
   ]
  },
  {
   "cell_type": "markdown",
   "metadata": {},
   "source": [
    "Kaggle, a subsidiary of Google LLC, is an online community of data scientists and machine learning practitioners. Kaggle allows users to find and publish data sets, explore and build models in a web-based data-science environment, work with other data scientists and machine learning engineers, and enter competitions to solve data science challenges.[Fonte](https://en.wikipedia.org/wiki/Kaggle)"
   ]
  },
  {
   "cell_type": "markdown",
   "metadata": {},
   "source": [
    "[Desafio Kaggle Inteligência de Dados - HSL](https://www.kaggle.com/S%C3%ADrio-Libanes/covid19)"
   ]
  },
  {
   "cell_type": "markdown",
   "metadata": {},
   "source": [
    "# Caso 1: Simulando exploração de Dados em dataset financeiro"
   ]
  },
  {
   "cell_type": "markdown",
   "metadata": {
    "ExecuteTime": {
     "end_time": "2020-06-27T11:50:37.165537Z",
     "start_time": "2020-06-27T11:50:37.132504Z"
    }
   },
   "source": [
    "**O Dataset: Inadimplência em cartões de crédito** <br>\n",
    "Esse dataset está disponível no [Kaggle](https://www.kaggle.com/uciml/default-of-credit-card-clients-dataset/data?select=UCI_Credit_Card.csv). No link constam informações detalhadas sobre as variáveis presentes, bem como o contexto do negócio.\n",
    "\n",
    "Em resumo, o dataset contém informações sobre pagamentos, fatores demográficos e inadimplência/adimplência da fatura do cartão de crédito.\n",
    "\n",
    "\n",
    "**Conteúdo:**\n",
    "* ID: ID de cada cliente\n",
    "* SEX: 1 = homem, 2 = mulher\n",
    "* EDUCATION: 1=graduate school, 2=university, 3=high school, 4=others, 5=unknown, 6=unknown\n",
    "* MARRIAGE: Marital status (1=married, 2=single, 3=others)\n",
    "* AGE: Age in years\n",
    "* default.payment.next.month: Default payment (1=yes, 0=no)\n",
    "\n",
    "\n",
    "Inspiration\n",
    "Some ideas for exploration:\n",
    "\n",
    "How does the probability of default payment vary by categories of different demographic variables?\n",
    "Which variables are the strongest predictors of default payment?"
   ]
  },
  {
   "cell_type": "markdown",
   "metadata": {},
   "source": [
    "**Problema:** Você é um analista de crédito em uma empresa financeira que cobra juros diferentes de seus clientes de acordo com o score de risco. Hoje o score divide os clientes em faixas de acordo com a idade, no entanto o CFO lhe encarregou de avaliar se esse método é eficiente. Caso positivo ou negativo, ele espera que um formato de ajuste do score seja proposto.\n",
    "\n",
    "Para tanto, você tem acesso a variáveis demográficas e financeiras dos clientes, bem como a indicação de inadimplência e deve explorar a base histórica."
   ]
  },
  {
   "cell_type": "code",
   "execution_count": 54,
   "metadata": {
    "ExecuteTime": {
     "end_time": "2020-06-29T19:39:12.609697Z",
     "start_time": "2020-06-29T19:39:09.160388Z"
    }
   },
   "outputs": [],
   "source": [
    "import pandas as pd\n",
    "df = pd.read_csv('UCI_Credit_Card.csv')\n",
    "\n",
    "df['inadimplente'] = df['default.payment.next.month']\n",
    "df['sexo'] = df['SEX']\n",
    "df['educacao'] = df['EDUCATION']\n",
    "df['estado_civil'] = df['MARRIAGE']\n",
    "df['idade'] = df['AGE']\n",
    "df['vl_fatura'] = df['BILL_AMT6']\n",
    "\n",
    "df = df[['sexo', 'educacao', 'estado_civil','idade', 'vl_fatura', 'inadimplente']]\n",
    "\n",
    "df.to_csv('UCI_Cartao_Credito.csv', index = False)"
   ]
  },
  {
   "cell_type": "code",
   "execution_count": 55,
   "metadata": {
    "ExecuteTime": {
     "end_time": "2020-06-29T19:39:13.023709Z",
     "start_time": "2020-06-29T19:39:12.996612Z"
    }
   },
   "outputs": [],
   "source": [
    "import pandas as pd\n",
    "df = pd.read_csv('UCI_Cartao_Credito.csv')"
   ]
  },
  {
   "cell_type": "code",
   "execution_count": 56,
   "metadata": {
    "ExecuteTime": {
     "end_time": "2020-06-29T19:39:13.418597Z",
     "start_time": "2020-06-29T19:39:13.409598Z"
    }
   },
   "outputs": [
    {
     "data": {
      "text/plain": [
       "sexo              int64\n",
       "educacao          int64\n",
       "estado_civil      int64\n",
       "idade             int64\n",
       "vl_fatura       float64\n",
       "inadimplente      int64\n",
       "dtype: object"
      ]
     },
     "execution_count": 56,
     "metadata": {},
     "output_type": "execute_result"
    }
   ],
   "source": [
    "df.dtypes "
   ]
  },
  {
   "cell_type": "code",
   "execution_count": 57,
   "metadata": {
    "ExecuteTime": {
     "end_time": "2020-06-29T19:39:13.841595Z",
     "start_time": "2020-06-29T19:39:13.795605Z"
    }
   },
   "outputs": [
    {
     "data": {
      "text/html": [
       "<div>\n",
       "<style scoped>\n",
       "    .dataframe tbody tr th:only-of-type {\n",
       "        vertical-align: middle;\n",
       "    }\n",
       "\n",
       "    .dataframe tbody tr th {\n",
       "        vertical-align: top;\n",
       "    }\n",
       "\n",
       "    .dataframe thead th {\n",
       "        text-align: right;\n",
       "    }\n",
       "</style>\n",
       "<table border=\"1\" class=\"dataframe\">\n",
       "  <thead>\n",
       "    <tr style=\"text-align: right;\">\n",
       "      <th></th>\n",
       "      <th>sexo</th>\n",
       "      <th>educacao</th>\n",
       "      <th>estado_civil</th>\n",
       "      <th>idade</th>\n",
       "      <th>vl_fatura</th>\n",
       "      <th>inadimplente</th>\n",
       "    </tr>\n",
       "  </thead>\n",
       "  <tbody>\n",
       "    <tr>\n",
       "      <th>count</th>\n",
       "      <td>30000.000000</td>\n",
       "      <td>30000.000000</td>\n",
       "      <td>30000.000000</td>\n",
       "      <td>30000.000000</td>\n",
       "      <td>30000.000000</td>\n",
       "      <td>30000.000000</td>\n",
       "    </tr>\n",
       "    <tr>\n",
       "      <th>mean</th>\n",
       "      <td>1.603733</td>\n",
       "      <td>1.853133</td>\n",
       "      <td>1.551867</td>\n",
       "      <td>35.485500</td>\n",
       "      <td>38871.760400</td>\n",
       "      <td>0.221200</td>\n",
       "    </tr>\n",
       "    <tr>\n",
       "      <th>std</th>\n",
       "      <td>0.489129</td>\n",
       "      <td>0.790349</td>\n",
       "      <td>0.521970</td>\n",
       "      <td>9.217904</td>\n",
       "      <td>59554.107537</td>\n",
       "      <td>0.415062</td>\n",
       "    </tr>\n",
       "    <tr>\n",
       "      <th>min</th>\n",
       "      <td>1.000000</td>\n",
       "      <td>0.000000</td>\n",
       "      <td>0.000000</td>\n",
       "      <td>21.000000</td>\n",
       "      <td>-339603.000000</td>\n",
       "      <td>0.000000</td>\n",
       "    </tr>\n",
       "    <tr>\n",
       "      <th>25%</th>\n",
       "      <td>1.000000</td>\n",
       "      <td>1.000000</td>\n",
       "      <td>1.000000</td>\n",
       "      <td>28.000000</td>\n",
       "      <td>1256.000000</td>\n",
       "      <td>0.000000</td>\n",
       "    </tr>\n",
       "    <tr>\n",
       "      <th>50%</th>\n",
       "      <td>2.000000</td>\n",
       "      <td>2.000000</td>\n",
       "      <td>2.000000</td>\n",
       "      <td>34.000000</td>\n",
       "      <td>17071.000000</td>\n",
       "      <td>0.000000</td>\n",
       "    </tr>\n",
       "    <tr>\n",
       "      <th>75%</th>\n",
       "      <td>2.000000</td>\n",
       "      <td>2.000000</td>\n",
       "      <td>2.000000</td>\n",
       "      <td>41.000000</td>\n",
       "      <td>49198.250000</td>\n",
       "      <td>0.000000</td>\n",
       "    </tr>\n",
       "    <tr>\n",
       "      <th>max</th>\n",
       "      <td>2.000000</td>\n",
       "      <td>6.000000</td>\n",
       "      <td>3.000000</td>\n",
       "      <td>79.000000</td>\n",
       "      <td>961664.000000</td>\n",
       "      <td>1.000000</td>\n",
       "    </tr>\n",
       "  </tbody>\n",
       "</table>\n",
       "</div>"
      ],
      "text/plain": [
       "               sexo      educacao  estado_civil         idade      vl_fatura  \\\n",
       "count  30000.000000  30000.000000  30000.000000  30000.000000   30000.000000   \n",
       "mean       1.603733      1.853133      1.551867     35.485500   38871.760400   \n",
       "std        0.489129      0.790349      0.521970      9.217904   59554.107537   \n",
       "min        1.000000      0.000000      0.000000     21.000000 -339603.000000   \n",
       "25%        1.000000      1.000000      1.000000     28.000000    1256.000000   \n",
       "50%        2.000000      2.000000      2.000000     34.000000   17071.000000   \n",
       "75%        2.000000      2.000000      2.000000     41.000000   49198.250000   \n",
       "max        2.000000      6.000000      3.000000     79.000000  961664.000000   \n",
       "\n",
       "       inadimplente  \n",
       "count  30000.000000  \n",
       "mean       0.221200  \n",
       "std        0.415062  \n",
       "min        0.000000  \n",
       "25%        0.000000  \n",
       "50%        0.000000  \n",
       "75%        0.000000  \n",
       "max        1.000000  "
      ]
     },
     "execution_count": 57,
     "metadata": {},
     "output_type": "execute_result"
    }
   ],
   "source": [
    "df.describe()"
   ]
  },
  {
   "cell_type": "code",
   "execution_count": 58,
   "metadata": {
    "ExecuteTime": {
     "end_time": "2020-06-29T19:39:14.252600Z",
     "start_time": "2020-06-29T19:39:14.223596Z"
    }
   },
   "outputs": [
    {
     "data": {
      "text/html": [
       "<div>\n",
       "<style scoped>\n",
       "    .dataframe tbody tr th:only-of-type {\n",
       "        vertical-align: middle;\n",
       "    }\n",
       "\n",
       "    .dataframe tbody tr th {\n",
       "        vertical-align: top;\n",
       "    }\n",
       "\n",
       "    .dataframe thead th {\n",
       "        text-align: right;\n",
       "    }\n",
       "</style>\n",
       "<table border=\"1\" class=\"dataframe\">\n",
       "  <thead>\n",
       "    <tr style=\"text-align: right;\">\n",
       "      <th></th>\n",
       "      <th>sexo</th>\n",
       "      <th>educacao</th>\n",
       "      <th>estado_civil</th>\n",
       "      <th>idade</th>\n",
       "      <th>vl_fatura</th>\n",
       "      <th>inadimplente</th>\n",
       "    </tr>\n",
       "  </thead>\n",
       "  <tbody>\n",
       "    <tr>\n",
       "      <th>0</th>\n",
       "      <td>2</td>\n",
       "      <td>2</td>\n",
       "      <td>1</td>\n",
       "      <td>24</td>\n",
       "      <td>0.0</td>\n",
       "      <td>1</td>\n",
       "    </tr>\n",
       "    <tr>\n",
       "      <th>1</th>\n",
       "      <td>2</td>\n",
       "      <td>2</td>\n",
       "      <td>2</td>\n",
       "      <td>26</td>\n",
       "      <td>3261.0</td>\n",
       "      <td>1</td>\n",
       "    </tr>\n",
       "  </tbody>\n",
       "</table>\n",
       "</div>"
      ],
      "text/plain": [
       "   sexo  educacao  estado_civil  idade  vl_fatura  inadimplente\n",
       "0     2         2             1     24        0.0             1\n",
       "1     2         2             2     26     3261.0             1"
      ]
     },
     "execution_count": 58,
     "metadata": {},
     "output_type": "execute_result"
    }
   ],
   "source": [
    "df.head(2)"
   ]
  },
  {
   "cell_type": "code",
   "execution_count": 59,
   "metadata": {
    "ExecuteTime": {
     "end_time": "2020-06-29T19:39:14.757604Z",
     "start_time": "2020-06-29T19:39:14.666597Z"
    }
   },
   "outputs": [],
   "source": [
    "# Corrigindo tipos\n",
    "df['sexo'] = df['sexo'].astype(str)\n",
    "df['educacao'] = df['educacao'].astype(str)\n",
    "df['estado_civil'] = df['estado_civil'].astype(str)\n",
    "df['inadimplente'] = df['inadimplente'].astype(str)"
   ]
  },
  {
   "cell_type": "code",
   "execution_count": 60,
   "metadata": {
    "ExecuteTime": {
     "end_time": "2020-06-29T19:39:15.184598Z",
     "start_time": "2020-06-29T19:39:15.154597Z"
    }
   },
   "outputs": [
    {
     "data": {
      "text/html": [
       "<div>\n",
       "<style scoped>\n",
       "    .dataframe tbody tr th:only-of-type {\n",
       "        vertical-align: middle;\n",
       "    }\n",
       "\n",
       "    .dataframe tbody tr th {\n",
       "        vertical-align: top;\n",
       "    }\n",
       "\n",
       "    .dataframe thead th {\n",
       "        text-align: right;\n",
       "    }\n",
       "</style>\n",
       "<table border=\"1\" class=\"dataframe\">\n",
       "  <thead>\n",
       "    <tr style=\"text-align: right;\">\n",
       "      <th></th>\n",
       "      <th>idade</th>\n",
       "      <th>vl_fatura</th>\n",
       "    </tr>\n",
       "  </thead>\n",
       "  <tbody>\n",
       "    <tr>\n",
       "      <th>count</th>\n",
       "      <td>30000.000000</td>\n",
       "      <td>30000.000000</td>\n",
       "    </tr>\n",
       "    <tr>\n",
       "      <th>mean</th>\n",
       "      <td>35.485500</td>\n",
       "      <td>38871.760400</td>\n",
       "    </tr>\n",
       "    <tr>\n",
       "      <th>std</th>\n",
       "      <td>9.217904</td>\n",
       "      <td>59554.107537</td>\n",
       "    </tr>\n",
       "    <tr>\n",
       "      <th>min</th>\n",
       "      <td>21.000000</td>\n",
       "      <td>-339603.000000</td>\n",
       "    </tr>\n",
       "    <tr>\n",
       "      <th>25%</th>\n",
       "      <td>28.000000</td>\n",
       "      <td>1256.000000</td>\n",
       "    </tr>\n",
       "    <tr>\n",
       "      <th>50%</th>\n",
       "      <td>34.000000</td>\n",
       "      <td>17071.000000</td>\n",
       "    </tr>\n",
       "    <tr>\n",
       "      <th>75%</th>\n",
       "      <td>41.000000</td>\n",
       "      <td>49198.250000</td>\n",
       "    </tr>\n",
       "    <tr>\n",
       "      <th>max</th>\n",
       "      <td>79.000000</td>\n",
       "      <td>961664.000000</td>\n",
       "    </tr>\n",
       "  </tbody>\n",
       "</table>\n",
       "</div>"
      ],
      "text/plain": [
       "              idade      vl_fatura\n",
       "count  30000.000000   30000.000000\n",
       "mean      35.485500   38871.760400\n",
       "std        9.217904   59554.107537\n",
       "min       21.000000 -339603.000000\n",
       "25%       28.000000    1256.000000\n",
       "50%       34.000000   17071.000000\n",
       "75%       41.000000   49198.250000\n",
       "max       79.000000  961664.000000"
      ]
     },
     "execution_count": 60,
     "metadata": {},
     "output_type": "execute_result"
    }
   ],
   "source": [
    "df.describe()"
   ]
  },
  {
   "cell_type": "code",
   "execution_count": 61,
   "metadata": {
    "ExecuteTime": {
     "end_time": "2020-06-29T19:39:15.736605Z",
     "start_time": "2020-06-29T19:39:15.707596Z"
    }
   },
   "outputs": [],
   "source": [
    "# Removendo faturas com valor <= 0\n",
    "df = df[df['vl_fatura']> 0].reset_index(drop=True)"
   ]
  },
  {
   "cell_type": "code",
   "execution_count": 62,
   "metadata": {
    "ExecuteTime": {
     "end_time": "2020-06-29T19:39:16.115595Z",
     "start_time": "2020-06-29T19:39:16.085597Z"
    }
   },
   "outputs": [
    {
     "data": {
      "text/html": [
       "<div>\n",
       "<style scoped>\n",
       "    .dataframe tbody tr th:only-of-type {\n",
       "        vertical-align: middle;\n",
       "    }\n",
       "\n",
       "    .dataframe tbody tr th {\n",
       "        vertical-align: top;\n",
       "    }\n",
       "\n",
       "    .dataframe thead th {\n",
       "        text-align: right;\n",
       "    }\n",
       "</style>\n",
       "<table border=\"1\" class=\"dataframe\">\n",
       "  <thead>\n",
       "    <tr style=\"text-align: right;\">\n",
       "      <th></th>\n",
       "      <th>idade</th>\n",
       "      <th>vl_fatura</th>\n",
       "    </tr>\n",
       "  </thead>\n",
       "  <tbody>\n",
       "    <tr>\n",
       "      <th>count</th>\n",
       "      <td>25292.000000</td>\n",
       "      <td>25292.000000</td>\n",
       "    </tr>\n",
       "    <tr>\n",
       "      <th>mean</th>\n",
       "      <td>35.437451</td>\n",
       "      <td>46191.209197</td>\n",
       "    </tr>\n",
       "    <tr>\n",
       "      <th>std</th>\n",
       "      <td>9.244178</td>\n",
       "      <td>62103.183037</td>\n",
       "    </tr>\n",
       "    <tr>\n",
       "      <th>min</th>\n",
       "      <td>21.000000</td>\n",
       "      <td>1.000000</td>\n",
       "    </tr>\n",
       "    <tr>\n",
       "      <th>25%</th>\n",
       "      <td>28.000000</td>\n",
       "      <td>6634.500000</td>\n",
       "    </tr>\n",
       "    <tr>\n",
       "      <th>50%</th>\n",
       "      <td>34.000000</td>\n",
       "      <td>22635.000000</td>\n",
       "    </tr>\n",
       "    <tr>\n",
       "      <th>75%</th>\n",
       "      <td>41.000000</td>\n",
       "      <td>59188.250000</td>\n",
       "    </tr>\n",
       "    <tr>\n",
       "      <th>max</th>\n",
       "      <td>79.000000</td>\n",
       "      <td>961664.000000</td>\n",
       "    </tr>\n",
       "  </tbody>\n",
       "</table>\n",
       "</div>"
      ],
      "text/plain": [
       "              idade      vl_fatura\n",
       "count  25292.000000   25292.000000\n",
       "mean      35.437451   46191.209197\n",
       "std        9.244178   62103.183037\n",
       "min       21.000000       1.000000\n",
       "25%       28.000000    6634.500000\n",
       "50%       34.000000   22635.000000\n",
       "75%       41.000000   59188.250000\n",
       "max       79.000000  961664.000000"
      ]
     },
     "execution_count": 62,
     "metadata": {},
     "output_type": "execute_result"
    }
   ],
   "source": [
    "df.describe()"
   ]
  },
  {
   "cell_type": "code",
   "execution_count": 63,
   "metadata": {
    "ExecuteTime": {
     "end_time": "2020-06-29T19:39:16.619141Z",
     "start_time": "2020-06-29T19:39:16.467598Z"
    }
   },
   "outputs": [
    {
     "data": {
      "image/png": "[encoded data removed]",
      "text/plain": [
       "<Figure size 540x360 with 1 Axes>"
      ]
     },
     "metadata": {
      "needs_background": "light"
     },
     "output_type": "display_data"
    }
   ],
   "source": [
    "# Vamos avaliar a distribuição de dados para variáveis categóricas\n",
    "import matplotlib.pyplot as plt\n",
    "import seaborn as sns\n",
    "\n",
    "plt.figure(figsize=(7.5,5))\n",
    "\n",
    "variaveis_plt = ['inadimplente']\n",
    "for i, var in enumerate(variaveis_plt):\n",
    "    plt.subplot(1,1,i+1)\n",
    "    sns.countplot(df[var])\n",
    "    plt.title(\"Grafico de Barras para \" + var)   \n",
    "    if var == 'idade':\n",
    "        plt.xticks(rotation = 90, size = 7)"
   ]
  },
  {
   "cell_type": "code",
   "execution_count": 64,
   "metadata": {
    "ExecuteTime": {
     "end_time": "2020-06-29T19:39:17.935706Z",
     "start_time": "2020-06-29T19:39:16.949709Z"
    }
   },
   "outputs": [
    {
     "data": {
      "image/png": "[encoded data removed]",
      "text/plain": [
       "<Figure size 1080x720 with 4 Axes>"
      ]
     },
     "metadata": {
      "needs_background": "light"
     },
     "output_type": "display_data"
    }
   ],
   "source": [
    "# Vamos avaliar a distribuição de dados para os fatores\n",
    "import matplotlib.pyplot as plt\n",
    "import seaborn as sns\n",
    "\n",
    "# Idade tratada como categoria: https://www.ncbi.nlm.nih.gov/pmc/articles/PMC5806344/\n",
    "\n",
    "plt.figure(figsize=(15,10))\n",
    "\n",
    "variaveis_plt = ['sexo', 'educacao', 'estado_civil', 'idade']\n",
    "for i, var in enumerate(variaveis_plt):\n",
    "    plt.subplot(2,2,i+1)\n",
    "    sns.countplot(x = var, data = df)\n",
    "    plt.title(\"Grafico de Barras para \" + var)   \n",
    "    if var == 'idade':\n",
    "        plt.xticks(rotation = 90, size = 7)"
   ]
  },
  {
   "cell_type": "code",
   "execution_count": 65,
   "metadata": {
    "ExecuteTime": {
     "end_time": "2020-06-29T19:39:19.575708Z",
     "start_time": "2020-06-29T19:39:18.385709Z"
    }
   },
   "outputs": [
    {
     "data": {
      "image/png": "[encoded data removed]",
      "text/plain": [
       "<Figure size 1080x720 with 4 Axes>"
      ]
     },
     "metadata": {
      "needs_background": "light"
     },
     "output_type": "display_data"
    }
   ],
   "source": [
    "# Vamos avaliar a distribuição de dados para variáveis categóricas, separando inadimplentes de adimplentes\n",
    "\n",
    "import matplotlib.pyplot as plt\n",
    "import seaborn as sns\n",
    "\n",
    "plt.figure(figsize=(15,10))\n",
    "\n",
    "variaveis_plt = ['sexo', 'educacao', 'estado_civil', 'idade']\n",
    "for i, var in enumerate(variaveis_plt):\n",
    "    plt.subplot(2,2,i+1)\n",
    "    sns.countplot(x = var, hue = 'inadimplente', data = df)\n",
    "    plt.title(\"Grafico de Barras para \" + var)   \n",
    "    if var == 'idade':\n",
    "        plt.xticks(rotation = 90, size = 7)"
   ]
  },
  {
   "cell_type": "code",
   "execution_count": 66,
   "metadata": {
    "ExecuteTime": {
     "end_time": "2020-06-29T19:39:20.048709Z",
     "start_time": "2020-06-29T19:39:19.955708Z"
    }
   },
   "outputs": [
    {
     "data": {
      "text/html": [
       "<div>\n",
       "<style scoped>\n",
       "    .dataframe tbody tr th:only-of-type {\n",
       "        vertical-align: middle;\n",
       "    }\n",
       "\n",
       "    .dataframe tbody tr th {\n",
       "        vertical-align: top;\n",
       "    }\n",
       "\n",
       "    .dataframe thead th {\n",
       "        text-align: right;\n",
       "    }\n",
       "</style>\n",
       "<table border=\"1\" class=\"dataframe\">\n",
       "  <thead>\n",
       "    <tr style=\"text-align: right;\">\n",
       "      <th></th>\n",
       "      <th>sexo</th>\n",
       "      <th>pct_inad</th>\n",
       "    </tr>\n",
       "  </thead>\n",
       "  <tbody>\n",
       "    <tr>\n",
       "      <th>2</th>\n",
       "      <td>1</td>\n",
       "      <td>44.0</td>\n",
       "    </tr>\n",
       "    <tr>\n",
       "      <th>3</th>\n",
       "      <td>2</td>\n",
       "      <td>56.0</td>\n",
       "    </tr>\n",
       "  </tbody>\n",
       "</table>\n",
       "</div>"
      ],
      "text/plain": [
       "  sexo  pct_inad\n",
       "2    1      44.0\n",
       "3    2      56.0"
      ]
     },
     "execution_count": 66,
     "metadata": {},
     "output_type": "execute_result"
    }
   ],
   "source": [
    "# Calculando porcentagem de inadimplentes por cada categoria\n",
    "var = 'sexo'\n",
    "df['pct_inad'] = df['vl_fatura']\n",
    "\n",
    "df_2 = df.groupby(['inadimplente', var]).count()[['pct_inad']].groupby(level=[0]).apply(lambda g: round(100*g / g.sum())).reset_index()\n",
    "df_var = df_2[df_2['inadimplente'] == '1'][[var, 'pct_inad']]\n",
    "\n",
    "df_var"
   ]
  },
  {
   "cell_type": "code",
   "execution_count": 67,
   "metadata": {
    "ExecuteTime": {
     "end_time": "2020-06-29T19:39:20.601710Z",
     "start_time": "2020-06-29T19:39:20.556710Z"
    }
   },
   "outputs": [
    {
     "data": {
      "text/html": [
       "<div>\n",
       "<style scoped>\n",
       "    .dataframe tbody tr th:only-of-type {\n",
       "        vertical-align: middle;\n",
       "    }\n",
       "\n",
       "    .dataframe tbody tr th {\n",
       "        vertical-align: top;\n",
       "    }\n",
       "\n",
       "    .dataframe thead th {\n",
       "        text-align: right;\n",
       "    }\n",
       "</style>\n",
       "<table border=\"1\" class=\"dataframe\">\n",
       "  <thead>\n",
       "    <tr style=\"text-align: right;\">\n",
       "      <th></th>\n",
       "      <th>educacao</th>\n",
       "      <th>pct_inad</th>\n",
       "    </tr>\n",
       "  </thead>\n",
       "  <tbody>\n",
       "    <tr>\n",
       "      <th>7</th>\n",
       "      <td>1</td>\n",
       "      <td>29.0</td>\n",
       "    </tr>\n",
       "    <tr>\n",
       "      <th>8</th>\n",
       "      <td>2</td>\n",
       "      <td>52.0</td>\n",
       "    </tr>\n",
       "    <tr>\n",
       "      <th>9</th>\n",
       "      <td>3</td>\n",
       "      <td>19.0</td>\n",
       "    </tr>\n",
       "    <tr>\n",
       "      <th>10</th>\n",
       "      <td>4</td>\n",
       "      <td>0.0</td>\n",
       "    </tr>\n",
       "    <tr>\n",
       "      <th>11</th>\n",
       "      <td>5</td>\n",
       "      <td>0.0</td>\n",
       "    </tr>\n",
       "    <tr>\n",
       "      <th>12</th>\n",
       "      <td>6</td>\n",
       "      <td>0.0</td>\n",
       "    </tr>\n",
       "  </tbody>\n",
       "</table>\n",
       "</div>"
      ],
      "text/plain": [
       "   educacao  pct_inad\n",
       "7         1      29.0\n",
       "8         2      52.0\n",
       "9         3      19.0\n",
       "10        4       0.0\n",
       "11        5       0.0\n",
       "12        6       0.0"
      ]
     },
     "execution_count": 67,
     "metadata": {},
     "output_type": "execute_result"
    }
   ],
   "source": [
    "# Calculando porcentagem de inadimplentes por cada categoria\n",
    "var = 'educacao'\n",
    "df['pct_inad'] = df['vl_fatura']\n",
    "\n",
    "df_2 = df.groupby(['inadimplente', var]).count()[['pct_inad']].groupby(level=[0]).apply(lambda g: round(100*g / g.sum())).reset_index()\n",
    "df_var = df_2[df_2['inadimplente'] == '1'][[var, 'pct_inad']]\n",
    "\n",
    "df_var"
   ]
  },
  {
   "cell_type": "code",
   "execution_count": 68,
   "metadata": {
    "ExecuteTime": {
     "end_time": "2020-06-29T19:39:22.850986Z",
     "start_time": "2020-06-29T19:39:21.061707Z"
    }
   },
   "outputs": [
    {
     "data": {
      "image/png": "[encoded data removed]",
      "text/plain": [
       "<Figure size 1080x1440 with 8 Axes>"
      ]
     },
     "metadata": {
      "needs_background": "light"
     },
     "output_type": "display_data"
    }
   ],
   "source": [
    "# Vamos avaliar a distribuição de dados para variáveis categóricas, separando inadimplentes de adimplentes e unindo a avaliação de porcentagem\n",
    "import matplotlib.pyplot as plt\n",
    "import seaborn as sns\n",
    "\n",
    "plt.figure(figsize=(15,20))\n",
    "\n",
    "df['pct_inad'] = df['vl_fatura']\n",
    "\n",
    "variaveis_plt = ['sexo', 'educacao', 'estado_civil', 'idade']\n",
    "i = 0\n",
    "for var in variaveis_plt:\n",
    "    \n",
    "    # Gráfico de Barras\n",
    "    i = i+1\n",
    "    plt.subplot(4,2,i)\n",
    "    sns.countplot(x = var, hue = 'inadimplente', data = df)\n",
    "    plt.title(\"Grafico de Barras para \" + var)   \n",
    "    if var == 'idade':\n",
    "        plt.xticks(rotation = 90, size = 7)\n",
    "        \n",
    "    \n",
    "    # Plot porcentagem\n",
    "    i = i+1\n",
    "    plt.subplot(4,2,i)\n",
    "    df_2 = df.groupby(['inadimplente', var]).count()[['pct_inad']].groupby(level=[0]).apply(lambda g: round(100*g / g.sum())).reset_index()\n",
    "    df_var = df_2[df_2['inadimplente'] == '1'][[var, 'pct_inad']]\n",
    "\n",
    "    sns.scatterplot(x = var, y = 'pct_inad', data = df_var)\n",
    " "
   ]
  },
  {
   "cell_type": "code",
   "execution_count": 70,
   "metadata": {
    "ExecuteTime": {
     "end_time": "2020-06-29T19:39:32.413605Z",
     "start_time": "2020-06-29T19:39:32.362613Z"
    }
   },
   "outputs": [],
   "source": [
    "# Vamos aprimorar a análise para idade, criando faixas\n",
    "# Cria faixa de idade\n",
    "category = pd.cut(df['idade'],bins=[0,20,30,40,50,60,70,80,90,100],\n",
    "                  labels=['<20','20-30','30-40','40-50','50-60','60-70','70-80','80-90','90-100'])\n",
    "df.insert(5,'faixa_idade',category)\n",
    "df['faixa_idade'] = df['faixa_idade'].astype(str)\n"
   ]
  },
  {
   "cell_type": "code",
   "execution_count": 105,
   "metadata": {
    "ExecuteTime": {
     "end_time": "2020-06-29T20:35:18.402574Z",
     "start_time": "2020-06-29T20:35:18.375791Z"
    }
   },
   "outputs": [
    {
     "data": {
      "text/html": [
       "<div>\n",
       "<style scoped>\n",
       "    .dataframe tbody tr th:only-of-type {\n",
       "        vertical-align: middle;\n",
       "    }\n",
       "\n",
       "    .dataframe tbody tr th {\n",
       "        vertical-align: top;\n",
       "    }\n",
       "\n",
       "    .dataframe thead th {\n",
       "        text-align: right;\n",
       "    }\n",
       "</style>\n",
       "<table border=\"1\" class=\"dataframe\">\n",
       "  <thead>\n",
       "    <tr style=\"text-align: right;\">\n",
       "      <th></th>\n",
       "      <th>sexo</th>\n",
       "      <th>educacao</th>\n",
       "      <th>estado_civil</th>\n",
       "      <th>idade</th>\n",
       "      <th>vl_fatura</th>\n",
       "      <th>faixa_idade</th>\n",
       "      <th>inadimplente</th>\n",
       "      <th>pct_inad</th>\n",
       "    </tr>\n",
       "  </thead>\n",
       "  <tbody>\n",
       "    <tr>\n",
       "      <th>0</th>\n",
       "      <td>2</td>\n",
       "      <td>2</td>\n",
       "      <td>2</td>\n",
       "      <td>26</td>\n",
       "      <td>3261.0</td>\n",
       "      <td>20-30</td>\n",
       "      <td>1</td>\n",
       "      <td>3261.0</td>\n",
       "    </tr>\n",
       "    <tr>\n",
       "      <th>1</th>\n",
       "      <td>2</td>\n",
       "      <td>2</td>\n",
       "      <td>2</td>\n",
       "      <td>34</td>\n",
       "      <td>15549.0</td>\n",
       "      <td>30-40</td>\n",
       "      <td>0</td>\n",
       "      <td>15549.0</td>\n",
       "    </tr>\n",
       "    <tr>\n",
       "      <th>2</th>\n",
       "      <td>2</td>\n",
       "      <td>2</td>\n",
       "      <td>1</td>\n",
       "      <td>37</td>\n",
       "      <td>29547.0</td>\n",
       "      <td>30-40</td>\n",
       "      <td>0</td>\n",
       "      <td>29547.0</td>\n",
       "    </tr>\n",
       "    <tr>\n",
       "      <th>3</th>\n",
       "      <td>1</td>\n",
       "      <td>2</td>\n",
       "      <td>1</td>\n",
       "      <td>57</td>\n",
       "      <td>19131.0</td>\n",
       "      <td>50-60</td>\n",
       "      <td>0</td>\n",
       "      <td>19131.0</td>\n",
       "    </tr>\n",
       "    <tr>\n",
       "      <th>4</th>\n",
       "      <td>1</td>\n",
       "      <td>1</td>\n",
       "      <td>2</td>\n",
       "      <td>37</td>\n",
       "      <td>20024.0</td>\n",
       "      <td>30-40</td>\n",
       "      <td>0</td>\n",
       "      <td>20024.0</td>\n",
       "    </tr>\n",
       "  </tbody>\n",
       "</table>\n",
       "</div>"
      ],
      "text/plain": [
       "  sexo educacao estado_civil  idade  vl_fatura faixa_idade inadimplente  \\\n",
       "0    2        2            2     26     3261.0       20-30            1   \n",
       "1    2        2            2     34    15549.0       30-40            0   \n",
       "2    2        2            1     37    29547.0       30-40            0   \n",
       "3    1        2            1     57    19131.0       50-60            0   \n",
       "4    1        1            2     37    20024.0       30-40            0   \n",
       "\n",
       "   pct_inad  \n",
       "0    3261.0  \n",
       "1   15549.0  \n",
       "2   29547.0  \n",
       "3   19131.0  \n",
       "4   20024.0  "
      ]
     },
     "execution_count": 105,
     "metadata": {},
     "output_type": "execute_result"
    }
   ],
   "source": [
    "df.head()"
   ]
  },
  {
   "cell_type": "code",
   "execution_count": 73,
   "metadata": {
    "ExecuteTime": {
     "end_time": "2020-06-29T19:40:44.459136Z",
     "start_time": "2020-06-29T19:40:44.002108Z"
    }
   },
   "outputs": [
    {
     "data": {
      "image/png": "[encoded data removed]",
      "text/plain": [
       "<Figure size 1080x1440 with 2 Axes>"
      ]
     },
     "metadata": {
      "needs_background": "light"
     },
     "output_type": "display_data"
    }
   ],
   "source": [
    "# Visualizando faixas de idade\n",
    "import matplotlib.pyplot as plt\n",
    "import seaborn as sns\n",
    "\n",
    "plt.figure(figsize=(15,20))\n",
    "\n",
    "df['pct_inad'] = df['vl_fatura']\n",
    "\n",
    "variaveis_plt = ['faixa_idade']\n",
    "i = 0\n",
    "for var in variaveis_plt:\n",
    "    \n",
    "    # Gráfico de Barras\n",
    "    i = i+1\n",
    "    plt.subplot(4,2,i)\n",
    "    sns.countplot(x = var, hue = 'inadimplente', data = df)\n",
    "    plt.title(\"Grafico de Barras para \" + var)   \n",
    "    if var == 'idade':\n",
    "        plt.xticks(rotation = 90, size = 7)\n",
    "        \n",
    "    \n",
    "    # Plot porcentagem\n",
    "    i = i+1\n",
    "    plt.subplot(4,2,i)\n",
    "    df_2 = df.groupby(['inadimplente', var]).count()[['pct_inad']].groupby(level=[0]).apply(lambda g: round(100*g / g.sum())).reset_index()\n",
    "    df_var = df_2[df_2['inadimplente'] == '1'][[var, 'pct_inad']]\n",
    "\n",
    "    sns.scatterplot(x = var, y = 'pct_inad', data = df_var)\n",
    " "
   ]
  },
  {
   "cell_type": "code",
   "execution_count": 80,
   "metadata": {
    "ExecuteTime": {
     "end_time": "2020-06-29T19:46:53.402228Z",
     "start_time": "2020-06-29T19:46:53.379229Z"
    }
   },
   "outputs": [
    {
     "data": {
      "text/html": [
       "<div>\n",
       "<style scoped>\n",
       "    .dataframe tbody tr th:only-of-type {\n",
       "        vertical-align: middle;\n",
       "    }\n",
       "\n",
       "    .dataframe tbody tr th {\n",
       "        vertical-align: top;\n",
       "    }\n",
       "\n",
       "    .dataframe thead th {\n",
       "        text-align: right;\n",
       "    }\n",
       "</style>\n",
       "<table border=\"1\" class=\"dataframe\">\n",
       "  <thead>\n",
       "    <tr style=\"text-align: right;\">\n",
       "      <th></th>\n",
       "      <th>vl_fatura</th>\n",
       "    </tr>\n",
       "  </thead>\n",
       "  <tbody>\n",
       "    <tr>\n",
       "      <th>count</th>\n",
       "      <td>25292.000000</td>\n",
       "    </tr>\n",
       "    <tr>\n",
       "      <th>mean</th>\n",
       "      <td>46191.209197</td>\n",
       "    </tr>\n",
       "    <tr>\n",
       "      <th>std</th>\n",
       "      <td>62103.183037</td>\n",
       "    </tr>\n",
       "    <tr>\n",
       "      <th>min</th>\n",
       "      <td>1.000000</td>\n",
       "    </tr>\n",
       "    <tr>\n",
       "      <th>25%</th>\n",
       "      <td>6634.500000</td>\n",
       "    </tr>\n",
       "    <tr>\n",
       "      <th>50%</th>\n",
       "      <td>22635.000000</td>\n",
       "    </tr>\n",
       "    <tr>\n",
       "      <th>75%</th>\n",
       "      <td>59188.250000</td>\n",
       "    </tr>\n",
       "    <tr>\n",
       "      <th>max</th>\n",
       "      <td>961664.000000</td>\n",
       "    </tr>\n",
       "  </tbody>\n",
       "</table>\n",
       "</div>"
      ],
      "text/plain": [
       "           vl_fatura\n",
       "count   25292.000000\n",
       "mean    46191.209197\n",
       "std     62103.183037\n",
       "min         1.000000\n",
       "25%      6634.500000\n",
       "50%     22635.000000\n",
       "75%     59188.250000\n",
       "max    961664.000000"
      ]
     },
     "metadata": {},
     "output_type": "display_data"
    }
   ],
   "source": [
    "# E a variável quantitativa?\n",
    "\n",
    "# Precisamos investigar se o valor da fatura apresenta indícios de relação com a inadimplência\n",
    "print('Estatística descritiva para valor da fatura')\n",
    "df[['vl_fatura']].describe()"
   ]
  },
  {
   "cell_type": "code",
   "execution_count": 81,
   "metadata": {
    "ExecuteTime": {
     "end_time": "2020-06-29T19:48:35.187721Z",
     "start_time": "2020-06-29T19:48:35.153691Z"
    }
   },
   "outputs": [
    {
     "name": "stdout",
     "output_type": "stream",
     "text": [
      "Estatística descritiva para valor da fatura filtrando adimplentes\n"
     ]
    },
    {
     "data": {
      "text/html": [
       "<div>\n",
       "<style scoped>\n",
       "    .dataframe tbody tr th:only-of-type {\n",
       "        vertical-align: middle;\n",
       "    }\n",
       "\n",
       "    .dataframe tbody tr th {\n",
       "        vertical-align: top;\n",
       "    }\n",
       "\n",
       "    .dataframe thead th {\n",
       "        text-align: right;\n",
       "    }\n",
       "</style>\n",
       "<table border=\"1\" class=\"dataframe\">\n",
       "  <thead>\n",
       "    <tr style=\"text-align: right;\">\n",
       "      <th></th>\n",
       "      <th>vl_fatura</th>\n",
       "    </tr>\n",
       "  </thead>\n",
       "  <tbody>\n",
       "    <tr>\n",
       "      <th>count</th>\n",
       "      <td>19742.000000</td>\n",
       "    </tr>\n",
       "    <tr>\n",
       "      <th>mean</th>\n",
       "      <td>46279.407507</td>\n",
       "    </tr>\n",
       "    <tr>\n",
       "      <th>std</th>\n",
       "      <td>62080.088643</td>\n",
       "    </tr>\n",
       "    <tr>\n",
       "      <th>min</th>\n",
       "      <td>1.000000</td>\n",
       "    </tr>\n",
       "    <tr>\n",
       "      <th>25%</th>\n",
       "      <td>6139.500000</td>\n",
       "    </tr>\n",
       "    <tr>\n",
       "      <th>50%</th>\n",
       "      <td>22330.500000</td>\n",
       "    </tr>\n",
       "    <tr>\n",
       "      <th>75%</th>\n",
       "      <td>60048.250000</td>\n",
       "    </tr>\n",
       "    <tr>\n",
       "      <th>max</th>\n",
       "      <td>961664.000000</td>\n",
       "    </tr>\n",
       "  </tbody>\n",
       "</table>\n",
       "</div>"
      ],
      "text/plain": [
       "           vl_fatura\n",
       "count   19742.000000\n",
       "mean    46279.407507\n",
       "std     62080.088643\n",
       "min         1.000000\n",
       "25%      6139.500000\n",
       "50%     22330.500000\n",
       "75%     60048.250000\n",
       "max    961664.000000"
      ]
     },
     "execution_count": 81,
     "metadata": {},
     "output_type": "execute_result"
    }
   ],
   "source": [
    "# Vamos agora separar as contas inadimplentes das adimplentes\n",
    "print('Estatística descritiva para valor da fatura filtrando adimplentes')\n",
    "df[df['inadimplente'] == '0' ][['vl_fatura']].describe()"
   ]
  },
  {
   "cell_type": "code",
   "execution_count": 82,
   "metadata": {
    "ExecuteTime": {
     "end_time": "2020-06-29T19:48:52.263009Z",
     "start_time": "2020-06-29T19:48:52.241001Z"
    }
   },
   "outputs": [
    {
     "name": "stdout",
     "output_type": "stream",
     "text": [
      "Estatística descritiva para valor da fatura filtrando inadimplentes\n"
     ]
    },
    {
     "data": {
      "text/html": [
       "<div>\n",
       "<style scoped>\n",
       "    .dataframe tbody tr th:only-of-type {\n",
       "        vertical-align: middle;\n",
       "    }\n",
       "\n",
       "    .dataframe tbody tr th {\n",
       "        vertical-align: top;\n",
       "    }\n",
       "\n",
       "    .dataframe thead th {\n",
       "        text-align: right;\n",
       "    }\n",
       "</style>\n",
       "<table border=\"1\" class=\"dataframe\">\n",
       "  <thead>\n",
       "    <tr style=\"text-align: right;\">\n",
       "      <th></th>\n",
       "      <th>vl_fatura</th>\n",
       "    </tr>\n",
       "  </thead>\n",
       "  <tbody>\n",
       "    <tr>\n",
       "      <th>count</th>\n",
       "      <td>5550.000000</td>\n",
       "    </tr>\n",
       "    <tr>\n",
       "      <th>mean</th>\n",
       "      <td>45877.477477</td>\n",
       "    </tr>\n",
       "    <tr>\n",
       "      <th>std</th>\n",
       "      <td>62189.847870</td>\n",
       "    </tr>\n",
       "    <tr>\n",
       "      <th>min</th>\n",
       "      <td>10.000000</td>\n",
       "    </tr>\n",
       "    <tr>\n",
       "      <th>25%</th>\n",
       "      <td>8254.000000</td>\n",
       "    </tr>\n",
       "    <tr>\n",
       "      <th>50%</th>\n",
       "      <td>23173.000000</td>\n",
       "    </tr>\n",
       "    <tr>\n",
       "      <th>75%</th>\n",
       "      <td>55495.000000</td>\n",
       "    </tr>\n",
       "    <tr>\n",
       "      <th>max</th>\n",
       "      <td>514975.000000</td>\n",
       "    </tr>\n",
       "  </tbody>\n",
       "</table>\n",
       "</div>"
      ],
      "text/plain": [
       "           vl_fatura\n",
       "count    5550.000000\n",
       "mean    45877.477477\n",
       "std     62189.847870\n",
       "min        10.000000\n",
       "25%      8254.000000\n",
       "50%     23173.000000\n",
       "75%     55495.000000\n",
       "max    514975.000000"
      ]
     },
     "execution_count": 82,
     "metadata": {},
     "output_type": "execute_result"
    }
   ],
   "source": [
    "# Vamos agora separar as contas inadimplentes das adimplentes\n",
    "print('Estatística descritiva para valor da fatura filtrando inadimplentes')\n",
    "df[df['inadimplente'] == '1' ][['vl_fatura']].describe()"
   ]
  },
  {
   "cell_type": "code",
   "execution_count": 83,
   "metadata": {
    "ExecuteTime": {
     "end_time": "2020-06-29T19:49:27.868883Z",
     "start_time": "2020-06-29T19:49:27.581882Z"
    }
   },
   "outputs": [
    {
     "data": {
      "text/plain": [
       "Text(0.5, 1.0, 'Inadimplência por valor da fatura')"
      ]
     },
     "execution_count": 83,
     "metadata": {},
     "output_type": "execute_result"
    },
    {
     "data": {
      "image/png": "[encoded data removed]",
      "text/plain": [
       "<Figure size 432x288 with 1 Axes>"
      ]
     },
     "metadata": {
      "needs_background": "light"
     },
     "output_type": "display_data"
    }
   ],
   "source": [
    "# Vamos agora avaliar graficamente.\n",
    "sns.boxplot(x = 'inadimplente', \n",
    "            y = 'vl_fatura', \n",
    "            data = df).set_title('Inadimplência por valor da fatura')"
   ]
  },
  {
   "cell_type": "code",
   "execution_count": 84,
   "metadata": {
    "ExecuteTime": {
     "end_time": "2020-06-29T19:49:38.944048Z",
     "start_time": "2020-06-29T19:49:38.768013Z"
    }
   },
   "outputs": [
    {
     "data": {
      "text/plain": [
       "Text(0.5, 1.0, 'Inadimplência por valor da fatura - extremos removidos')"
      ]
     },
     "execution_count": 84,
     "metadata": {},
     "output_type": "execute_result"
    },
    {
     "data": {
      "image/png": "[encoded data removed]",
      "text/plain": [
       "<Figure size 432x288 with 1 Axes>"
      ]
     },
     "metadata": {
      "needs_background": "light"
     },
     "output_type": "display_data"
    }
   ],
   "source": [
    "# Removendo os extremos ...\n",
    "sns.boxplot(x = 'inadimplente', \n",
    "            y = 'vl_fatura', \n",
    "            data = df[df['vl_fatura']<20000]).set_title('Inadimplência por valor da fatura - extremos removidos')"
   ]
  },
  {
   "cell_type": "markdown",
   "metadata": {
    "ExecuteTime": {
     "end_time": "2020-06-29T19:46:09.920802Z",
     "start_time": "2020-06-29T19:46:09.769799Z"
    }
   },
   "source": [
    "**Com base no que observamos, você removeria o valor da fatura entre candidatos para o novo scoring de inadimplência?**"
   ]
  },
  {
   "cell_type": "code",
   "execution_count": 85,
   "metadata": {
    "ExecuteTime": {
     "end_time": "2020-06-29T19:54:37.096787Z",
     "start_time": "2020-06-29T19:54:36.668699Z"
    }
   },
   "outputs": [
    {
     "data": {
      "text/plain": [
       "Text(0.5, 1.0, 'Inadimplência por valor da fatura - extremos removidos')"
      ]
     },
     "execution_count": 85,
     "metadata": {},
     "output_type": "execute_result"
    },
    {
     "data": {
      "image/png": "[encoded data removed]",
      "text/plain": [
       "<Figure size 432x288 with 1 Axes>"
      ]
     },
     "metadata": {
      "needs_background": "light"
     },
     "output_type": "display_data"
    }
   ],
   "source": [
    "# Será que existe alguma interação entre vl_fatura e outras variáveis?\n",
    "sns.boxplot(x = 'inadimplente', \n",
    "            y = 'vl_fatura', \n",
    "            hue = 'faixa_idade', \n",
    "            data = df[df['vl_fatura']<20000]).set_title('Inadimplência por valor da fatura - extremos removidos')"
   ]
  },
  {
   "cell_type": "code",
   "execution_count": 100,
   "metadata": {
    "ExecuteTime": {
     "end_time": "2020-06-29T19:58:37.366571Z",
     "start_time": "2020-06-29T19:58:36.926575Z"
    }
   },
   "outputs": [
    {
     "data": {
      "text/plain": [
       "Text(0.5, 1.0, 'Inadimplência por valor da fatura e faixa de idade')"
      ]
     },
     "execution_count": 100,
     "metadata": {},
     "output_type": "execute_result"
    },
    {
     "data": {
      "image/png": "[encoded data removed]",
      "text/plain": [
       "<Figure size 432x288 with 1 Axes>"
      ]
     },
     "metadata": {
      "needs_background": "light"
     },
     "output_type": "display_data"
    }
   ],
   "source": [
    "# Vamos facilitar nossa comparação, inventendo hue pelo eixo x\n",
    "sns.boxplot(x = 'faixa_idade', \n",
    "            y = 'vl_fatura', \n",
    "            hue = 'inadimplente', \n",
    "            data = df[df['vl_fatura']<20000]).set_title('Inadimplência por valor da fatura e faixa de idade')"
   ]
  },
  {
   "cell_type": "code",
   "execution_count": 101,
   "metadata": {
    "ExecuteTime": {
     "end_time": "2020-06-29T20:00:20.904318Z",
     "start_time": "2020-06-29T20:00:20.661351Z"
    }
   },
   "outputs": [
    {
     "data": {
      "text/plain": [
       "Text(0.5, 1.0, 'Inadimplência por valor da fatura e faixa de idade')"
      ]
     },
     "execution_count": 101,
     "metadata": {},
     "output_type": "execute_result"
    },
    {
     "data": {
      "image/png": "[encoded data removed]",
      "text/plain": [
       "<Figure size 432x288 with 1 Axes>"
      ]
     },
     "metadata": {
      "needs_background": "light"
     },
     "output_type": "display_data"
    }
   ],
   "source": [
    "# Também podemos avaliar a interação com os outros fatores categóricos\n",
    "\n",
    "# Sexo x Inadimplência X Valor da Fatura\n",
    "sns.boxplot(x = 'sexo', \n",
    "            y = 'vl_fatura', \n",
    "            hue = 'inadimplente', \n",
    "            data = df[df['vl_fatura']<20000]).set_title('Inadimplência por valor da fatura e faixa de idade')"
   ]
  },
  {
   "cell_type": "code",
   "execution_count": 102,
   "metadata": {
    "ExecuteTime": {
     "end_time": "2020-06-29T20:00:45.117546Z",
     "start_time": "2020-06-29T20:00:44.622462Z"
    }
   },
   "outputs": [
    {
     "data": {
      "text/plain": [
       "Text(0.5, 1.0, 'Inadimplência por valor da fatura e faixa de idade')"
      ]
     },
     "execution_count": 102,
     "metadata": {},
     "output_type": "execute_result"
    },
    {
     "data": {
      "image/png": "[encoded data removed]",
      "text/plain": [
       "<Figure size 432x288 with 1 Axes>"
      ]
     },
     "metadata": {
      "needs_background": "light"
     },
     "output_type": "display_data"
    }
   ],
   "source": [
    "# Educação x Inadimplência X Valor da Fatura\n",
    "sns.boxplot(x = 'educacao',\n",
    "            y = 'vl_fatura', \n",
    "            hue = 'inadimplente', \n",
    "            data = df[df['vl_fatura']<20000]).set_title('Inadimplência por valor da fatura e faixa de idade')"
   ]
  },
  {
   "cell_type": "code",
   "execution_count": 103,
   "metadata": {
    "ExecuteTime": {
     "end_time": "2020-06-29T20:01:03.742142Z",
     "start_time": "2020-06-29T20:01:03.400148Z"
    }
   },
   "outputs": [
    {
     "data": {
      "text/plain": [
       "Text(0.5, 1.0, 'Inadimplência por valor da fatura e faixa de idade')"
      ]
     },
     "execution_count": 103,
     "metadata": {},
     "output_type": "execute_result"
    },
    {
     "data": {
      "image/png": "[encoded data removed]",
      "text/plain": [
       "<Figure size 432x288 with 1 Axes>"
      ]
     },
     "metadata": {
      "needs_background": "light"
     },
     "output_type": "display_data"
    }
   ],
   "source": [
    "# Educação x Inadimplência X Valor da Fatura\n",
    "sns.boxplot(x = 'estado_civil', \n",
    "            y = 'vl_fatura', \n",
    "            hue = 'inadimplente', \n",
    "            data = df[df['vl_fatura']<20000]).set_title('Inadimplência por valor da fatura e faixa de idade')"
   ]
  },
  {
   "cell_type": "markdown",
   "metadata": {
    "ExecuteTime": {
     "end_time": "2020-06-29T20:14:16.719927Z",
     "start_time": "2020-06-29T20:14:16.702926Z"
    }
   },
   "source": [
    "# Que conclusão podemos tomar após essa comparação?"
   ]
  },
  {
   "cell_type": "markdown",
   "metadata": {},
   "source": [
    "R: Que algumas das variáveis visualizadas podem estar relacionadas a inadimplência."
   ]
  },
  {
   "cell_type": "markdown",
   "metadata": {},
   "source": [
    "Próximos passos:\n",
    "    * Refinar a análise exploratória\n",
    "    * Definir hipóteses\n",
    "    * Avaliar com estatística inferencial essas comparações, e aprimorar o modelo inicial\n",
    "    * Criar um modelo com machine learning"
   ]
  }
 ],
 "metadata": {
  "hide_input": false,
  "kernelspec": {
   "display_name": "Python 3",
   "language": "python",
   "name": "python3"
  },
  "language_info": {
   "codemirror_mode": {
    "name": "ipython",
    "version": 3
   },
   "file_extension": ".py",
   "mimetype": "text/x-python",
   "name": "python",
   "nbconvert_exporter": "python",
   "pygments_lexer": "ipython3",
   "version": "3.7.4"
  },
  "latex_envs": {
   "LaTeX_envs_menu_present": true,
   "autoclose": false,
   "autocomplete": true,
   "bibliofile": "biblio.bib",
   "cite_by": "apalike",
   "current_citInitial": 1,
   "eqLabelWithNumbers": true,
   "eqNumInitial": 1,
   "hotkeys": {
    "equation": "Ctrl-E",
    "itemize": "Ctrl-I"
   },
   "labels_anchors": false,
   "latex_user_defs": false,
   "report_style_numbering": false,
   "user_envs_cfg": false
  },
  "toc": {
   "base_numbering": 1,
   "nav_menu": {
    "height": "167px",
    "width": "352px"
   },
   "number_sections": true,
   "sideBar": true,
   "skip_h1_title": false,
   "title_cell": "Table of Contents",
   "title_sidebar": "Contents",
   "toc_cell": false,
   "toc_position": {
    "height": "calc(100% - 180px)",
    "left": "10px",
    "top": "150px",
    "width": "236px"
   },
   "toc_section_display": true,
   "toc_window_display": true
  },
  "varInspector": {
   "cols": {
    "lenName": 16,
    "lenType": 16,
    "lenVar": 40
   },
   "kernels_config": {
    "python": {
     "delete_cmd_postfix": "",
     "delete_cmd_prefix": "del ",
     "library": "var_list.py",
     "varRefreshCmd": "print(var_dic_list())"
    },
    "r": {
     "delete_cmd_postfix": ") ",
     "delete_cmd_prefix": "rm(",
     "library": "var_list.r",
     "varRefreshCmd": "cat(var_dic_list()) "
    }
   },
   "types_to_exclude": [
    "module",
    "function",
    "builtin_function_or_method",
    "instance",
    "_Feature"
   ],
   "window_display": false
  }
 },
 "nbformat": 4,
 "nbformat_minor": 2
}
