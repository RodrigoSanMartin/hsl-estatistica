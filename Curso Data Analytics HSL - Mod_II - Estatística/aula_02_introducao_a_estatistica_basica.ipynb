{
 "cells": [
  {
   "cell_type": "markdown",
   "metadata": {},
   "source": [
    "**Curso de Data Analytics Hospital Sírio-Libanês**\n",
    "\n",
    "**Módulo II**: Aula 2 - Estatística Básica\n",
    "\n",
    "__Autores/Instrutores__:\n",
    "\n",
    "* __Osvaldo Pereira__ - https://www.linkedin.com/in/osvaldo-pereira-7502152a/\n",
    "* __Rodrigo San Martin__ - https://www.linkedin.com/in/rodrigosan-martin/\n",
    "\n",
    "**Referências**\n",
    "\n",
    "* https://realpython.com/python-statistics/\n",
    "* https://pandas.pydata.org/pandas-docs/stable/reference/\n",
    "* https://seaborn.pydata.org/api.html\n",
    "\n",
    "\n",
    "# Na última aula vimos ...\n",
    "\n",
    "* Datasets\n",
    "* Exploração inicial de um dataframe\n",
    "* Variáveis quantitativas e qualitativas\n",
    "* Média, Média ponderada\n",
    "* Moda\n",
    "* Mediana\n",
    "* Operações com colunas em dataframe utilizando Pandas\n",
    "* Caso de exploração de dados"
   ]
  },
  {
   "cell_type": "markdown",
   "metadata": {},
   "source": [
    "# Datases I e II: Instrucional e Carteira Medicina da Familia"
   ]
  },
  {
   "cell_type": "code",
   "execution_count": 1,
   "metadata": {
    "ExecuteTime": {
     "end_time": "2020-06-29T20:43:00.727478Z",
     "start_time": "2020-06-29T20:43:00.199456Z"
    }
   },
   "outputs": [],
   "source": [
    "import pandas as pd\n",
    "import numpy as np"
   ]
  },
  {
   "cell_type": "code",
   "execution_count": 2,
   "metadata": {
    "ExecuteTime": {
     "end_time": "2020-06-29T20:43:00.917456Z",
     "start_time": "2020-06-29T20:43:00.865459Z"
    }
   },
   "outputs": [
    {
     "data": {
      "text/html": [
       "<div>\n",
       "<style scoped>\n",
       "    .dataframe tbody tr th:only-of-type {\n",
       "        vertical-align: middle;\n",
       "    }\n",
       "\n",
       "    .dataframe tbody tr th {\n",
       "        vertical-align: top;\n",
       "    }\n",
       "\n",
       "    .dataframe thead th {\n",
       "        text-align: right;\n",
       "    }\n",
       "</style>\n",
       "<table border=\"1\" class=\"dataframe\">\n",
       "  <thead>\n",
       "    <tr style=\"text-align: right;\">\n",
       "      <th></th>\n",
       "      <th>ID</th>\n",
       "      <th>nominal_1</th>\n",
       "      <th>nominal_2</th>\n",
       "      <th>var_continua_1</th>\n",
       "      <th>var_continua_2</th>\n",
       "      <th>var_discreta_1</th>\n",
       "      <th>var_discreta_2</th>\n",
       "      <th>flag_1</th>\n",
       "      <th>flag_2</th>\n",
       "      <th>peso_1</th>\n",
       "      <th>peso_2</th>\n",
       "    </tr>\n",
       "  </thead>\n",
       "  <tbody>\n",
       "    <tr>\n",
       "      <th>0</th>\n",
       "      <td>1</td>\n",
       "      <td>C</td>\n",
       "      <td>X</td>\n",
       "      <td>52.1</td>\n",
       "      <td>18.2</td>\n",
       "      <td>4</td>\n",
       "      <td>47</td>\n",
       "      <td>0</td>\n",
       "      <td>5</td>\n",
       "      <td>0.010302</td>\n",
       "      <td>0.000368</td>\n",
       "    </tr>\n",
       "    <tr>\n",
       "      <th>1</th>\n",
       "      <td>2</td>\n",
       "      <td>C</td>\n",
       "      <td>Y</td>\n",
       "      <td>41.5</td>\n",
       "      <td>886.7</td>\n",
       "      <td>9</td>\n",
       "      <td>50</td>\n",
       "      <td>1</td>\n",
       "      <td>2</td>\n",
       "      <td>0.008206</td>\n",
       "      <td>0.017923</td>\n",
       "    </tr>\n",
       "    <tr>\n",
       "      <th>2</th>\n",
       "      <td>3</td>\n",
       "      <td>D</td>\n",
       "      <td>Y</td>\n",
       "      <td>55.2</td>\n",
       "      <td>563.7</td>\n",
       "      <td>8</td>\n",
       "      <td>96</td>\n",
       "      <td>1</td>\n",
       "      <td>5</td>\n",
       "      <td>0.010915</td>\n",
       "      <td>0.011394</td>\n",
       "    </tr>\n",
       "    <tr>\n",
       "      <th>3</th>\n",
       "      <td>4</td>\n",
       "      <td>B</td>\n",
       "      <td>Y</td>\n",
       "      <td>85.4</td>\n",
       "      <td>884.2</td>\n",
       "      <td>1</td>\n",
       "      <td>41</td>\n",
       "      <td>0</td>\n",
       "      <td>3</td>\n",
       "      <td>0.016887</td>\n",
       "      <td>0.017873</td>\n",
       "    </tr>\n",
       "    <tr>\n",
       "      <th>4</th>\n",
       "      <td>5</td>\n",
       "      <td>C</td>\n",
       "      <td>Y</td>\n",
       "      <td>77.6</td>\n",
       "      <td>859.0</td>\n",
       "      <td>4</td>\n",
       "      <td>95</td>\n",
       "      <td>1</td>\n",
       "      <td>2</td>\n",
       "      <td>0.015344</td>\n",
       "      <td>0.017363</td>\n",
       "    </tr>\n",
       "  </tbody>\n",
       "</table>\n",
       "</div>"
      ],
      "text/plain": [
       "   ID nominal_1 nominal_2  var_continua_1  var_continua_2  var_discreta_1  \\\n",
       "0   1         C         X            52.1            18.2               4   \n",
       "1   2         C         Y            41.5           886.7               9   \n",
       "2   3         D         Y            55.2           563.7               8   \n",
       "3   4         B         Y            85.4           884.2               1   \n",
       "4   5         C         Y            77.6           859.0               4   \n",
       "\n",
       "   var_discreta_2  flag_1  flag_2    peso_1    peso_2  \n",
       "0              47       0       5  0.010302  0.000368  \n",
       "1              50       1       2  0.008206  0.017923  \n",
       "2              96       1       5  0.010915  0.011394  \n",
       "3              41       0       3  0.016887  0.017873  \n",
       "4              95       1       2  0.015344  0.017363  "
      ]
     },
     "execution_count": 2,
     "metadata": {},
     "output_type": "execute_result"
    }
   ],
   "source": [
    "df1 = pd.read_csv('dataset_instrucional.csv',encoding='ISO-8859-1',delimiter=';',low_memory = False)\n",
    "df1.head()"
   ]
  },
  {
   "cell_type": "code",
   "execution_count": 3,
   "metadata": {
    "ExecuteTime": {
     "end_time": "2020-06-26T14:18:09.437588Z",
     "start_time": "2020-06-26T14:18:08.035588Z"
    }
   },
   "outputs": [
    {
     "data": {
      "text/html": [
       "<div>\n",
       "<style scoped>\n",
       "    .dataframe tbody tr th:only-of-type {\n",
       "        vertical-align: middle;\n",
       "    }\n",
       "\n",
       "    .dataframe tbody tr th {\n",
       "        vertical-align: top;\n",
       "    }\n",
       "\n",
       "    .dataframe thead th {\n",
       "        text-align: right;\n",
       "    }\n",
       "</style>\n",
       "<table border=\"1\" class=\"dataframe\">\n",
       "  <thead>\n",
       "    <tr style=\"text-align: right;\">\n",
       "      <th></th>\n",
       "      <th>id_patient</th>\n",
       "      <th>age_years</th>\n",
       "      <th>sex</th>\n",
       "      <th>number_of_children</th>\n",
       "      <th>flag_married</th>\n",
       "      <th>bmi_kg_m2</th>\n",
       "      <th>height_cm</th>\n",
       "      <th>weight_kg</th>\n",
       "      <th>hdl_mg_dl</th>\n",
       "      <th>ldl_mg_dl</th>\n",
       "      <th>...</th>\n",
       "      <th>index_systolic_blood_pressure</th>\n",
       "      <th>index_diastolic_blood_pressure</th>\n",
       "      <th>index_blood_pressure</th>\n",
       "      <th>sum_index_disease</th>\n",
       "      <th>avg_index_disease</th>\n",
       "      <th>target_index_disease</th>\n",
       "      <th>clients</th>\n",
       "      <th>unidade</th>\n",
       "      <th>mfc</th>\n",
       "      <th>new_score</th>\n",
       "    </tr>\n",
       "  </thead>\n",
       "  <tbody>\n",
       "    <tr>\n",
       "      <th>0</th>\n",
       "      <td>1</td>\n",
       "      <td>23.600347</td>\n",
       "      <td>1</td>\n",
       "      <td>0</td>\n",
       "      <td>0</td>\n",
       "      <td>23.765629</td>\n",
       "      <td>151.049106</td>\n",
       "      <td>54.223261</td>\n",
       "      <td>67.119601</td>\n",
       "      <td>94.935636</td>\n",
       "      <td>...</td>\n",
       "      <td>1</td>\n",
       "      <td>2</td>\n",
       "      <td>3</td>\n",
       "      <td>18</td>\n",
       "      <td>1.636364</td>\n",
       "      <td>0</td>\n",
       "      <td>client04</td>\n",
       "      <td>un06</td>\n",
       "      <td>mfc21</td>\n",
       "      <td>0.000006</td>\n",
       "    </tr>\n",
       "    <tr>\n",
       "      <th>1</th>\n",
       "      <td>2</td>\n",
       "      <td>28.180492</td>\n",
       "      <td>1</td>\n",
       "      <td>0</td>\n",
       "      <td>0</td>\n",
       "      <td>22.891895</td>\n",
       "      <td>161.449691</td>\n",
       "      <td>59.670019</td>\n",
       "      <td>69.234692</td>\n",
       "      <td>95.230407</td>\n",
       "      <td>...</td>\n",
       "      <td>1</td>\n",
       "      <td>2</td>\n",
       "      <td>3</td>\n",
       "      <td>18</td>\n",
       "      <td>1.636364</td>\n",
       "      <td>0</td>\n",
       "      <td>client04</td>\n",
       "      <td>un12</td>\n",
       "      <td>mfc39</td>\n",
       "      <td>0.000006</td>\n",
       "    </tr>\n",
       "    <tr>\n",
       "      <th>2</th>\n",
       "      <td>3</td>\n",
       "      <td>24.916474</td>\n",
       "      <td>1</td>\n",
       "      <td>0</td>\n",
       "      <td>0</td>\n",
       "      <td>25.687941</td>\n",
       "      <td>156.140406</td>\n",
       "      <td>62.626754</td>\n",
       "      <td>60.938429</td>\n",
       "      <td>99.944524</td>\n",
       "      <td>...</td>\n",
       "      <td>1</td>\n",
       "      <td>2</td>\n",
       "      <td>3</td>\n",
       "      <td>20</td>\n",
       "      <td>1.818182</td>\n",
       "      <td>0</td>\n",
       "      <td>client04</td>\n",
       "      <td>un09</td>\n",
       "      <td>mfc27</td>\n",
       "      <td>0.037970</td>\n",
       "    </tr>\n",
       "    <tr>\n",
       "      <th>3</th>\n",
       "      <td>4</td>\n",
       "      <td>28.489040</td>\n",
       "      <td>1</td>\n",
       "      <td>0</td>\n",
       "      <td>0</td>\n",
       "      <td>22.802512</td>\n",
       "      <td>163.527442</td>\n",
       "      <td>60.976709</td>\n",
       "      <td>62.430110</td>\n",
       "      <td>94.763726</td>\n",
       "      <td>...</td>\n",
       "      <td>1</td>\n",
       "      <td>2</td>\n",
       "      <td>3</td>\n",
       "      <td>19</td>\n",
       "      <td>1.727273</td>\n",
       "      <td>0</td>\n",
       "      <td>client05</td>\n",
       "      <td>un15</td>\n",
       "      <td>mfc51</td>\n",
       "      <td>0.000040</td>\n",
       "    </tr>\n",
       "    <tr>\n",
       "      <th>4</th>\n",
       "      <td>5</td>\n",
       "      <td>23.580738</td>\n",
       "      <td>1</td>\n",
       "      <td>0</td>\n",
       "      <td>0</td>\n",
       "      <td>23.347263</td>\n",
       "      <td>162.206615</td>\n",
       "      <td>61.428950</td>\n",
       "      <td>64.926035</td>\n",
       "      <td>85.078514</td>\n",
       "      <td>...</td>\n",
       "      <td>1</td>\n",
       "      <td>1</td>\n",
       "      <td>1</td>\n",
       "      <td>16</td>\n",
       "      <td>1.454545</td>\n",
       "      <td>0</td>\n",
       "      <td>client06</td>\n",
       "      <td>un02</td>\n",
       "      <td>mfc59</td>\n",
       "      <td>0.000009</td>\n",
       "    </tr>\n",
       "  </tbody>\n",
       "</table>\n",
       "<p>5 rows × 46 columns</p>\n",
       "</div>"
      ],
      "text/plain": [
       "   id_patient  age_years  sex  number_of_children  flag_married  bmi_kg_m2  \\\n",
       "0           1  23.600347    1                   0             0  23.765629   \n",
       "1           2  28.180492    1                   0             0  22.891895   \n",
       "2           3  24.916474    1                   0             0  25.687941   \n",
       "3           4  28.489040    1                   0             0  22.802512   \n",
       "4           5  23.580738    1                   0             0  23.347263   \n",
       "\n",
       "    height_cm  weight_kg  hdl_mg_dl  ldl_mg_dl  ...  \\\n",
       "0  151.049106  54.223261  67.119601  94.935636  ...   \n",
       "1  161.449691  59.670019  69.234692  95.230407  ...   \n",
       "2  156.140406  62.626754  60.938429  99.944524  ...   \n",
       "3  163.527442  60.976709  62.430110  94.763726  ...   \n",
       "4  162.206615  61.428950  64.926035  85.078514  ...   \n",
       "\n",
       "   index_systolic_blood_pressure  index_diastolic_blood_pressure  \\\n",
       "0                              1                               2   \n",
       "1                              1                               2   \n",
       "2                              1                               2   \n",
       "3                              1                               2   \n",
       "4                              1                               1   \n",
       "\n",
       "   index_blood_pressure  sum_index_disease  avg_index_disease  \\\n",
       "0                     3                 18           1.636364   \n",
       "1                     3                 18           1.636364   \n",
       "2                     3                 20           1.818182   \n",
       "3                     3                 19           1.727273   \n",
       "4                     1                 16           1.454545   \n",
       "\n",
       "   target_index_disease   clients  unidade    mfc  new_score  \n",
       "0                     0  client04     un06  mfc21   0.000006  \n",
       "1                     0  client04     un12  mfc39   0.000006  \n",
       "2                     0  client04     un09  mfc27   0.037970  \n",
       "3                     0  client05     un15  mfc51   0.000040  \n",
       "4                     0  client06     un02  mfc59   0.000009  \n",
       "\n",
       "[5 rows x 46 columns]"
      ]
     },
     "execution_count": 3,
     "metadata": {},
     "output_type": "execute_result"
    }
   ],
   "source": [
    "df2 = pd.read_csv('carteira_medicina_familia_sintetica.csv',encoding='ISO-8859-1',delimiter=';',low_memory = False)\n",
    "df2.head()"
   ]
  },
  {
   "cell_type": "markdown",
   "metadata": {},
   "source": [
    "# Medidas de dispersão\n",
    "\n",
    "Como demonstrado no Desafio II da aula passada, as **medidas de tendência central** possuem algumas **limitações** para a descrição dos dados. Para complementar a informação sobre os dados, podemos utilizar **medidas que avaliam a variabilidade dos dados**, que são as medidas de dispersão."
   ]
  },
  {
   "cell_type": "code",
   "execution_count": 4,
   "metadata": {
    "ExecuteTime": {
     "end_time": "2020-06-26T14:18:25.796475Z",
     "start_time": "2020-06-26T14:18:24.945480Z"
    }
   },
   "outputs": [
    {
     "data": {
      "text/plain": [
       "Text(0.5, 1.0, 'Distribuição Notas na prova final do CFC')"
      ]
     },
     "execution_count": 4,
     "metadata": {},
     "output_type": "execute_result"
    },
    {
     "data": {
      "image/png": "[encoded data removed]",
      "text/plain": [
       "<Figure size 432x288 with 1 Axes>"
      ]
     },
     "metadata": {
      "needs_background": "light"
     },
     "output_type": "display_data"
    }
   ],
   "source": [
    "import seaborn as sns\n",
    "import matplotlib.pyplot as plt\n",
    "\n",
    "notas_finais_cfc = [0,8.7,8.7,9.0,9.5,10,10,10,10,10]\n",
    "sns.distplot(notas_finais_cfc, color = 'skyblue', label = 'nota_final_CFC', bins = 20).set_title(\n",
    "                                                                                'Distribuição Notas na prova final do CFC')"
   ]
  },
  {
   "cell_type": "code",
   "execution_count": 5,
   "metadata": {
    "ExecuteTime": {
     "end_time": "2020-06-26T14:18:28.146488Z",
     "start_time": "2020-06-26T14:18:27.959521Z"
    }
   },
   "outputs": [
    {
     "data": {
      "text/plain": [
       "Text(0.5, 1.0, 'Distribuição de Altura na Carteira de Medicina Familiar')"
      ]
     },
     "execution_count": 5,
     "metadata": {},
     "output_type": "execute_result"
    },
    {
     "data": {
      "image/png": "[encoded data removed]",
      "text/plain": [
       "<Figure size 432x288 with 1 Axes>"
      ]
     },
     "metadata": {
      "needs_background": "light"
     },
     "output_type": "display_data"
    }
   ],
   "source": [
    "sns.distplot(df2['height_cm'] , color = 'darkblue', label = 'var_continua_1', bins=10, hist=True).set_title(\n",
    "                                                            'Distribuição de Altura na Carteira de Medicina Familiar')"
   ]
  },
  {
   "cell_type": "markdown",
   "metadata": {},
   "source": [
    "## Variância\n",
    "\n",
    "A variância, comumente designada pela letra grega sigma ao quadrado $\\sigma^2$ ou pela letra $S$ ou simplesmente $\\text{ var}(x)$ sendo x uma variável aleatória, é uma medida de dispersão estatística, ou seja avalia como os dados em uma dada amostra populacional está espalhada. A fórmula matemática para o cálculo da variância é dada pela equação a seguir\n",
    "\n",
    "\\begin{equation}\n",
    "\\sigma^2 = \\frac{1}{n-1}\\sum_{i = 1}^{}(x_i − \\bar{x})^2,\n",
    "\\end{equation}\n",
    "\n",
    "sendo $\\bar{x} = \\frac{1}{n}\\sum_i x_i$ a média da amostra.\n",
    "\n",
    "### Exemplo 1"
   ]
  },
  {
   "cell_type": "code",
   "execution_count": 6,
   "metadata": {
    "ExecuteTime": {
     "end_time": "2020-06-26T14:18:49.257263Z",
     "start_time": "2020-06-26T14:18:49.250264Z"
    }
   },
   "outputs": [
    {
     "name": "stdout",
     "output_type": "stream",
     "text": [
      "87.263\n"
     ]
    }
   ],
   "source": [
    "x = [8, 1.8, 4.5, 4.5, 25]\n",
    "\n",
    "n = len(x)\n",
    "mean_ = sum(x) / n\n",
    "var_ = sum((item - mean_)**2 for item in x) / (n - 1)\n",
    "print(var_)"
   ]
  },
  {
   "cell_type": "code",
   "execution_count": 7,
   "metadata": {
    "ExecuteTime": {
     "end_time": "2020-06-26T14:18:50.126403Z",
     "start_time": "2020-06-26T14:18:50.117398Z"
    }
   },
   "outputs": [
    {
     "data": {
      "text/plain": [
       "87.263"
      ]
     },
     "execution_count": 7,
     "metadata": {},
     "output_type": "execute_result"
    }
   ],
   "source": [
    "import statistics\n",
    "statistics.variance(x)"
   ]
  },
  {
   "cell_type": "markdown",
   "metadata": {
    "ExecuteTime": {
     "end_time": "2020-06-16T01:06:43.847556Z",
     "start_time": "2020-06-16T01:06:43.835586Z"
    }
   },
   "source": [
    "### Exemplo 2\n",
    "Calculando a variância da altura da amostra Distribuição de Altura na Carteira de Medicina Familiar"
   ]
  },
  {
   "cell_type": "code",
   "execution_count": 8,
   "metadata": {
    "ExecuteTime": {
     "end_time": "2020-06-26T14:18:54.231419Z",
     "start_time": "2020-06-26T14:18:54.225444Z"
    }
   },
   "outputs": [
    {
     "data": {
      "text/plain": [
       "30.332794173289436"
      ]
     },
     "execution_count": 8,
     "metadata": {},
     "output_type": "execute_result"
    }
   ],
   "source": [
    "df2['height_cm'].var()"
   ]
  },
  {
   "cell_type": "markdown",
   "metadata": {},
   "source": [
    "## Desvio Padrão\n",
    "O desvio padrão da amostra está relacionado diretamente a variância. Ele é calculado pela raiz quadrada da variância. É uma medida muito mais útil que a variância por está na mesma unidade que os dados, facilitando sua interpretação.\n",
    "\n",
    "\\begin{equation}\n",
    "\\sigma = \\sqrt{\\frac{1}{n-1}\\sum_{i=1}^{n}(x_i - \\bar{x})^2}.\n",
    "\\end{equation}\n",
    "\n",
    "### Exemplo 1"
   ]
  },
  {
   "cell_type": "code",
   "execution_count": 9,
   "metadata": {
    "ExecuteTime": {
     "end_time": "2020-06-26T14:19:21.648133Z",
     "start_time": "2020-06-26T14:19:21.642136Z"
    }
   },
   "outputs": [
    {
     "name": "stdout",
     "output_type": "stream",
     "text": [
      "9.341466694261667\n"
     ]
    }
   ],
   "source": [
    "x = [8, 1.8, 4.5, 4.5, 25]\n",
    "\n",
    "n = len(x)\n",
    "mean_ = sum(x) / n\n",
    "var_ = sum((item - mean_)**2 for item in x) / (n - 1)\n",
    "\n",
    "sd = var_ ** 0.5\n",
    "\n",
    "print(sd)"
   ]
  },
  {
   "cell_type": "code",
   "execution_count": 10,
   "metadata": {
    "ExecuteTime": {
     "end_time": "2020-06-26T14:19:25.051492Z",
     "start_time": "2020-06-26T14:19:25.045531Z"
    }
   },
   "outputs": [
    {
     "data": {
      "text/plain": [
       "9.341466694261667"
      ]
     },
     "execution_count": 10,
     "metadata": {},
     "output_type": "execute_result"
    }
   ],
   "source": [
    "statistics.variance(x) ** .5"
   ]
  },
  {
   "cell_type": "code",
   "execution_count": 11,
   "metadata": {
    "ExecuteTime": {
     "end_time": "2020-06-26T14:19:25.904072Z",
     "start_time": "2020-06-26T14:19:25.897070Z"
    }
   },
   "outputs": [
    {
     "data": {
      "text/plain": [
       "9.341466694261667"
      ]
     },
     "execution_count": 11,
     "metadata": {},
     "output_type": "execute_result"
    }
   ],
   "source": [
    "statistics.stdev(x)"
   ]
  },
  {
   "cell_type": "markdown",
   "metadata": {
    "ExecuteTime": {
     "end_time": "2020-06-16T01:06:43.847556Z",
     "start_time": "2020-06-16T01:06:43.835586Z"
    }
   },
   "source": [
    "### Exemplo 2\n",
    "Calculando a variância da altura da amostra Distribuição de Altura na Carteira de Medicina Familiar"
   ]
  },
  {
   "cell_type": "code",
   "execution_count": 12,
   "metadata": {
    "ExecuteTime": {
     "end_time": "2020-06-26T14:19:30.409583Z",
     "start_time": "2020-06-26T14:19:30.403583Z"
    }
   },
   "outputs": [
    {
     "data": {
      "text/plain": [
       "5.507521599893135"
      ]
     },
     "execution_count": 12,
     "metadata": {},
     "output_type": "execute_result"
    }
   ],
   "source": [
    "df2['height_cm'].std()"
   ]
  },
  {
   "cell_type": "markdown",
   "metadata": {},
   "source": [
    "## Percentis\n",
    "Os percentis de uma amostra são uma ótima indicação sobre um dataset. A Mediana é o percentil 50% indica que a metade superior dos dados é maiores que a mediana e que a metade inferior é menor. Uma formada de dividir um dataset é em 4 partes, deliminadas por 3 quartis. O primeiro quartil representa o percentil 25%, o segundo quartil é a mediana e o terceiro quartil é representado pelo percentil 75%."
   ]
  },
  {
   "cell_type": "markdown",
   "metadata": {},
   "source": [
    "### Exemplo 1"
   ]
  },
  {
   "cell_type": "code",
   "execution_count": 13,
   "metadata": {
    "ExecuteTime": {
     "end_time": "2020-06-26T14:19:47.410676Z",
     "start_time": "2020-06-26T14:19:47.402711Z"
    }
   },
   "outputs": [
    {
     "data": {
      "text/plain": [
       "25%    25.10\n",
       "50%    54.65\n",
       "75%    75.55\n",
       "Name: var_continua_1, dtype: float64"
      ]
     },
     "execution_count": 13,
     "metadata": {},
     "output_type": "execute_result"
    }
   ],
   "source": [
    "df1['var_continua_1'].describe()[['25%', '50%', '75%']]"
   ]
  },
  {
   "cell_type": "markdown",
   "metadata": {},
   "source": [
    "### Exemplo 2"
   ]
  },
  {
   "cell_type": "code",
   "execution_count": 14,
   "metadata": {
    "ExecuteTime": {
     "end_time": "2020-06-26T14:19:50.062740Z",
     "start_time": "2020-06-26T14:19:50.047713Z"
    }
   },
   "outputs": [
    {
     "data": {
      "text/plain": [
       "25%    162.148937\n",
       "50%    166.393740\n",
       "75%    170.504672\n",
       "Name: height_cm, dtype: float64"
      ]
     },
     "execution_count": 14,
     "metadata": {},
     "output_type": "execute_result"
    }
   ],
   "source": [
    "df2['height_cm'].describe()[['25%', '50%', '75%']]"
   ]
  },
  {
   "cell_type": "markdown",
   "metadata": {},
   "source": [
    "## Quantis\n",
    "Os 3 quartis são muito úteis na descrição dos dados, mas as vezes temos a necessidade de fazer novos cortes nos dados. Para isso podemos utilizar outros percentis."
   ]
  },
  {
   "cell_type": "markdown",
   "metadata": {},
   "source": [
    "### Exemplo 1"
   ]
  },
  {
   "cell_type": "code",
   "execution_count": 15,
   "metadata": {
    "ExecuteTime": {
     "end_time": "2020-06-26T14:19:52.936464Z",
     "start_time": "2020-06-26T14:19:52.929510Z"
    }
   },
   "outputs": [
    {
     "data": {
      "text/plain": [
       "[0, 8.7, 8.7, 9.0, 9.5, 10, 10, 10, 10, 10]"
      ]
     },
     "execution_count": 15,
     "metadata": {},
     "output_type": "execute_result"
    }
   ],
   "source": [
    "notas_finais_cfc"
   ]
  },
  {
   "cell_type": "code",
   "execution_count": 16,
   "metadata": {
    "ExecuteTime": {
     "end_time": "2020-06-26T14:19:53.729490Z",
     "start_time": "2020-06-26T14:19:53.724535Z"
    }
   },
   "outputs": [
    {
     "data": {
      "text/plain": [
       "8.7"
      ]
     },
     "execution_count": 16,
     "metadata": {},
     "output_type": "execute_result"
    }
   ],
   "source": [
    "np.quantile(notas_finais_cfc,.20)"
   ]
  },
  {
   "cell_type": "code",
   "execution_count": 17,
   "metadata": {
    "ExecuteTime": {
     "end_time": "2020-06-26T14:19:54.309809Z",
     "start_time": "2020-06-26T14:19:54.304846Z"
    }
   },
   "outputs": [
    {
     "data": {
      "text/plain": [
       "9.3"
      ]
     },
     "execution_count": 17,
     "metadata": {},
     "output_type": "execute_result"
    }
   ],
   "source": [
    "np.quantile(notas_finais_cfc,.40)"
   ]
  },
  {
   "cell_type": "code",
   "execution_count": 18,
   "metadata": {
    "ExecuteTime": {
     "end_time": "2020-06-26T14:19:56.420440Z",
     "start_time": "2020-06-26T14:19:56.413476Z"
    }
   },
   "outputs": [
    {
     "data": {
      "text/plain": [
       "10.0"
      ]
     },
     "execution_count": 18,
     "metadata": {},
     "output_type": "execute_result"
    }
   ],
   "source": [
    "np.quantile(notas_finais_cfc,.60)"
   ]
  },
  {
   "cell_type": "code",
   "execution_count": 19,
   "metadata": {
    "ExecuteTime": {
     "end_time": "2020-06-26T14:19:57.123662Z",
     "start_time": "2020-06-26T14:19:57.118695Z"
    }
   },
   "outputs": [
    {
     "data": {
      "text/plain": [
       "10.0"
      ]
     },
     "execution_count": 19,
     "metadata": {},
     "output_type": "execute_result"
    }
   ],
   "source": [
    "np.quantile(notas_finais_cfc,.80)"
   ]
  },
  {
   "cell_type": "markdown",
   "metadata": {},
   "source": [
    "### Exemplo 2"
   ]
  },
  {
   "cell_type": "code",
   "execution_count": 20,
   "metadata": {
    "ExecuteTime": {
     "end_time": "2020-06-26T14:19:58.455228Z",
     "start_time": "2020-06-26T14:19:58.443229Z"
    }
   },
   "outputs": [
    {
     "data": {
      "text/plain": [
       "154.425428603"
      ]
     },
     "execution_count": 20,
     "metadata": {},
     "output_type": "execute_result"
    }
   ],
   "source": [
    "df2['height_cm'].quantile(.01)"
   ]
  },
  {
   "cell_type": "markdown",
   "metadata": {},
   "source": [
    "### Exemplo 3"
   ]
  },
  {
   "cell_type": "code",
   "execution_count": 21,
   "metadata": {
    "ExecuteTime": {
     "end_time": "2020-06-26T14:20:01.206438Z",
     "start_time": "2020-06-26T14:20:01.197438Z"
    }
   },
   "outputs": [
    {
     "data": {
      "text/plain": [
       "177.833996924"
      ]
     },
     "execution_count": 21,
     "metadata": {},
     "output_type": "execute_result"
    }
   ],
   "source": [
    "df2['height_cm'].quantile(.99)"
   ]
  },
  {
   "cell_type": "markdown",
   "metadata": {},
   "source": [
    "# Representação Gráfica\n",
    "\n",
    "## BoxPlot\n",
    "Ao invés de ficarmos plotando medidas descritivas e de variância dos dados, podemos agilizar a compreensão da distribuição dos dados utiliando gráficos com o boxplot. Esse gráfico apresenta distribuição de dados quantitativos e facilita a comparações de variáveis, muito mais que um resultado de tabela agregada com o .describe() do pandas. A caixa mostra os 3 quantis, com o 3º quantil (percentil 75%) na parte superior, a mediana no meio e o 1º quantil (percentil 25%) na parte inferior. Os \"bigodes\" ou *whiskers* demonstram a amplitude inter-quartis (Q3-Q1) multiplicado por um fator (normalmente 1,5) somada ao quartil superior e subtraída do quartil inferior, indicando o grau de espalhamento dos dados. Os pontos fora dos whiskers são considerados outliers. "
   ]
  },
  {
   "cell_type": "markdown",
   "metadata": {},
   "source": [
    "### Exemplo 1"
   ]
  },
  {
   "cell_type": "code",
   "execution_count": 22,
   "metadata": {
    "ExecuteTime": {
     "end_time": "2020-06-26T14:20:17.389420Z",
     "start_time": "2020-06-26T14:20:17.279501Z"
    }
   },
   "outputs": [
    {
     "name": "stdout",
     "output_type": "stream",
     "text": [
      "Notas finais cfc:  [0, 8.7, 8.7, 9.0, 9.5, 10, 10, 10, 10, 10]\n"
     ]
    },
    {
     "data": {
      "image/png": "[encoded data removed]",
      "text/plain": [
       "<Figure size 360x576 with 1 Axes>"
      ]
     },
     "metadata": {
      "needs_background": "light"
     },
     "output_type": "display_data"
    }
   ],
   "source": [
    "print('Notas finais cfc: ', notas_finais_cfc)\n",
    "fig, axes = plt.subplots(1, 1, figsize=(5, 8))\n",
    "sns.boxplot(y= notas_finais_cfc);"
   ]
  },
  {
   "cell_type": "markdown",
   "metadata": {},
   "source": [
    "### Exemplo 2"
   ]
  },
  {
   "cell_type": "code",
   "execution_count": 23,
   "metadata": {
    "ExecuteTime": {
     "end_time": "2020-06-26T14:20:20.532564Z",
     "start_time": "2020-06-26T14:20:20.511606Z"
    }
   },
   "outputs": [
    {
     "data": {
      "text/html": [
       "<div>\n",
       "<style scoped>\n",
       "    .dataframe tbody tr th:only-of-type {\n",
       "        vertical-align: middle;\n",
       "    }\n",
       "\n",
       "    .dataframe tbody tr th {\n",
       "        vertical-align: top;\n",
       "    }\n",
       "\n",
       "    .dataframe thead th {\n",
       "        text-align: right;\n",
       "    }\n",
       "</style>\n",
       "<table border=\"1\" class=\"dataframe\">\n",
       "  <thead>\n",
       "    <tr style=\"text-align: right;\">\n",
       "      <th></th>\n",
       "      <th>height_cm</th>\n",
       "    </tr>\n",
       "  </thead>\n",
       "  <tbody>\n",
       "    <tr>\n",
       "      <th>count</th>\n",
       "      <td>190000.000000</td>\n",
       "    </tr>\n",
       "    <tr>\n",
       "      <th>mean</th>\n",
       "      <td>166.302742</td>\n",
       "    </tr>\n",
       "    <tr>\n",
       "      <th>std</th>\n",
       "      <td>5.507522</td>\n",
       "    </tr>\n",
       "    <tr>\n",
       "      <th>min</th>\n",
       "      <td>142.157209</td>\n",
       "    </tr>\n",
       "    <tr>\n",
       "      <th>25%</th>\n",
       "      <td>162.148937</td>\n",
       "    </tr>\n",
       "    <tr>\n",
       "      <th>50%</th>\n",
       "      <td>166.393740</td>\n",
       "    </tr>\n",
       "    <tr>\n",
       "      <th>75%</th>\n",
       "      <td>170.504672</td>\n",
       "    </tr>\n",
       "    <tr>\n",
       "      <th>max</th>\n",
       "      <td>187.250708</td>\n",
       "    </tr>\n",
       "  </tbody>\n",
       "</table>\n",
       "</div>"
      ],
      "text/plain": [
       "           height_cm\n",
       "count  190000.000000\n",
       "mean      166.302742\n",
       "std         5.507522\n",
       "min       142.157209\n",
       "25%       162.148937\n",
       "50%       166.393740\n",
       "75%       170.504672\n",
       "max       187.250708"
      ]
     },
     "execution_count": 23,
     "metadata": {},
     "output_type": "execute_result"
    }
   ],
   "source": [
    "df2[['height_cm']].describe()"
   ]
  },
  {
   "cell_type": "code",
   "execution_count": 24,
   "metadata": {
    "ExecuteTime": {
     "end_time": "2020-06-26T14:20:21.836466Z",
     "start_time": "2020-06-26T14:20:21.739470Z"
    }
   },
   "outputs": [
    {
     "data": {
      "text/plain": [
       "<matplotlib.axes._subplots.AxesSubplot at 0x296349899b0>"
      ]
     },
     "execution_count": 24,
     "metadata": {},
     "output_type": "execute_result"
    },
    {
     "data": {
      "image/png": "[encoded data removed]",
      "text/plain": [
       "<Figure size 432x288 with 1 Axes>"
      ]
     },
     "metadata": {
      "needs_background": "light"
     },
     "output_type": "display_data"
    }
   ],
   "source": [
    "sns.boxplot(y= df2['height_cm'])"
   ]
  },
  {
   "cell_type": "markdown",
   "metadata": {},
   "source": [
    "### Exemplo 3"
   ]
  },
  {
   "cell_type": "code",
   "execution_count": 25,
   "metadata": {
    "ExecuteTime": {
     "end_time": "2020-06-26T14:20:24.386192Z",
     "start_time": "2020-06-26T14:20:24.189192Z"
    }
   },
   "outputs": [
    {
     "data": {
      "text/plain": [
       "Text(0.5, 1.0, 'Boxplot: bar_continua_2')"
      ]
     },
     "execution_count": 25,
     "metadata": {},
     "output_type": "execute_result"
    },
    {
     "data": {
      "image/png": "[encoded data removed]",
      "text/plain": [
       "<Figure size 720x432 with 2 Axes>"
      ]
     },
     "metadata": {
      "needs_background": "light"
     },
     "output_type": "display_data"
    }
   ],
   "source": [
    "fig, axes = plt.subplots(1, 2, figsize=(10, 6))\n",
    "\n",
    "sns.boxplot(y = df1['var_continua_1'] , color = 'skyblue', ax = axes[0]).set_title('Boxplot: bar_continua_1')\n",
    "sns.boxplot(y = df1['var_continua_2'] , color = 'red', ax = axes[1]).set_title('Boxplot: bar_continua_2')"
   ]
  },
  {
   "cell_type": "markdown",
   "metadata": {},
   "source": [
    "## Violinplot\n",
    "O Gráfico de violino plota um box e adiciona um gráfico de densidade rotacionado em 90 graus a figura. É muito util pois além da informação sobre quartis e outliers, mostra a distribuição completa dos dados.\n",
    "\n",
    "### Exemplo 1"
   ]
  },
  {
   "cell_type": "code",
   "execution_count": 26,
   "metadata": {
    "ExecuteTime": {
     "end_time": "2020-06-26T14:20:38.269546Z",
     "start_time": "2020-06-26T14:20:38.167551Z"
    }
   },
   "outputs": [
    {
     "name": "stdout",
     "output_type": "stream",
     "text": [
      "Notas finais cfc:  [0, 8.7, 8.7, 9.0, 9.5, 10, 10, 10, 10, 10]\n"
     ]
    },
    {
     "data": {
      "image/png": "[encoded data removed]",
      "text/plain": [
       "<Figure size 360x576 with 1 Axes>"
      ]
     },
     "metadata": {
      "needs_background": "light"
     },
     "output_type": "display_data"
    }
   ],
   "source": [
    "print('Notas finais cfc: ', notas_finais_cfc)\n",
    "fig, axes = plt.subplots(1, 1, figsize=(5, 8))\n",
    "sns.violinplot(y= notas_finais_cfc); "
   ]
  },
  {
   "cell_type": "markdown",
   "metadata": {},
   "source": [
    "### Exemplo 2"
   ]
  },
  {
   "cell_type": "code",
   "execution_count": 27,
   "metadata": {
    "ExecuteTime": {
     "end_time": "2020-06-26T14:20:39.864924Z",
     "start_time": "2020-06-26T14:20:39.845923Z"
    }
   },
   "outputs": [
    {
     "data": {
      "text/html": [
       "<div>\n",
       "<style scoped>\n",
       "    .dataframe tbody tr th:only-of-type {\n",
       "        vertical-align: middle;\n",
       "    }\n",
       "\n",
       "    .dataframe tbody tr th {\n",
       "        vertical-align: top;\n",
       "    }\n",
       "\n",
       "    .dataframe thead th {\n",
       "        text-align: right;\n",
       "    }\n",
       "</style>\n",
       "<table border=\"1\" class=\"dataframe\">\n",
       "  <thead>\n",
       "    <tr style=\"text-align: right;\">\n",
       "      <th></th>\n",
       "      <th>height_cm</th>\n",
       "    </tr>\n",
       "  </thead>\n",
       "  <tbody>\n",
       "    <tr>\n",
       "      <th>count</th>\n",
       "      <td>190000.000000</td>\n",
       "    </tr>\n",
       "    <tr>\n",
       "      <th>mean</th>\n",
       "      <td>166.302742</td>\n",
       "    </tr>\n",
       "    <tr>\n",
       "      <th>std</th>\n",
       "      <td>5.507522</td>\n",
       "    </tr>\n",
       "    <tr>\n",
       "      <th>min</th>\n",
       "      <td>142.157209</td>\n",
       "    </tr>\n",
       "    <tr>\n",
       "      <th>25%</th>\n",
       "      <td>162.148937</td>\n",
       "    </tr>\n",
       "    <tr>\n",
       "      <th>50%</th>\n",
       "      <td>166.393740</td>\n",
       "    </tr>\n",
       "    <tr>\n",
       "      <th>75%</th>\n",
       "      <td>170.504672</td>\n",
       "    </tr>\n",
       "    <tr>\n",
       "      <th>max</th>\n",
       "      <td>187.250708</td>\n",
       "    </tr>\n",
       "  </tbody>\n",
       "</table>\n",
       "</div>"
      ],
      "text/plain": [
       "           height_cm\n",
       "count  190000.000000\n",
       "mean      166.302742\n",
       "std         5.507522\n",
       "min       142.157209\n",
       "25%       162.148937\n",
       "50%       166.393740\n",
       "75%       170.504672\n",
       "max       187.250708"
      ]
     },
     "execution_count": 27,
     "metadata": {},
     "output_type": "execute_result"
    }
   ],
   "source": [
    "df2[['height_cm']].describe()"
   ]
  },
  {
   "cell_type": "code",
   "execution_count": 28,
   "metadata": {
    "ExecuteTime": {
     "end_time": "2020-06-26T14:20:41.788528Z",
     "start_time": "2020-06-26T14:20:40.658529Z"
    }
   },
   "outputs": [
    {
     "data": {
      "text/plain": [
       "<matplotlib.axes._subplots.AxesSubplot at 0x29634b37a20>"
      ]
     },
     "execution_count": 28,
     "metadata": {},
     "output_type": "execute_result"
    },
    {
     "data": {
      "image/png": "[encoded data removed]",
      "text/plain": [
       "<Figure size 432x288 with 1 Axes>"
      ]
     },
     "metadata": {
      "needs_background": "light"
     },
     "output_type": "display_data"
    }
   ],
   "source": [
    "sns.violinplot(y= df2['height_cm'])"
   ]
  },
  {
   "cell_type": "markdown",
   "metadata": {},
   "source": [
    "### Exemplo 3"
   ]
  },
  {
   "cell_type": "code",
   "execution_count": 29,
   "metadata": {
    "ExecuteTime": {
     "end_time": "2020-06-26T14:20:43.660704Z",
     "start_time": "2020-06-26T14:20:43.424735Z"
    }
   },
   "outputs": [
    {
     "data": {
      "text/plain": [
       "Text(0.5, 1.0, 'Violinplot: bar_continua_2')"
      ]
     },
     "execution_count": 29,
     "metadata": {},
     "output_type": "execute_result"
    },
    {
     "data": {
      "image/png": "[encoded data removed]",
      "text/plain": [
       "<Figure size 720x432 with 2 Axes>"
      ]
     },
     "metadata": {
      "needs_background": "light"
     },
     "output_type": "display_data"
    }
   ],
   "source": [
    "fig, axes = plt.subplots(1, 2, figsize=(10, 6))\n",
    "\n",
    "sns.violinplot(y = df1['var_continua_1'] , color = 'skyblue', ax = axes[0]).set_title('Violinplot: bar_continua_1')\n",
    "sns.violinplot(y = df1['var_continua_2'] , color = 'red', ax = axes[1]).set_title('Violinplot: bar_continua_2')"
   ]
  },
  {
   "cell_type": "markdown",
   "metadata": {},
   "source": [
    "## Pirâmide Etária"
   ]
  },
  {
   "cell_type": "code",
   "execution_count": 34,
   "metadata": {
    "ExecuteTime": {
     "end_time": "2020-06-26T14:21:37.083144Z",
     "start_time": "2020-06-26T14:21:37.070180Z"
    }
   },
   "outputs": [
    {
     "data": {
      "text/html": [
       "<div>\n",
       "<style scoped>\n",
       "    .dataframe tbody tr th:only-of-type {\n",
       "        vertical-align: middle;\n",
       "    }\n",
       "\n",
       "    .dataframe tbody tr th {\n",
       "        vertical-align: top;\n",
       "    }\n",
       "\n",
       "    .dataframe thead th {\n",
       "        text-align: right;\n",
       "    }\n",
       "</style>\n",
       "<table border=\"1\" class=\"dataframe\">\n",
       "  <thead>\n",
       "    <tr style=\"text-align: right;\">\n",
       "      <th></th>\n",
       "      <th>idade</th>\n",
       "      <th>homem</th>\n",
       "      <th>mulher</th>\n",
       "    </tr>\n",
       "  </thead>\n",
       "  <tbody>\n",
       "    <tr>\n",
       "      <th>0</th>\n",
       "      <td>0-4</td>\n",
       "      <td>-49228000</td>\n",
       "      <td>52367000</td>\n",
       "    </tr>\n",
       "    <tr>\n",
       "      <th>1</th>\n",
       "      <td>5-9</td>\n",
       "      <td>-61283000</td>\n",
       "      <td>64959000</td>\n",
       "    </tr>\n",
       "    <tr>\n",
       "      <th>2</th>\n",
       "      <td>10-14</td>\n",
       "      <td>-64391000</td>\n",
       "      <td>67161000</td>\n",
       "    </tr>\n",
       "    <tr>\n",
       "      <th>3</th>\n",
       "      <td>15-19</td>\n",
       "      <td>-52437000</td>\n",
       "      <td>55388000</td>\n",
       "    </tr>\n",
       "    <tr>\n",
       "      <th>4</th>\n",
       "      <td>20-24</td>\n",
       "      <td>-42955000</td>\n",
       "      <td>45448000</td>\n",
       "    </tr>\n",
       "  </tbody>\n",
       "</table>\n",
       "</div>"
      ],
      "text/plain": [
       "   idade     homem    mulher\n",
       "0    0-4 -49228000  52367000\n",
       "1    5-9 -61283000  64959000\n",
       "2  10-14 -64391000  67161000\n",
       "3  15-19 -52437000  55388000\n",
       "4  20-24 -42955000  45448000"
      ]
     },
     "execution_count": 34,
     "metadata": {},
     "output_type": "execute_result"
    }
   ],
   "source": [
    "import pandas as pd\n",
    "import matplotlib.pyplot as plt\n",
    "import numpy as np\n",
    "import seaborn as sns\n",
    "\n",
    "idade = ['0-4','5-9','10-14','15-19','20-24','25-29','30-34',\n",
    "       '35-39','40-44','45-49','50-54','55-59','60-64',\n",
    "       '65-69','70-74','75-79','80-84','85-89','90-94',\n",
    "       '95-99','100+']\n",
    "\n",
    "homem = [-49228000, -61283000, -64391000, -52437000, -42955000, \n",
    "        -44667000, -31570000, -23887000, -22390000, -20971000, \n",
    "        -17685000, -15450000, -13932000, -11020000, -7611000, \n",
    "        -4653000, -1952000, -625000, -116000, -14000, -1000]\n",
    "\n",
    "mulher = [52367000, 64959000, 67161000, 55388000, 45448000, \n",
    "          47129000, 33436000, 26710000, 25627000, 23612000, \n",
    "          20075000, 16368000, 14220000, 10125000, 5984000, \n",
    "          3131000, 1151000, 312000, 49000, 4000, 0]\n",
    "\n",
    "dfpiramideetaria = {'idade':idade, 'homem':homem, 'mulher':mulher}\n",
    "\n",
    "dfpiramideetaria = pd.DataFrame(dfpiramideetaria)\n",
    "\n",
    "dfpiramideetaria.head()"
   ]
  },
  {
   "cell_type": "code",
   "execution_count": 35,
   "metadata": {
    "ExecuteTime": {
     "end_time": "2020-06-26T14:21:53.174260Z",
     "start_time": "2020-06-26T14:21:52.878259Z"
    }
   },
   "outputs": [
    {
     "data": {
      "image/png": "[encoded data removed]",
      "text/plain": [
       "<Figure size 864x432 with 1 Axes>"
      ]
     },
     "metadata": {
      "needs_background": "light"
     },
     "output_type": "display_data"
    }
   ],
   "source": [
    "faixaidade = ['100+','95-99','90-94','85-89','80-84','75-79',\n",
    "              '70-74','65-69','60-64','55-59','50-54','45-49',\n",
    "              '40-44','35-39','30-34','25-29','20-24','15-19',\n",
    "              '10-14','5-9','0-4']\n",
    "\n",
    "f, ax = plt.subplots(figsize = (12,6))\n",
    "\n",
    "plot_piramide = sns.barplot(x='homem', y='idade', data=dfpiramideetaria, order=faixaidade)\n",
    "\n",
    "plot_piramide = sns.barplot(x='mulher', y='idade', data=dfpiramideetaria, order=faixaidade)\n",
    "\n",
    "plot_piramide.set(xlabel=\"População (centenas de milhões)\", \n",
    "                  ylabel=\"Faixa de idade\", title = \"Pirâmide Populacional\")\n",
    "\n",
    "plt.show()"
   ]
  },
  {
   "cell_type": "markdown",
   "metadata": {
    "ExecuteTime": {
     "end_time": "2020-06-16T02:00:04.608790Z",
     "start_time": "2020-06-16T02:00:04.604824Z"
    }
   },
   "source": [
    "## Gráfico de barras\n",
    "\n",
    "Gráficos de barras representam dados categóricos com barras retangulares de comprimento proporcionais aos valores que elas representam. É uma forma de comparar categorias discretas.\n",
    "\n",
    "* https://pandas.pydata.org/pandas-docs/stable/reference/api/pandas.DataFrame.plot.bar.html"
   ]
  },
  {
   "cell_type": "code",
   "execution_count": 36,
   "metadata": {
    "ExecuteTime": {
     "end_time": "2020-06-26T14:21:57.684915Z",
     "start_time": "2020-06-26T14:21:57.678916Z"
    }
   },
   "outputs": [
    {
     "data": {
      "text/plain": [
       "Index(['ID', 'nominal_1', 'nominal_2', 'var_continua_1', 'var_continua_2',\n",
       "       'var_discreta_1', 'var_discreta_2', 'flag_1', 'flag_2', 'peso_1',\n",
       "       'peso_2'],\n",
       "      dtype='object')"
      ]
     },
     "execution_count": 36,
     "metadata": {},
     "output_type": "execute_result"
    }
   ],
   "source": [
    "df1.columns"
   ]
  },
  {
   "cell_type": "markdown",
   "metadata": {
    "ExecuteTime": {
     "end_time": "2020-06-16T02:02:15.290086Z",
     "start_time": "2020-06-16T02:02:15.287084Z"
    }
   },
   "source": [
    "### Exemplo 1"
   ]
  },
  {
   "cell_type": "code",
   "execution_count": 37,
   "metadata": {
    "ExecuteTime": {
     "end_time": "2020-06-26T14:22:01.721159Z",
     "start_time": "2020-06-26T14:22:01.577114Z"
    }
   },
   "outputs": [
    {
     "data": {
      "text/plain": [
       "<seaborn.axisgrid.FacetGrid at 0x296367dedd8>"
      ]
     },
     "execution_count": 37,
     "metadata": {},
     "output_type": "execute_result"
    },
    {
     "data": {
      "image/png": "[encoded data removed]",
      "text/plain": [
       "<Figure size 432x432 with 1 Axes>"
      ]
     },
     "metadata": {
      "needs_background": "light"
     },
     "output_type": "display_data"
    }
   ],
   "source": [
    "sns.catplot(y=\"flag_1\", data=df1,\n",
    "                height=6, kind=\"bar\", palette=\"muted\")"
   ]
  },
  {
   "cell_type": "markdown",
   "metadata": {},
   "source": [
    "### Exemplo 2"
   ]
  },
  {
   "cell_type": "code",
   "execution_count": 38,
   "metadata": {
    "ExecuteTime": {
     "end_time": "2020-06-26T14:22:07.363246Z",
     "start_time": "2020-06-26T14:22:05.863092Z"
    }
   },
   "outputs": [
    {
     "data": {
      "text/plain": [
       "<seaborn.axisgrid.FacetGrid at 0x296364bd320>"
      ]
     },
     "execution_count": 38,
     "metadata": {},
     "output_type": "execute_result"
    },
    {
     "data": {
      "image/png": "[encoded data removed]",
      "text/plain": [
       "<Figure size 432x432 with 1 Axes>"
      ]
     },
     "metadata": {
      "needs_background": "light"
     },
     "output_type": "display_data"
    }
   ],
   "source": [
    "sns.catplot(x = 'sex', y=\"height_cm\", data=df2, height=6, kind=\"bar\", palette=\"muted\")"
   ]
  },
  {
   "cell_type": "markdown",
   "metadata": {},
   "source": [
    "### Exemplo 3"
   ]
  },
  {
   "cell_type": "code",
   "execution_count": 39,
   "metadata": {
    "ExecuteTime": {
     "end_time": "2020-06-26T14:22:12.167975Z",
     "start_time": "2020-06-26T14:22:10.476928Z"
    }
   },
   "outputs": [
    {
     "data": {
      "text/plain": [
       "<seaborn.axisgrid.FacetGrid at 0x29635aa9d30>"
      ]
     },
     "execution_count": 39,
     "metadata": {},
     "output_type": "execute_result"
    },
    {
     "data": {
      "image/png": "[encoded data removed]",
      "text/plain": [
       "<Figure size 432x432 with 1 Axes>"
      ]
     },
     "metadata": {
      "needs_background": "light"
     },
     "output_type": "display_data"
    }
   ],
   "source": [
    "sns.catplot(x = 'carhill_score', y=\"height_cm\", data=df2, height=6, kind=\"bar\", palette=\"muted\")"
   ]
  },
  {
   "cell_type": "markdown",
   "metadata": {
    "ExecuteTime": {
     "end_time": "2020-06-16T02:07:12.633142Z",
     "start_time": "2020-06-16T02:07:12.630141Z"
    }
   },
   "source": [
    "### Exemplo 4"
   ]
  },
  {
   "cell_type": "code",
   "execution_count": 40,
   "metadata": {
    "ExecuteTime": {
     "end_time": "2020-06-26T14:22:15.626683Z",
     "start_time": "2020-06-26T14:22:13.719342Z"
    }
   },
   "outputs": [
    {
     "data": {
      "text/plain": [
       "<seaborn.axisgrid.FacetGrid at 0x29635ac02e8>"
      ]
     },
     "execution_count": 40,
     "metadata": {},
     "output_type": "execute_result"
    },
    {
     "data": {
      "image/png": "[encoded data removed]",
      "text/plain": [
       "<Figure size 474.375x432 with 1 Axes>"
      ]
     },
     "metadata": {
      "needs_background": "light"
     },
     "output_type": "display_data"
    }
   ],
   "source": [
    "sns.catplot(x = 'carhill_score', y=\"height_cm\", hue = 'sex', data=df2, height=6, kind=\"bar\", palette=\"muted\")"
   ]
  },
  {
   "cell_type": "markdown",
   "metadata": {},
   "source": [
    "# Caso 2: Paradoxo de Simpson\n",
    "\n",
    "Nesta análise de caso vamos abordar um tema interessante e complexo, o Paradoxo de Simpson. Este paradoxo é um fenômeno probabilístico e estatístico no qual é possível chegar a conclusões antagônicas a partir de um mesmo dataset, dependendo do nível de agrupamento no qual se está realizando as análises. Este tema é muito importante para cientistas de dados e analistas de dados e de negócios, pois trata do assunto de causalidade em análises. Este tipo de paradoxo é resolvido quando abrimos nossas análises em maior granularidade. \n",
    "\n",
    "## O caso Berkeley\n",
    "\n",
    "Um exemplo icônico do paradoxo de Simpson é o caso da Universidade Berkeley da Califórnia que foi processada na década de 1970 sob a acusação de sexismo nos programas de doutorado de seus institutos, privilegiando homens em detrimento de mulheres. Tudo isto começou com a divulgação do número de aplicantes, dividido por sexo, e o percentual de admitidos para cada um dos sexos. O percentual de homens admitidos era mquase 10 pontos percentuais maior que o de mulheres, como mostra a tabela abaixo, contendo os números reais do processo.\n",
    "\n",
    "|           |     Men    |          |    Women   |          |\n",
    "|:---------:|:----------:|:--------:|:----------:|:--------:|\n",
    "|           | Applicants | Admitted | Applicants | Admitted |\n",
    "|   Total   |    8.442   |    44%   |    4.321   |    35%   |\n",
    "\n",
    "Eventualmente a universidade de Berkeley foi absolvida da acusação de sexismo após apresentar os mesmos resultados de forma mais granular e provando que ao contrário do que se imaginava eram as mulheres que eram privilegiadas percentualmente quando a análise era observada por departamentos da universidade, como mostra a tabela abaixo, contendo dados reais do caso Berkeley.\n",
    "\n",
    "|            |     Men    |          |    Women   |          |\n",
    "|:----------:|:----------:|:--------:|:----------:|:--------:|\n",
    "| Department | Applicants | Admitted | Applicants | Admitted |\n",
    "|      B     |     560    |    63%   |      25    |    68%   |\n",
    "|      C     |     325    |    37%   |     593    |    34%   |\n",
    "|      D     |     417    |    33%   |     375    |    35%   |\n",
    "|      E     |     191    |    28%   |     393    |    24%   |\n",
    "|      F     |     373    |     6%   |     341    |     7%   |\n",
    "\n",
    "**Referências sobre o caso Berkeley**\n",
    "* David Freedman, Robert Pisani, and Roger Purves (2007), Statistics (4th edition), W. W. Norton. ISBN 0-393-92972-8.\n",
    "* P.J. Bickel, E.A. Hammel and J.W. O'Connell (1975). \"Sex Bias in Graduate Admissions: Data From Berkeley\" (PDF). Science. 187 (4175): 398–404. doi:10.1126/science.187.4175.398. PMID 17835295.\n",
    "* http://jse.amstat.org/v22n1/mickel.pdf\n",
    "* https://pubmed.ncbi.nlm.nih.gov/29484824/\n",
    "\n",
    "**Observações**\n",
    "* Tabelas retiradas de: https://en.wikipedia.org/wiki/Simpson%27s_paradox\n",
    "* Site interessante para criar tabelas em difrentes editores de texto: https://www.tablesgenerator.com/markdown_tables\n",
    "\n",
    "\n",
    "\n",
    "## Conhecendo o dataset\n",
    "\n",
    "Vamos começar lendo o dataset sobre o paradoxo de Simpson e fazendo algumas verificações básicas sobre o dataset, como por exemplo verificar quais features fazem parte dos nossos dados, além das informações dos tipos de variáveis e o tamanho do dataset. Para realizar estas análises vamos utilizar funções básicas da biblioteca Pandas."
   ]
  },
  {
   "cell_type": "code",
   "execution_count": 41,
   "metadata": {
    "ExecuteTime": {
     "end_time": "2020-06-26T14:22:21.182714Z",
     "start_time": "2020-06-26T14:22:21.155758Z"
    }
   },
   "outputs": [
    {
     "data": {
      "text/html": [
       "<div>\n",
       "<style scoped>\n",
       "    .dataframe tbody tr th:only-of-type {\n",
       "        vertical-align: middle;\n",
       "    }\n",
       "\n",
       "    .dataframe tbody tr th {\n",
       "        vertical-align: top;\n",
       "    }\n",
       "\n",
       "    .dataframe thead th {\n",
       "        text-align: right;\n",
       "    }\n",
       "</style>\n",
       "<table border=\"1\" class=\"dataframe\">\n",
       "  <thead>\n",
       "    <tr style=\"text-align: right;\">\n",
       "      <th></th>\n",
       "      <th>idade</th>\n",
       "      <th>flag_aceito</th>\n",
       "      <th>sexo</th>\n",
       "      <th>departamento</th>\n",
       "    </tr>\n",
       "  </thead>\n",
       "  <tbody>\n",
       "    <tr>\n",
       "      <th>0</th>\n",
       "      <td>41.938316</td>\n",
       "      <td>0</td>\n",
       "      <td>M</td>\n",
       "      <td>A</td>\n",
       "    </tr>\n",
       "    <tr>\n",
       "      <th>1</th>\n",
       "      <td>39.216118</td>\n",
       "      <td>0</td>\n",
       "      <td>M</td>\n",
       "      <td>A</td>\n",
       "    </tr>\n",
       "    <tr>\n",
       "      <th>2</th>\n",
       "      <td>40.686148</td>\n",
       "      <td>0</td>\n",
       "      <td>M</td>\n",
       "      <td>A</td>\n",
       "    </tr>\n",
       "    <tr>\n",
       "      <th>3</th>\n",
       "      <td>28.523798</td>\n",
       "      <td>1</td>\n",
       "      <td>M</td>\n",
       "      <td>A</td>\n",
       "    </tr>\n",
       "    <tr>\n",
       "      <th>4</th>\n",
       "      <td>37.805986</td>\n",
       "      <td>1</td>\n",
       "      <td>M</td>\n",
       "      <td>A</td>\n",
       "    </tr>\n",
       "  </tbody>\n",
       "</table>\n",
       "</div>"
      ],
      "text/plain": [
       "       idade  flag_aceito sexo departamento\n",
       "0  41.938316            0    M            A\n",
       "1  39.216118            0    M            A\n",
       "2  40.686148            0    M            A\n",
       "3  28.523798            1    M            A\n",
       "4  37.805986            1    M            A"
      ]
     },
     "execution_count": 41,
     "metadata": {},
     "output_type": "execute_result"
    }
   ],
   "source": [
    "import pandas as pd\n",
    "\n",
    "dfsimpson = pd.read_csv('df_paradoxo_simpson.csv',encoding='ISO-8859-1',delimiter=';',low_memory = False)\n",
    "\n",
    "dfsimpson = dfsimpson.drop('Unnamed: 0', axis=1)\n",
    "\n",
    "dfsimpson.head()"
   ]
  },
  {
   "cell_type": "code",
   "execution_count": 42,
   "metadata": {
    "ExecuteTime": {
     "end_time": "2020-06-26T14:22:23.401841Z",
     "start_time": "2020-06-26T14:22:23.393850Z"
    }
   },
   "outputs": [
    {
     "name": "stdout",
     "output_type": "stream",
     "text": [
      "<class 'pandas.core.frame.DataFrame'>\n",
      "RangeIndex: 4261 entries, 0 to 4260\n",
      "Data columns (total 4 columns):\n",
      " #   Column        Non-Null Count  Dtype  \n",
      "---  ------        --------------  -----  \n",
      " 0   idade         4261 non-null   float64\n",
      " 1   flag_aceito   4261 non-null   int64  \n",
      " 2   sexo          4261 non-null   object \n",
      " 3   departamento  4261 non-null   object \n",
      "dtypes: float64(1), int64(1), object(2)\n",
      "memory usage: 133.3+ KB\n"
     ]
    }
   ],
   "source": [
    "dfsimpson.info()"
   ]
  },
  {
   "cell_type": "code",
   "execution_count": 43,
   "metadata": {
    "ExecuteTime": {
     "end_time": "2020-06-26T14:22:24.448372Z",
     "start_time": "2020-06-26T14:22:24.428378Z"
    }
   },
   "outputs": [
    {
     "data": {
      "text/html": [
       "<div>\n",
       "<style scoped>\n",
       "    .dataframe tbody tr th:only-of-type {\n",
       "        vertical-align: middle;\n",
       "    }\n",
       "\n",
       "    .dataframe tbody tr th {\n",
       "        vertical-align: top;\n",
       "    }\n",
       "\n",
       "    .dataframe thead th {\n",
       "        text-align: right;\n",
       "    }\n",
       "</style>\n",
       "<table border=\"1\" class=\"dataframe\">\n",
       "  <thead>\n",
       "    <tr style=\"text-align: right;\">\n",
       "      <th></th>\n",
       "      <th>idade</th>\n",
       "      <th>flag_aceito</th>\n",
       "    </tr>\n",
       "  </thead>\n",
       "  <tbody>\n",
       "    <tr>\n",
       "      <th>count</th>\n",
       "      <td>4261.000000</td>\n",
       "      <td>4261.000000</td>\n",
       "    </tr>\n",
       "    <tr>\n",
       "      <th>mean</th>\n",
       "      <td>38.115430</td>\n",
       "      <td>0.386764</td>\n",
       "    </tr>\n",
       "    <tr>\n",
       "      <th>std</th>\n",
       "      <td>4.997975</td>\n",
       "      <td>0.487066</td>\n",
       "    </tr>\n",
       "    <tr>\n",
       "      <th>min</th>\n",
       "      <td>21.495902</td>\n",
       "      <td>0.000000</td>\n",
       "    </tr>\n",
       "    <tr>\n",
       "      <th>25%</th>\n",
       "      <td>34.765253</td>\n",
       "      <td>0.000000</td>\n",
       "    </tr>\n",
       "    <tr>\n",
       "      <th>50%</th>\n",
       "      <td>38.085361</td>\n",
       "      <td>0.000000</td>\n",
       "    </tr>\n",
       "    <tr>\n",
       "      <th>75%</th>\n",
       "      <td>41.499061</td>\n",
       "      <td>1.000000</td>\n",
       "    </tr>\n",
       "    <tr>\n",
       "      <th>max</th>\n",
       "      <td>56.262584</td>\n",
       "      <td>1.000000</td>\n",
       "    </tr>\n",
       "  </tbody>\n",
       "</table>\n",
       "</div>"
      ],
      "text/plain": [
       "             idade  flag_aceito\n",
       "count  4261.000000  4261.000000\n",
       "mean     38.115430     0.386764\n",
       "std       4.997975     0.487066\n",
       "min      21.495902     0.000000\n",
       "25%      34.765253     0.000000\n",
       "50%      38.085361     0.000000\n",
       "75%      41.499061     1.000000\n",
       "max      56.262584     1.000000"
      ]
     },
     "execution_count": 43,
     "metadata": {},
     "output_type": "execute_result"
    }
   ],
   "source": [
    "dfsimpson.describe()"
   ]
  },
  {
   "cell_type": "markdown",
   "metadata": {},
   "source": [
    "## Reproduzindo tabelas de informações e insights\n",
    "\n",
    "Aqui vamos tentar analisar a quantidade total de pessoas de ambos os sexos e verificar qual o percentual de aprovados por sexo. Nesta seção vamos reproduzir o trabalho que um analista/cientista de dados teria e uma das opções de como fazer essas análises, lembrando que não existe apenas um meio de chegar em um resultado, ainda mais em se tratando de Python."
   ]
  },
  {
   "cell_type": "code",
   "execution_count": 44,
   "metadata": {
    "ExecuteTime": {
     "end_time": "2020-06-26T14:22:28.207157Z",
     "start_time": "2020-06-26T14:22:28.195159Z"
    }
   },
   "outputs": [
    {
     "data": {
      "text/html": [
       "<div>\n",
       "<style scoped>\n",
       "    .dataframe tbody tr th:only-of-type {\n",
       "        vertical-align: middle;\n",
       "    }\n",
       "\n",
       "    .dataframe tbody tr th {\n",
       "        vertical-align: top;\n",
       "    }\n",
       "\n",
       "    .dataframe thead th {\n",
       "        text-align: right;\n",
       "    }\n",
       "</style>\n",
       "<table border=\"1\" class=\"dataframe\">\n",
       "  <thead>\n",
       "    <tr style=\"text-align: right;\">\n",
       "      <th></th>\n",
       "      <th>sexo</th>\n",
       "      <th>flag_aceito</th>\n",
       "    </tr>\n",
       "    <tr>\n",
       "      <th>sexo</th>\n",
       "      <th></th>\n",
       "      <th></th>\n",
       "    </tr>\n",
       "  </thead>\n",
       "  <tbody>\n",
       "    <tr>\n",
       "      <th>F</th>\n",
       "      <td>1835</td>\n",
       "      <td>598</td>\n",
       "    </tr>\n",
       "    <tr>\n",
       "      <th>M</th>\n",
       "      <td>2426</td>\n",
       "      <td>1050</td>\n",
       "    </tr>\n",
       "  </tbody>\n",
       "</table>\n",
       "</div>"
      ],
      "text/plain": [
       "      sexo  flag_aceito\n",
       "sexo                   \n",
       "F     1835          598\n",
       "M     2426         1050"
      ]
     },
     "execution_count": 44,
     "metadata": {},
     "output_type": "execute_result"
    }
   ],
   "source": [
    "tab1 = dfsimpson.groupby(['sexo']).agg({'sexo':'count','flag_aceito':'sum'})\n",
    "\n",
    "tab1"
   ]
  },
  {
   "cell_type": "markdown",
   "metadata": {},
   "source": [
    "Aqui transformamos a tabela que geramos na célula anterior em um pandas dataframe para que possamos enriquecer este dataframe com informações e cálculos que julguemos relevantes para nossa análise."
   ]
  },
  {
   "cell_type": "code",
   "execution_count": 45,
   "metadata": {
    "ExecuteTime": {
     "end_time": "2020-06-26T14:22:30.943605Z",
     "start_time": "2020-06-26T14:22:30.933602Z"
    }
   },
   "outputs": [
    {
     "data": {
      "text/html": [
       "<div>\n",
       "<style scoped>\n",
       "    .dataframe tbody tr th:only-of-type {\n",
       "        vertical-align: middle;\n",
       "    }\n",
       "\n",
       "    .dataframe tbody tr th {\n",
       "        vertical-align: top;\n",
       "    }\n",
       "\n",
       "    .dataframe thead th {\n",
       "        text-align: right;\n",
       "    }\n",
       "</style>\n",
       "<table border=\"1\" class=\"dataframe\">\n",
       "  <thead>\n",
       "    <tr style=\"text-align: right;\">\n",
       "      <th></th>\n",
       "      <th>sexo</th>\n",
       "      <th>flag_aceito</th>\n",
       "    </tr>\n",
       "    <tr>\n",
       "      <th>sexo</th>\n",
       "      <th></th>\n",
       "      <th></th>\n",
       "    </tr>\n",
       "  </thead>\n",
       "  <tbody>\n",
       "    <tr>\n",
       "      <th>F</th>\n",
       "      <td>1835</td>\n",
       "      <td>598</td>\n",
       "    </tr>\n",
       "    <tr>\n",
       "      <th>M</th>\n",
       "      <td>2426</td>\n",
       "      <td>1050</td>\n",
       "    </tr>\n",
       "  </tbody>\n",
       "</table>\n",
       "</div>"
      ],
      "text/plain": [
       "      sexo  flag_aceito\n",
       "sexo                   \n",
       "F     1835          598\n",
       "M     2426         1050"
      ]
     },
     "execution_count": 45,
     "metadata": {},
     "output_type": "execute_result"
    }
   ],
   "source": [
    "tab1 = pd.DataFrame(tab1)\n",
    "\n",
    "tab1"
   ]
  },
  {
   "cell_type": "markdown",
   "metadata": {},
   "source": [
    "Aqui acrescentamos uma nova coluna à tabela/dataframe que calculamos anteriormente que nada mais é do que o percentual de aprovados agrupados por ambos os sexos. Percebemos que do total de mulheres (F) cerca de $32%$ foram admitidas nos programas da Universidade de Berkeley, enquanto que dos $2.426$ homems que aplicaram para os programas de pós graduação cerca de $43%$ foram admitidos. Este foi o resultado que levantou toda a questão de sexismo e que culminou com o processo da Universidade Berkeley."
   ]
  },
  {
   "cell_type": "code",
   "execution_count": 46,
   "metadata": {
    "ExecuteTime": {
     "end_time": "2020-06-26T14:22:33.370319Z",
     "start_time": "2020-06-26T14:22:33.347286Z"
    }
   },
   "outputs": [
    {
     "data": {
      "text/html": [
       "<div>\n",
       "<style scoped>\n",
       "    .dataframe tbody tr th:only-of-type {\n",
       "        vertical-align: middle;\n",
       "    }\n",
       "\n",
       "    .dataframe tbody tr th {\n",
       "        vertical-align: top;\n",
       "    }\n",
       "\n",
       "    .dataframe thead th {\n",
       "        text-align: right;\n",
       "    }\n",
       "</style>\n",
       "<table border=\"1\" class=\"dataframe\">\n",
       "  <thead>\n",
       "    <tr style=\"text-align: right;\">\n",
       "      <th></th>\n",
       "      <th>sexo</th>\n",
       "      <th>flag_aceito</th>\n",
       "      <th>perc_aceito</th>\n",
       "    </tr>\n",
       "    <tr>\n",
       "      <th>sexo</th>\n",
       "      <th></th>\n",
       "      <th></th>\n",
       "      <th></th>\n",
       "    </tr>\n",
       "  </thead>\n",
       "  <tbody>\n",
       "    <tr>\n",
       "      <th>F</th>\n",
       "      <td>1835</td>\n",
       "      <td>598</td>\n",
       "      <td>0.325886</td>\n",
       "    </tr>\n",
       "    <tr>\n",
       "      <th>M</th>\n",
       "      <td>2426</td>\n",
       "      <td>1050</td>\n",
       "      <td>0.432811</td>\n",
       "    </tr>\n",
       "  </tbody>\n",
       "</table>\n",
       "</div>"
      ],
      "text/plain": [
       "      sexo  flag_aceito  perc_aceito\n",
       "sexo                                \n",
       "F     1835          598     0.325886\n",
       "M     2426         1050     0.432811"
      ]
     },
     "execution_count": 46,
     "metadata": {},
     "output_type": "execute_result"
    }
   ],
   "source": [
    "tab1['perc_aceito'] = tab1['flag_aceito']/tab1['sexo']\n",
    "\n",
    "tab1"
   ]
  },
  {
   "cell_type": "markdown",
   "metadata": {},
   "source": [
    "Agora vamos abrir a granularidade das nossas análises e ao invés de agrupar apenas no sexo, vamos agrupar a quantidade de pessoas que se inscreveram no processo por departamento e por sexo, e verificar quantos foram aceitos nos programas da universidade."
   ]
  },
  {
   "cell_type": "code",
   "execution_count": 47,
   "metadata": {
    "ExecuteTime": {
     "end_time": "2020-06-26T14:22:35.081940Z",
     "start_time": "2020-06-26T14:22:35.066903Z"
    }
   },
   "outputs": [
    {
     "data": {
      "text/html": [
       "<div>\n",
       "<style scoped>\n",
       "    .dataframe tbody tr th:only-of-type {\n",
       "        vertical-align: middle;\n",
       "    }\n",
       "\n",
       "    .dataframe tbody tr th {\n",
       "        vertical-align: top;\n",
       "    }\n",
       "\n",
       "    .dataframe thead th {\n",
       "        text-align: right;\n",
       "    }\n",
       "</style>\n",
       "<table border=\"1\" class=\"dataframe\">\n",
       "  <thead>\n",
       "    <tr style=\"text-align: right;\">\n",
       "      <th></th>\n",
       "      <th></th>\n",
       "      <th>sexo</th>\n",
       "      <th>flag_aceito</th>\n",
       "    </tr>\n",
       "    <tr>\n",
       "      <th>sexo</th>\n",
       "      <th>departamento</th>\n",
       "      <th></th>\n",
       "      <th></th>\n",
       "    </tr>\n",
       "  </thead>\n",
       "  <tbody>\n",
       "    <tr>\n",
       "      <th rowspan=\"6\" valign=\"top\">F</th>\n",
       "      <th>A</th>\n",
       "      <td>108</td>\n",
       "      <td>99</td>\n",
       "    </tr>\n",
       "    <tr>\n",
       "      <th>B</th>\n",
       "      <td>25</td>\n",
       "      <td>14</td>\n",
       "    </tr>\n",
       "    <tr>\n",
       "      <th>C</th>\n",
       "      <td>593</td>\n",
       "      <td>211</td>\n",
       "    </tr>\n",
       "    <tr>\n",
       "      <th>D</th>\n",
       "      <td>375</td>\n",
       "      <td>139</td>\n",
       "    </tr>\n",
       "    <tr>\n",
       "      <th>E</th>\n",
       "      <td>393</td>\n",
       "      <td>112</td>\n",
       "    </tr>\n",
       "    <tr>\n",
       "      <th>F</th>\n",
       "      <td>341</td>\n",
       "      <td>23</td>\n",
       "    </tr>\n",
       "    <tr>\n",
       "      <th rowspan=\"6\" valign=\"top\">M</th>\n",
       "      <th>A</th>\n",
       "      <td>560</td>\n",
       "      <td>365</td>\n",
       "    </tr>\n",
       "    <tr>\n",
       "      <th>B</th>\n",
       "      <td>560</td>\n",
       "      <td>350</td>\n",
       "    </tr>\n",
       "    <tr>\n",
       "      <th>C</th>\n",
       "      <td>325</td>\n",
       "      <td>129</td>\n",
       "    </tr>\n",
       "    <tr>\n",
       "      <th>D</th>\n",
       "      <td>417</td>\n",
       "      <td>124</td>\n",
       "    </tr>\n",
       "    <tr>\n",
       "      <th>E</th>\n",
       "      <td>191</td>\n",
       "      <td>63</td>\n",
       "    </tr>\n",
       "    <tr>\n",
       "      <th>F</th>\n",
       "      <td>373</td>\n",
       "      <td>19</td>\n",
       "    </tr>\n",
       "  </tbody>\n",
       "</table>\n",
       "</div>"
      ],
      "text/plain": [
       "                   sexo  flag_aceito\n",
       "sexo departamento                   \n",
       "F    A              108           99\n",
       "     B               25           14\n",
       "     C              593          211\n",
       "     D              375          139\n",
       "     E              393          112\n",
       "     F              341           23\n",
       "M    A              560          365\n",
       "     B              560          350\n",
       "     C              325          129\n",
       "     D              417          124\n",
       "     E              191           63\n",
       "     F              373           19"
      ]
     },
     "execution_count": 47,
     "metadata": {},
     "output_type": "execute_result"
    }
   ],
   "source": [
    "tab2 = dfsimpson.groupby(['sexo','departamento']).agg({'sexo':'count','flag_aceito':'sum'})\n",
    "\n",
    "tab2"
   ]
  },
  {
   "cell_type": "code",
   "execution_count": 48,
   "metadata": {
    "ExecuteTime": {
     "end_time": "2020-06-26T14:22:35.933789Z",
     "start_time": "2020-06-26T14:22:35.925784Z"
    }
   },
   "outputs": [
    {
     "data": {
      "text/html": [
       "<div>\n",
       "<style scoped>\n",
       "    .dataframe tbody tr th:only-of-type {\n",
       "        vertical-align: middle;\n",
       "    }\n",
       "\n",
       "    .dataframe tbody tr th {\n",
       "        vertical-align: top;\n",
       "    }\n",
       "\n",
       "    .dataframe thead th {\n",
       "        text-align: right;\n",
       "    }\n",
       "</style>\n",
       "<table border=\"1\" class=\"dataframe\">\n",
       "  <thead>\n",
       "    <tr style=\"text-align: right;\">\n",
       "      <th></th>\n",
       "      <th></th>\n",
       "      <th>sexo</th>\n",
       "      <th>flag_aceito</th>\n",
       "    </tr>\n",
       "    <tr>\n",
       "      <th>sexo</th>\n",
       "      <th>departamento</th>\n",
       "      <th></th>\n",
       "      <th></th>\n",
       "    </tr>\n",
       "  </thead>\n",
       "  <tbody>\n",
       "    <tr>\n",
       "      <th rowspan=\"6\" valign=\"top\">F</th>\n",
       "      <th>A</th>\n",
       "      <td>108</td>\n",
       "      <td>99</td>\n",
       "    </tr>\n",
       "    <tr>\n",
       "      <th>B</th>\n",
       "      <td>25</td>\n",
       "      <td>14</td>\n",
       "    </tr>\n",
       "    <tr>\n",
       "      <th>C</th>\n",
       "      <td>593</td>\n",
       "      <td>211</td>\n",
       "    </tr>\n",
       "    <tr>\n",
       "      <th>D</th>\n",
       "      <td>375</td>\n",
       "      <td>139</td>\n",
       "    </tr>\n",
       "    <tr>\n",
       "      <th>E</th>\n",
       "      <td>393</td>\n",
       "      <td>112</td>\n",
       "    </tr>\n",
       "    <tr>\n",
       "      <th>F</th>\n",
       "      <td>341</td>\n",
       "      <td>23</td>\n",
       "    </tr>\n",
       "    <tr>\n",
       "      <th rowspan=\"6\" valign=\"top\">M</th>\n",
       "      <th>A</th>\n",
       "      <td>560</td>\n",
       "      <td>365</td>\n",
       "    </tr>\n",
       "    <tr>\n",
       "      <th>B</th>\n",
       "      <td>560</td>\n",
       "      <td>350</td>\n",
       "    </tr>\n",
       "    <tr>\n",
       "      <th>C</th>\n",
       "      <td>325</td>\n",
       "      <td>129</td>\n",
       "    </tr>\n",
       "    <tr>\n",
       "      <th>D</th>\n",
       "      <td>417</td>\n",
       "      <td>124</td>\n",
       "    </tr>\n",
       "    <tr>\n",
       "      <th>E</th>\n",
       "      <td>191</td>\n",
       "      <td>63</td>\n",
       "    </tr>\n",
       "    <tr>\n",
       "      <th>F</th>\n",
       "      <td>373</td>\n",
       "      <td>19</td>\n",
       "    </tr>\n",
       "  </tbody>\n",
       "</table>\n",
       "</div>"
      ],
      "text/plain": [
       "                   sexo  flag_aceito\n",
       "sexo departamento                   \n",
       "F    A              108           99\n",
       "     B               25           14\n",
       "     C              593          211\n",
       "     D              375          139\n",
       "     E              393          112\n",
       "     F              341           23\n",
       "M    A              560          365\n",
       "     B              560          350\n",
       "     C              325          129\n",
       "     D              417          124\n",
       "     E              191           63\n",
       "     F              373           19"
      ]
     },
     "execution_count": 48,
     "metadata": {},
     "output_type": "execute_result"
    }
   ],
   "source": [
    "tab2 = pd.DataFrame(tab2)\n",
    "\n",
    "tab2"
   ]
  },
  {
   "cell_type": "code",
   "execution_count": 49,
   "metadata": {
    "ExecuteTime": {
     "end_time": "2020-06-26T14:22:36.646563Z",
     "start_time": "2020-06-26T14:22:36.636601Z"
    }
   },
   "outputs": [
    {
     "data": {
      "text/html": [
       "<div>\n",
       "<style scoped>\n",
       "    .dataframe tbody tr th:only-of-type {\n",
       "        vertical-align: middle;\n",
       "    }\n",
       "\n",
       "    .dataframe tbody tr th {\n",
       "        vertical-align: top;\n",
       "    }\n",
       "\n",
       "    .dataframe thead th {\n",
       "        text-align: right;\n",
       "    }\n",
       "</style>\n",
       "<table border=\"1\" class=\"dataframe\">\n",
       "  <thead>\n",
       "    <tr style=\"text-align: right;\">\n",
       "      <th></th>\n",
       "      <th></th>\n",
       "      <th>sexo</th>\n",
       "      <th>flag_aceito</th>\n",
       "      <th>perc_aceito</th>\n",
       "    </tr>\n",
       "    <tr>\n",
       "      <th>sexo</th>\n",
       "      <th>departamento</th>\n",
       "      <th></th>\n",
       "      <th></th>\n",
       "      <th></th>\n",
       "    </tr>\n",
       "  </thead>\n",
       "  <tbody>\n",
       "    <tr>\n",
       "      <th rowspan=\"6\" valign=\"top\">F</th>\n",
       "      <th>A</th>\n",
       "      <td>108</td>\n",
       "      <td>99</td>\n",
       "      <td>0.916667</td>\n",
       "    </tr>\n",
       "    <tr>\n",
       "      <th>B</th>\n",
       "      <td>25</td>\n",
       "      <td>14</td>\n",
       "      <td>0.560000</td>\n",
       "    </tr>\n",
       "    <tr>\n",
       "      <th>C</th>\n",
       "      <td>593</td>\n",
       "      <td>211</td>\n",
       "      <td>0.355818</td>\n",
       "    </tr>\n",
       "    <tr>\n",
       "      <th>D</th>\n",
       "      <td>375</td>\n",
       "      <td>139</td>\n",
       "      <td>0.370667</td>\n",
       "    </tr>\n",
       "    <tr>\n",
       "      <th>E</th>\n",
       "      <td>393</td>\n",
       "      <td>112</td>\n",
       "      <td>0.284987</td>\n",
       "    </tr>\n",
       "    <tr>\n",
       "      <th>F</th>\n",
       "      <td>341</td>\n",
       "      <td>23</td>\n",
       "      <td>0.067449</td>\n",
       "    </tr>\n",
       "    <tr>\n",
       "      <th rowspan=\"6\" valign=\"top\">M</th>\n",
       "      <th>A</th>\n",
       "      <td>560</td>\n",
       "      <td>365</td>\n",
       "      <td>0.651786</td>\n",
       "    </tr>\n",
       "    <tr>\n",
       "      <th>B</th>\n",
       "      <td>560</td>\n",
       "      <td>350</td>\n",
       "      <td>0.625000</td>\n",
       "    </tr>\n",
       "    <tr>\n",
       "      <th>C</th>\n",
       "      <td>325</td>\n",
       "      <td>129</td>\n",
       "      <td>0.396923</td>\n",
       "    </tr>\n",
       "    <tr>\n",
       "      <th>D</th>\n",
       "      <td>417</td>\n",
       "      <td>124</td>\n",
       "      <td>0.297362</td>\n",
       "    </tr>\n",
       "    <tr>\n",
       "      <th>E</th>\n",
       "      <td>191</td>\n",
       "      <td>63</td>\n",
       "      <td>0.329843</td>\n",
       "    </tr>\n",
       "    <tr>\n",
       "      <th>F</th>\n",
       "      <td>373</td>\n",
       "      <td>19</td>\n",
       "      <td>0.050938</td>\n",
       "    </tr>\n",
       "  </tbody>\n",
       "</table>\n",
       "</div>"
      ],
      "text/plain": [
       "                   sexo  flag_aceito  perc_aceito\n",
       "sexo departamento                                \n",
       "F    A              108           99     0.916667\n",
       "     B               25           14     0.560000\n",
       "     C              593          211     0.355818\n",
       "     D              375          139     0.370667\n",
       "     E              393          112     0.284987\n",
       "     F              341           23     0.067449\n",
       "M    A              560          365     0.651786\n",
       "     B              560          350     0.625000\n",
       "     C              325          129     0.396923\n",
       "     D              417          124     0.297362\n",
       "     E              191           63     0.329843\n",
       "     F              373           19     0.050938"
      ]
     },
     "execution_count": 49,
     "metadata": {},
     "output_type": "execute_result"
    }
   ],
   "source": [
    "tab2['perc_aceito'] = tab2['flag_aceito']/tab2['sexo']\n",
    "\n",
    "tab2"
   ]
  },
  {
   "cell_type": "markdown",
   "metadata": {},
   "source": [
    "Aqui vamos iniciar a criação de uma tabela geral com todas as informações necessárias para chegarmos aos resultados que a Universidade Berkeley apresentou em sua defesa, demonstrando que não havia sexismo na admissão dos candidatos aos programas de pós graduação."
   ]
  },
  {
   "cell_type": "code",
   "execution_count": 50,
   "metadata": {
    "ExecuteTime": {
     "end_time": "2020-06-26T14:22:39.198018Z",
     "start_time": "2020-06-26T14:22:39.185020Z"
    },
    "scrolled": true
   },
   "outputs": [
    {
     "data": {
      "text/html": [
       "<div>\n",
       "<style scoped>\n",
       "    .dataframe tbody tr th:only-of-type {\n",
       "        vertical-align: middle;\n",
       "    }\n",
       "\n",
       "    .dataframe tbody tr th {\n",
       "        vertical-align: top;\n",
       "    }\n",
       "\n",
       "    .dataframe thead th {\n",
       "        text-align: right;\n",
       "    }\n",
       "</style>\n",
       "<table border=\"1\" class=\"dataframe\">\n",
       "  <thead>\n",
       "    <tr style=\"text-align: right;\">\n",
       "      <th></th>\n",
       "      <th>flag_aceito</th>\n",
       "      <th>sexo</th>\n",
       "      <th>departamento</th>\n",
       "      <th>flag_nao_aceito</th>\n",
       "    </tr>\n",
       "  </thead>\n",
       "  <tbody>\n",
       "    <tr>\n",
       "      <th>0</th>\n",
       "      <td>0</td>\n",
       "      <td>M</td>\n",
       "      <td>A</td>\n",
       "      <td>1</td>\n",
       "    </tr>\n",
       "    <tr>\n",
       "      <th>1</th>\n",
       "      <td>0</td>\n",
       "      <td>M</td>\n",
       "      <td>A</td>\n",
       "      <td>1</td>\n",
       "    </tr>\n",
       "    <tr>\n",
       "      <th>2</th>\n",
       "      <td>0</td>\n",
       "      <td>M</td>\n",
       "      <td>A</td>\n",
       "      <td>1</td>\n",
       "    </tr>\n",
       "    <tr>\n",
       "      <th>3</th>\n",
       "      <td>1</td>\n",
       "      <td>M</td>\n",
       "      <td>A</td>\n",
       "      <td>0</td>\n",
       "    </tr>\n",
       "    <tr>\n",
       "      <th>4</th>\n",
       "      <td>1</td>\n",
       "      <td>M</td>\n",
       "      <td>A</td>\n",
       "      <td>0</td>\n",
       "    </tr>\n",
       "  </tbody>\n",
       "</table>\n",
       "</div>"
      ],
      "text/plain": [
       "   flag_aceito sexo departamento  flag_nao_aceito\n",
       "0            0    M            A                1\n",
       "1            0    M            A                1\n",
       "2            0    M            A                1\n",
       "3            1    M            A                0\n",
       "4            1    M            A                0"
      ]
     },
     "execution_count": 50,
     "metadata": {},
     "output_type": "execute_result"
    }
   ],
   "source": [
    "dfsimpsonaux = dfsimpson.drop(['idade'], axis=1)\n",
    "\n",
    "dfsimpsonaux = pd.DataFrame(dfsimpsonaux).copy()\n",
    "\n",
    "dfsimpsonaux['flag_nao_aceito'] = abs(1 - dfsimpsonaux['flag_aceito'])\n",
    "\n",
    "dfsimpsonaux.head()"
   ]
  },
  {
   "cell_type": "code",
   "execution_count": 51,
   "metadata": {
    "ExecuteTime": {
     "end_time": "2020-06-26T14:22:42.508650Z",
     "start_time": "2020-06-26T14:22:42.457615Z"
    }
   },
   "outputs": [
    {
     "data": {
      "text/html": [
       "<div>\n",
       "<style scoped>\n",
       "    .dataframe tbody tr th:only-of-type {\n",
       "        vertical-align: middle;\n",
       "    }\n",
       "\n",
       "    .dataframe tbody tr th {\n",
       "        vertical-align: top;\n",
       "    }\n",
       "\n",
       "    .dataframe thead tr th {\n",
       "        text-align: left;\n",
       "    }\n",
       "\n",
       "    .dataframe thead tr:last-of-type th {\n",
       "        text-align: right;\n",
       "    }\n",
       "</style>\n",
       "<table border=\"1\" class=\"dataframe\">\n",
       "  <thead>\n",
       "    <tr>\n",
       "      <th></th>\n",
       "      <th colspan=\"3\" halign=\"left\">flag_aceito</th>\n",
       "      <th colspan=\"3\" halign=\"left\">flag_nao_aceito</th>\n",
       "    </tr>\n",
       "    <tr>\n",
       "      <th>sexo</th>\n",
       "      <th>F</th>\n",
       "      <th>M</th>\n",
       "      <th>Total</th>\n",
       "      <th>F</th>\n",
       "      <th>M</th>\n",
       "      <th>Total</th>\n",
       "    </tr>\n",
       "    <tr>\n",
       "      <th>departamento</th>\n",
       "      <th></th>\n",
       "      <th></th>\n",
       "      <th></th>\n",
       "      <th></th>\n",
       "      <th></th>\n",
       "      <th></th>\n",
       "    </tr>\n",
       "  </thead>\n",
       "  <tbody>\n",
       "    <tr>\n",
       "      <th>A</th>\n",
       "      <td>99</td>\n",
       "      <td>365</td>\n",
       "      <td>464</td>\n",
       "      <td>9</td>\n",
       "      <td>195</td>\n",
       "      <td>204</td>\n",
       "    </tr>\n",
       "    <tr>\n",
       "      <th>B</th>\n",
       "      <td>14</td>\n",
       "      <td>350</td>\n",
       "      <td>364</td>\n",
       "      <td>11</td>\n",
       "      <td>210</td>\n",
       "      <td>221</td>\n",
       "    </tr>\n",
       "    <tr>\n",
       "      <th>C</th>\n",
       "      <td>211</td>\n",
       "      <td>129</td>\n",
       "      <td>340</td>\n",
       "      <td>382</td>\n",
       "      <td>196</td>\n",
       "      <td>578</td>\n",
       "    </tr>\n",
       "    <tr>\n",
       "      <th>D</th>\n",
       "      <td>139</td>\n",
       "      <td>124</td>\n",
       "      <td>263</td>\n",
       "      <td>236</td>\n",
       "      <td>293</td>\n",
       "      <td>529</td>\n",
       "    </tr>\n",
       "    <tr>\n",
       "      <th>E</th>\n",
       "      <td>112</td>\n",
       "      <td>63</td>\n",
       "      <td>175</td>\n",
       "      <td>281</td>\n",
       "      <td>128</td>\n",
       "      <td>409</td>\n",
       "    </tr>\n",
       "    <tr>\n",
       "      <th>F</th>\n",
       "      <td>23</td>\n",
       "      <td>19</td>\n",
       "      <td>42</td>\n",
       "      <td>318</td>\n",
       "      <td>354</td>\n",
       "      <td>672</td>\n",
       "    </tr>\n",
       "    <tr>\n",
       "      <th>Total</th>\n",
       "      <td>598</td>\n",
       "      <td>1050</td>\n",
       "      <td>1648</td>\n",
       "      <td>1237</td>\n",
       "      <td>1376</td>\n",
       "      <td>2613</td>\n",
       "    </tr>\n",
       "  </tbody>\n",
       "</table>\n",
       "</div>"
      ],
      "text/plain": [
       "             flag_aceito             flag_nao_aceito            \n",
       "sexo                   F     M Total               F     M Total\n",
       "departamento                                                    \n",
       "A                     99   365   464               9   195   204\n",
       "B                     14   350   364              11   210   221\n",
       "C                    211   129   340             382   196   578\n",
       "D                    139   124   263             236   293   529\n",
       "E                    112    63   175             281   128   409\n",
       "F                     23    19    42             318   354   672\n",
       "Total                598  1050  1648            1237  1376  2613"
      ]
     },
     "execution_count": 51,
     "metadata": {},
     "output_type": "execute_result"
    }
   ],
   "source": [
    "tabela = pd.pivot_table(dfsimpsonaux,\n",
    "               index = ['departamento'],\n",
    "               values = ['flag_aceito','flag_nao_aceito'],\n",
    "               columns = ['sexo'],\n",
    "               fill_value = '',\n",
    "               aggfunc = np.sum,\n",
    "               #observed = False,\n",
    "               margins = True,\n",
    "               margins_name = 'Total'\n",
    "              )\n",
    "\n",
    "tabela"
   ]
  },
  {
   "cell_type": "code",
   "execution_count": 52,
   "metadata": {
    "ExecuteTime": {
     "end_time": "2020-06-26T14:22:44.632278Z",
     "start_time": "2020-06-26T14:22:44.611288Z"
    }
   },
   "outputs": [
    {
     "data": {
      "text/html": [
       "<div>\n",
       "<style scoped>\n",
       "    .dataframe tbody tr th:only-of-type {\n",
       "        vertical-align: middle;\n",
       "    }\n",
       "\n",
       "    .dataframe tbody tr th {\n",
       "        vertical-align: top;\n",
       "    }\n",
       "\n",
       "    .dataframe thead th {\n",
       "        text-align: right;\n",
       "    }\n",
       "</style>\n",
       "<table border=\"1\" class=\"dataframe\">\n",
       "  <thead>\n",
       "    <tr style=\"text-align: right;\">\n",
       "      <th></th>\n",
       "      <th>departamento</th>\n",
       "      <th>('flag_aceito', 'F')</th>\n",
       "      <th>('flag_aceito', 'M')</th>\n",
       "      <th>('flag_aceito', 'Total')</th>\n",
       "      <th>('flag_nao_aceito', 'F')</th>\n",
       "      <th>('flag_nao_aceito', 'M')</th>\n",
       "      <th>('flag_nao_aceito', 'Total')</th>\n",
       "    </tr>\n",
       "  </thead>\n",
       "  <tbody>\n",
       "    <tr>\n",
       "      <th>0</th>\n",
       "      <td>A</td>\n",
       "      <td>99</td>\n",
       "      <td>365</td>\n",
       "      <td>464</td>\n",
       "      <td>9</td>\n",
       "      <td>195</td>\n",
       "      <td>204</td>\n",
       "    </tr>\n",
       "    <tr>\n",
       "      <th>1</th>\n",
       "      <td>B</td>\n",
       "      <td>14</td>\n",
       "      <td>350</td>\n",
       "      <td>364</td>\n",
       "      <td>11</td>\n",
       "      <td>210</td>\n",
       "      <td>221</td>\n",
       "    </tr>\n",
       "    <tr>\n",
       "      <th>2</th>\n",
       "      <td>C</td>\n",
       "      <td>211</td>\n",
       "      <td>129</td>\n",
       "      <td>340</td>\n",
       "      <td>382</td>\n",
       "      <td>196</td>\n",
       "      <td>578</td>\n",
       "    </tr>\n",
       "    <tr>\n",
       "      <th>3</th>\n",
       "      <td>D</td>\n",
       "      <td>139</td>\n",
       "      <td>124</td>\n",
       "      <td>263</td>\n",
       "      <td>236</td>\n",
       "      <td>293</td>\n",
       "      <td>529</td>\n",
       "    </tr>\n",
       "    <tr>\n",
       "      <th>4</th>\n",
       "      <td>E</td>\n",
       "      <td>112</td>\n",
       "      <td>63</td>\n",
       "      <td>175</td>\n",
       "      <td>281</td>\n",
       "      <td>128</td>\n",
       "      <td>409</td>\n",
       "    </tr>\n",
       "    <tr>\n",
       "      <th>5</th>\n",
       "      <td>F</td>\n",
       "      <td>23</td>\n",
       "      <td>19</td>\n",
       "      <td>42</td>\n",
       "      <td>318</td>\n",
       "      <td>354</td>\n",
       "      <td>672</td>\n",
       "    </tr>\n",
       "    <tr>\n",
       "      <th>6</th>\n",
       "      <td>Total</td>\n",
       "      <td>598</td>\n",
       "      <td>1050</td>\n",
       "      <td>1648</td>\n",
       "      <td>1237</td>\n",
       "      <td>1376</td>\n",
       "      <td>2613</td>\n",
       "    </tr>\n",
       "  </tbody>\n",
       "</table>\n",
       "</div>"
      ],
      "text/plain": [
       "  departamento  ('flag_aceito', 'F')  ('flag_aceito', 'M')  \\\n",
       "0            A                    99                   365   \n",
       "1            B                    14                   350   \n",
       "2            C                   211                   129   \n",
       "3            D                   139                   124   \n",
       "4            E                   112                    63   \n",
       "5            F                    23                    19   \n",
       "6        Total                   598                  1050   \n",
       "\n",
       "   ('flag_aceito', 'Total')  ('flag_nao_aceito', 'F')  \\\n",
       "0                       464                         9   \n",
       "1                       364                        11   \n",
       "2                       340                       382   \n",
       "3                       263                       236   \n",
       "4                       175                       281   \n",
       "5                        42                       318   \n",
       "6                      1648                      1237   \n",
       "\n",
       "   ('flag_nao_aceito', 'M')  ('flag_nao_aceito', 'Total')  \n",
       "0                       195                           204  \n",
       "1                       210                           221  \n",
       "2                       196                           578  \n",
       "3                       293                           529  \n",
       "4                       128                           409  \n",
       "5                       354                           672  \n",
       "6                      1376                          2613  "
      ]
     },
     "execution_count": 52,
     "metadata": {},
     "output_type": "execute_result"
    }
   ],
   "source": [
    "tabela = pd.DataFrame(tabela)\n",
    "\n",
    "tabela = pd.DataFrame(tabela.to_records())\n",
    "\n",
    "tabela"
   ]
  },
  {
   "cell_type": "markdown",
   "metadata": {},
   "source": [
    "Terminamos de criar a tabela base para podermos trabalhar e analisar. Como exercício proposto vamos deixar para o leitor calcular as colunas de percentual e subtotal para os insights necessários."
   ]
  },
  {
   "cell_type": "code",
   "execution_count": 53,
   "metadata": {
    "ExecuteTime": {
     "end_time": "2020-06-26T14:22:47.846546Z",
     "start_time": "2020-06-26T14:22:47.837549Z"
    }
   },
   "outputs": [
    {
     "data": {
      "text/html": [
       "<div>\n",
       "<style scoped>\n",
       "    .dataframe tbody tr th:only-of-type {\n",
       "        vertical-align: middle;\n",
       "    }\n",
       "\n",
       "    .dataframe tbody tr th {\n",
       "        vertical-align: top;\n",
       "    }\n",
       "\n",
       "    .dataframe thead th {\n",
       "        text-align: right;\n",
       "    }\n",
       "</style>\n",
       "<table border=\"1\" class=\"dataframe\">\n",
       "  <thead>\n",
       "    <tr style=\"text-align: right;\">\n",
       "      <th></th>\n",
       "      <th>departamento</th>\n",
       "      <th>F_aceito</th>\n",
       "      <th>M_aceito</th>\n",
       "      <th>total_aceito</th>\n",
       "      <th>F_nao_aceito</th>\n",
       "      <th>M_nao_aceito</th>\n",
       "      <th>total_nao_aceito</th>\n",
       "    </tr>\n",
       "  </thead>\n",
       "  <tbody>\n",
       "    <tr>\n",
       "      <th>0</th>\n",
       "      <td>A</td>\n",
       "      <td>99</td>\n",
       "      <td>365</td>\n",
       "      <td>464</td>\n",
       "      <td>9</td>\n",
       "      <td>195</td>\n",
       "      <td>204</td>\n",
       "    </tr>\n",
       "    <tr>\n",
       "      <th>1</th>\n",
       "      <td>B</td>\n",
       "      <td>14</td>\n",
       "      <td>350</td>\n",
       "      <td>364</td>\n",
       "      <td>11</td>\n",
       "      <td>210</td>\n",
       "      <td>221</td>\n",
       "    </tr>\n",
       "    <tr>\n",
       "      <th>2</th>\n",
       "      <td>C</td>\n",
       "      <td>211</td>\n",
       "      <td>129</td>\n",
       "      <td>340</td>\n",
       "      <td>382</td>\n",
       "      <td>196</td>\n",
       "      <td>578</td>\n",
       "    </tr>\n",
       "    <tr>\n",
       "      <th>3</th>\n",
       "      <td>D</td>\n",
       "      <td>139</td>\n",
       "      <td>124</td>\n",
       "      <td>263</td>\n",
       "      <td>236</td>\n",
       "      <td>293</td>\n",
       "      <td>529</td>\n",
       "    </tr>\n",
       "    <tr>\n",
       "      <th>4</th>\n",
       "      <td>E</td>\n",
       "      <td>112</td>\n",
       "      <td>63</td>\n",
       "      <td>175</td>\n",
       "      <td>281</td>\n",
       "      <td>128</td>\n",
       "      <td>409</td>\n",
       "    </tr>\n",
       "    <tr>\n",
       "      <th>5</th>\n",
       "      <td>F</td>\n",
       "      <td>23</td>\n",
       "      <td>19</td>\n",
       "      <td>42</td>\n",
       "      <td>318</td>\n",
       "      <td>354</td>\n",
       "      <td>672</td>\n",
       "    </tr>\n",
       "    <tr>\n",
       "      <th>6</th>\n",
       "      <td>Total</td>\n",
       "      <td>598</td>\n",
       "      <td>1050</td>\n",
       "      <td>1648</td>\n",
       "      <td>1237</td>\n",
       "      <td>1376</td>\n",
       "      <td>2613</td>\n",
       "    </tr>\n",
       "  </tbody>\n",
       "</table>\n",
       "</div>"
      ],
      "text/plain": [
       "  departamento  F_aceito  M_aceito  total_aceito  F_nao_aceito  M_nao_aceito  \\\n",
       "0            A        99       365           464             9           195   \n",
       "1            B        14       350           364            11           210   \n",
       "2            C       211       129           340           382           196   \n",
       "3            D       139       124           263           236           293   \n",
       "4            E       112        63           175           281           128   \n",
       "5            F        23        19            42           318           354   \n",
       "6        Total       598      1050          1648          1237          1376   \n",
       "\n",
       "   total_nao_aceito  \n",
       "0               204  \n",
       "1               221  \n",
       "2               578  \n",
       "3               529  \n",
       "4               409  \n",
       "5               672  \n",
       "6              2613  "
      ]
     },
     "execution_count": 53,
     "metadata": {},
     "output_type": "execute_result"
    }
   ],
   "source": [
    "tabela.columns = ['departamento','F_aceito','M_aceito','total_aceito','F_nao_aceito','M_nao_aceito','total_nao_aceito']\n",
    "\n",
    "tabela"
   ]
  },
  {
   "cell_type": "code",
   "execution_count": 54,
   "metadata": {
    "ExecuteTime": {
     "end_time": "2020-06-26T14:22:50.084722Z",
     "start_time": "2020-06-26T14:22:50.072720Z"
    }
   },
   "outputs": [],
   "source": [
    "tabela.to_csv(\"tabela_exercicio_simpson.csv\",encoding='ISO-8859-1',sep=';')"
   ]
  },
  {
   "cell_type": "markdown",
   "metadata": {},
   "source": [
    "**Apoio didático**\n",
    "\n",
    "* https://www.youtube.com/watch?v=ebEkn-BiW5k&t=19s\n",
    "* https://youtu.be/fDcjhAKuhqQ?t=1701\n",
    "* https://www.youtube.com/watch?v=4zn17KICsQM\n",
    "* https://www.youtube.com/watch?v=Ye0lmQzgqvM\n",
    "\n",
    "\n",
    "**Referências**\n",
    "\n",
    "* https://pt.wikipedia.org/wiki/Paradoxo_de_Simpson\n",
    "* https://www.youtube.com/watch?v=ebEkn-BiW5k\n",
    "* https://www.youtube.com/watch?v=E_ME4P9fQbo\n",
    "* https://plato.stanford.edu/entries/paradox-simpson/"
   ]
  }
 ],
 "metadata": {
  "hide_input": false,
  "kernelspec": {
   "display_name": "Python 3",
   "language": "python",
   "name": "python3"
  },
  "language_info": {
   "codemirror_mode": {
    "name": "ipython",
    "version": 3
   },
   "file_extension": ".py",
   "mimetype": "text/x-python",
   "name": "python",
   "nbconvert_exporter": "python",
   "pygments_lexer": "ipython3",
   "version": "3.7.4"
  },
  "latex_envs": {
   "LaTeX_envs_menu_present": true,
   "autoclose": false,
   "autocomplete": true,
   "bibliofile": "biblio.bib",
   "cite_by": "apalike",
   "current_citInitial": 1,
   "eqLabelWithNumbers": true,
   "eqNumInitial": 1,
   "hotkeys": {
    "equation": "Ctrl-E",
    "itemize": "Ctrl-I"
   },
   "labels_anchors": false,
   "latex_user_defs": false,
   "report_style_numbering": false,
   "user_envs_cfg": false
  },
  "toc": {
   "base_numbering": 1,
   "nav_menu": {
    "height": "167px",
    "width": "352px"
   },
   "number_sections": true,
   "sideBar": true,
   "skip_h1_title": false,
   "title_cell": "Table of Contents",
   "title_sidebar": "Contents",
   "toc_cell": false,
   "toc_position": {
    "height": "calc(100% - 180px)",
    "left": "10px",
    "top": "150px",
    "width": "234px"
   },
   "toc_section_display": true,
   "toc_window_display": true
  },
  "varInspector": {
   "cols": {
    "lenName": 16,
    "lenType": 16,
    "lenVar": 40
   },
   "kernels_config": {
    "python": {
     "delete_cmd_postfix": "",
     "delete_cmd_prefix": "del ",
     "library": "var_list.py",
     "varRefreshCmd": "print(var_dic_list())"
    },
    "r": {
     "delete_cmd_postfix": ") ",
     "delete_cmd_prefix": "rm(",
     "library": "var_list.r",
     "varRefreshCmd": "cat(var_dic_list()) "
    }
   },
   "types_to_exclude": [
    "module",
    "function",
    "builtin_function_or_method",
    "instance",
    "_Feature"
   ],
   "window_display": false
  }
 },
 "nbformat": 4,
 "nbformat_minor": 2
}
