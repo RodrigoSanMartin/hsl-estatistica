{
 "cells": [
  {
   "cell_type": "markdown",
   "metadata": {},
   "source": [
    "# Módulo II: Estatística Descritiva\n",
    "\n",
    "## Estatística Descritiva (Foundations)\n",
    "* Variáveis qualitativas (nominal e ordinal).\n",
    "* Variáveis quantitativas (contínua e discreta).\n",
    "* Medidas de posição: média, moda, mediana, percentis, quartis.\n",
    "* Medidas de dispersão: amplitude, intervalo-interquartil, variância, desvio padrão, coeficiente de variação.\n",
    "* Organização de dados em tabelas e datasets.\n",
    "* Representação gráfica de variáveis qualitativas.\n",
    "* Representação gráfica de variáveis quantitativas. \n",
    "* Histogramas e boxplots.\n",
    "\n",
    "## Probabilidade (Intermediário)\n",
    "* Conceito de probabilidade, evento, distribuição de prob., valor esperado, var.\n",
    "* Variáveis aleatórias e suas principais distribuições (contínuas e discretas).\n",
    "\n",
    "## Inferência (Avançado)\n",
    "* População, amostra, amostra aleatória simples, estatística e parâmetros.\n",
    "* Distribuições, estimação e testes de hipótese.\n",
    "\n"
   ]
  },
  {
   "cell_type": "markdown",
   "metadata": {},
   "source": [
    "# Referências\n",
    "\n",
    "\n",
    "## Referências Básicas\n",
    "\n",
    "* https://www.edureka.co/blog/math-and-statistics-for-data-science/\n",
    "* https://github.com/r0f1/datascience\n",
    "* http://benalexkeen.com/basic-statistics-in-python/\n",
    "* https://www.dataquest.io/blog/basic-statistics-with-python-descriptive-statistics/\n",
    "* https://realpython.com/python-statistics/\n",
    "* Representação de dados: https://scipy-lectures.org/packages/statistics/index.html#data-representation-and-interaction\n",
    "* Aplicações de estatística descritiva: https://www.datacamp.com/community/tutorials/demystifying-crucial-statistics-python\n",
    "* https://www.datacamp.com/community/tutorials/demystifying-crucial-statistics-python\n",
    "\n",
    "\n",
    "## Paradoxo de Simpson\n",
    "\n",
    "* https://www.picostat.com/dataset/r-dataset-package-datasets-ucbadmissions\n",
    "* https://stat.ethz.ch/R-manual/R-devel/library/datasets/html/UCBAdmissions.html\n",
    "* http://jse.amstat.org/v22n1/mickel.pdf\n",
    "* https://vincentarelbundock.github.io/Rdatasets/datasets.html\n",
    "* https://towardsdatascience.com/simpsons-paradox-how-to-prove-two-opposite-arguments-using-one-dataset-1c9c917f5ff9\n",
    "* https://static.googleusercontent.com/media/research.google.com/pt-BR//pubs/archive/42901.pdf\n",
    "* https://github.com/Murillo/Data-Science-Udacity/blob/master/Intro%20Data%20Science/1.%20Introduction/Simpson-Paradox/Berkeley.csv\n"
   ]
  },
  {
   "cell_type": "code",
   "execution_count": null,
   "metadata": {},
   "outputs": [],
   "source": []
  }
 ],
 "metadata": {
  "hide_input": false,
  "kernelspec": {
   "display_name": "Python 3",
   "language": "python",
   "name": "python3"
  },
  "language_info": {
   "codemirror_mode": {
    "name": "ipython",
    "version": 3
   },
   "file_extension": ".py",
   "mimetype": "text/x-python",
   "name": "python",
   "nbconvert_exporter": "python",
   "pygments_lexer": "ipython3",
   "version": "3.7.4"
  },
  "latex_envs": {
   "LaTeX_envs_menu_present": true,
   "autoclose": false,
   "autocomplete": true,
   "bibliofile": "biblio.bib",
   "cite_by": "apalike",
   "current_citInitial": 1,
   "eqLabelWithNumbers": true,
   "eqNumInitial": 1,
   "hotkeys": {
    "equation": "Ctrl-E",
    "itemize": "Ctrl-I"
   },
   "labels_anchors": false,
   "latex_user_defs": false,
   "report_style_numbering": false,
   "user_envs_cfg": false
  },
  "toc": {
   "base_numbering": 1,
   "nav_menu": {},
   "number_sections": true,
   "sideBar": true,
   "skip_h1_title": false,
   "title_cell": "Table of Contents",
   "title_sidebar": "Contents",
   "toc_cell": false,
   "toc_position": {},
   "toc_section_display": true,
   "toc_window_display": true
  },
  "varInspector": {
   "cols": {
    "lenName": 16,
    "lenType": 16,
    "lenVar": 40
   },
   "kernels_config": {
    "python": {
     "delete_cmd_postfix": "",
     "delete_cmd_prefix": "del ",
     "library": "var_list.py",
     "varRefreshCmd": "print(var_dic_list())"
    },
    "r": {
     "delete_cmd_postfix": ") ",
     "delete_cmd_prefix": "rm(",
     "library": "var_list.r",
     "varRefreshCmd": "cat(var_dic_list()) "
    }
   },
   "types_to_exclude": [
    "module",
    "function",
    "builtin_function_or_method",
    "instance",
    "_Feature"
   ],
   "window_display": false
  }
 },
 "nbformat": 4,
 "nbformat_minor": 4
}
